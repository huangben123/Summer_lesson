{
 "cells": [
  {
   "cell_type": "markdown",
   "metadata": {
    "id": "EB7CCA4B75194BAF8F1BDD10C3B7C206",
    "runtime": {
     "status": "default",
     "execution_status": null
    },
    "jupyter": {},
    "scrolled": false,
    "tags": [],
    "slideshow": {
     "slide_type": "slide"
    },
    "notebookId": "647979295b5b58e99a6ce60e"
   },
   "source": [
    "## 任务描述  \n",
    "<br/>  \n",
    "\n",
    "**本次实践使用Python来爬取豆瓣网中《速度与激情10》下所有的评论，进行了一波分析，从观众的角度来了解这部电视剧。**  \n",
    "\n",
    "数据获取：https://movie.douban.com/subject/26631790/reviews  \n",
    "\n",
    "![Image Name](https://cdn.kesci.com/upload/rvm17lthg3.jpg?imageView2/0/w/960/h/960)  \n"
   ]
  },
  {
   "cell_type": "markdown",
   "metadata": {
    "id": "F76B2B1365ED48A89A025CAD31F8A6CE",
    "runtime": {
     "status": "default",
     "execution_status": null
    },
    "jupyter": {},
    "scrolled": false,
    "tags": [],
    "slideshow": {
     "slide_type": "slide"
    },
    "notebookId": "647979295b5b58e99a6ce60e"
   },
   "source": [
    "<br/>  \n",
    "\n",
    "**上网的全过程:**  \n",
    "\n",
    "    普通用户:  \n",
    "\n",
    "    打开浏览器 --> 往目标站点发送请求 --> 接收响应数据 --> 渲染到页面上。  \n",
    "\n",
    "    爬虫程序:  \n",
    "\n",
    "    模拟浏览器 --> 往目标站点发送请求 --> 接收响应数据 --> 提取有用的数据 --> 保存到本地/数据库。  \n",
    "\n",
    "\n",
    "**爬虫的过程**：  \n",
    "\n",
    "    1.发送请求（requests模块）  \n",
    "\n",
    "    2.获取响应数据（服务器返回）  \n",
    "\n",
    "    3.解析并提取数据（BeautifulSoup查找或者re正则）  \n",
    "\n",
    "    4.保存数据  \n",
    "\n",
    "\n"
   ]
  },
  {
   "cell_type": "markdown",
   "metadata": {
    "id": "C6B39211A1264E5487874F2474540EC2",
    "runtime": {
     "status": "default",
     "execution_status": null
    },
    "jupyter": {},
    "scrolled": false,
    "tags": [],
    "slideshow": {
     "slide_type": "slide"
    },
    "notebookId": "647979295b5b58e99a6ce60e"
   },
   "source": [
    "**PS:如果爬取不到数据或者遇到报错,可能是由于遇到了服务器端反爬虫机制,需要更换目标网址或根据不同的反爬措施采取不同的解决办法.下面列出几种常见的反爬问题及解决办法:**  \n",
    "\n",
    "1.UserAgent被屏蔽  \n",
    "\t可收集整理常见的UserAgent以供使用或使用第三方库--fake_useragent.  \n",
    "\n",
    "2.IP被屏蔽  \n",
    "\t使用代理IP,网上有很多免费代理和付费代理可供选择，除此之外，我们还可以建一个属于自己的代理池以供使用.  \n",
    "\n",
    "3.Referer防盗链  \n",
    "\t在请求头headers中添加Referer字段以及相应的值。  \n"
   ]
  },
  {
   "cell_type": "markdown",
   "metadata": {
    "id": "FFA608C3430E4D27815B7D17F4D9C44B",
    "runtime": {
     "status": "default",
     "execution_status": null
    },
    "jupyter": {},
    "scrolled": false,
    "tags": [],
    "slideshow": {
     "slide_type": "slide"
    },
    "notebookId": "647979295b5b58e99a6ce60e"
   },
   "source": [
    "\n",
    "<br/>  \n",
    "\n",
    "**本实践中将会使用以下两个模块，首先对这两个模块简单了解以下：**"
   ]
  },
  {
   "cell_type": "markdown",
   "metadata": {
    "id": "62434C7A2F1F43748098585283F28572",
    "runtime": {
     "status": "default",
     "execution_status": null
    },
    "jupyter": {},
    "scrolled": false,
    "tags": [],
    "slideshow": {
     "slide_type": "slide"
    },
    "notebookId": "647979295b5b58e99a6ce60e"
   },
   "source": [
    "<br/>  \n",
    "\n",
    "**request模块：**  \n",
    "\n",
    "    requests是python实现的简单易用的HTTP库，官网地址：http://cn.python-requests.org/zh_CN/latest/  \n",
    "    \n",
    "    requests.get(url)可以发送一个http get请求，返回服务器响应内容。  \n",
    "    \n",
    "    \n",
    "<br/>  \n",
    "\n",
    "**BeautifulSoup库：**  \n",
    "\n",
    "    BeautifulSoup 是一个可以从HTML或XML文件中提取数据的Python库。网址：https://beautifulsoup.readthedocs.io/zh_CN/v4.4.0/  \n",
    "    \n",
    "    BeautifulSoup支持Python标准库中的HTML解析器,还支持一些第三方的解析器,其中一个是 lxml。  \n",
    "    \n",
    "    BeautifulSoup(markup, \"html.parser\")或者BeautifulSoup(markup, \"lxml\")，推荐使用lxml作为解析器,因为效率更高。"
   ]
  },
  {
   "cell_type": "markdown",
   "metadata": {
    "id": "A1BF1327BDA245DE8BEEB77D57086D59",
    "runtime": {
     "status": "default",
     "execution_status": null
    },
    "jupyter": {},
    "scrolled": false,
    "tags": [],
    "slideshow": {
     "slide_type": "slide"
    },
    "notebookId": "647979295b5b58e99a6ce60e"
   },
   "source": [
    "# 一、数据爬取"
   ]
  },
  {
   "cell_type": "markdown",
   "metadata": {
    "id": "809950BBD77248E88E05A4261D03E154",
    "runtime": {
     "status": "default",
     "execution_status": null
    },
    "jupyter": {},
    "scrolled": false,
    "tags": [],
    "slideshow": {
     "slide_type": "slide"
    },
    "notebookId": "647979295b5b58e99a6ce60e"
   },
   "source": [
    "### 1.1、爬取豆瓣网中《速度与激情10》下所有的评论  \n",
    "发送请求返回页面数据"
   ]
  },
  {
   "cell_type": "code",
   "metadata": {
    "collapsed": false,
    "id": "2AAF10EFF4EF4201B96AC091A3D48409",
    "jupyter": {},
    "scrolled": false,
    "tags": [],
    "slideshow": {
     "slide_type": "slide"
    },
    "notebookId": "647979295b5b58e99a6ce60e",
    "trusted": true,
    "ExecuteTime": {
     "end_time": "2023-06-19T11:55:13.263591900Z",
     "start_time": "2023-06-19T11:55:13.232831200Z"
    }
   },
   "source": [
    "import json\n",
    "import re\n",
    "import requests\n",
    "from bs4 import BeautifulSoup\n",
    "\n",
    "\n",
    "def crawl_data(crawl_url):\n",
    "    '''\n",
    "    爬取豆瓣《速度与激情10》影评信息，返回response,并进行解析\n",
    "    '''\n",
    "    headers = {\n",
    "        'user-agent':\n",
    "            \"'Mozilla/5.0 (Windows NT 10.0; Win64; x64) AppleWebKit/537.36 (KHTML, like Gecko)'\"\n",
    "        ,\n",
    "        'cookie':\n",
    "            'bid=IvtJHpetnDo; __yadk_uid=DFV1ZTyivH9ZbPq3MFJQUVWZcBNYM566; ll=\"108258\"; __utmz=30149280.1686793317.4.3.utmcsr=baidu|utmccn=(organic)|utmcmd=organic; __utmz=223695111.1686793321.3.2.utmcsr=douban.com|utmccn=(referral)|utmcmd=referral|utmcct=/; _pk_id.100001.4cf6=5737f89bf3526cf1.1681452459.; _vwo_uuid_v2=D0141D5CCE68AEB41C766B408768FB3A4|3b438585d5e7d6f65d2af226ce626fe1; __gads=ID=9bdc14de8e1a2959-2240c51394de002a:T=1681452459:RT=1686793345:S=ALNI_MZD1_aD7LqfrUOMeMqYvydFFGhHJw; __gpi=UID=00000bf4641d88a5:T=1681452459:RT=1686793345:S=ALNI_MYKd2nmI437u9xtmQy4ACXQW7xktg; _pk_ref.100001.4cf6=%5B%22%22%2C%22%22%2C1687173941%2C%22https%3A%2F%2Fwww.douban.com%2F%22%5D; _pk_ses.100001.4cf6=1; __utma=30149280.573424069.1681452459.1686798082.1687173942.6; __utmb=30149280.0.10.1687173942; __utmc=30149280; __utma=223695111.255182283.1681452459.1686798082.1687173942.5; __utmb=223695111.0.10.1687173942; __utmc=223695111; ap_v=0,6.0; ucf_uid=553f38e2-4761-4e22-ae3e-c9629f76ee0d; _pbjs_userid_consent_data=3524755945110770; cto_bundle=mu-kkF9UM2glMkZrbjhuN3JPamMlMkJOMDdsb0w0ckVCektyVGRwczUzeTJPVUN3QW5CbFdkVG5VY2NST255OUtFcmZqODNDTEVlWlhkUGxyd21ITTE1YkR6ZU5EQVdQWG9ZN05ZemlCbWU0dlNYZXhSSDZVU1FGeTg4UlJRZG9FZENTWnR4QXBnMmdrcG80WE94ZEluQkdMSTIwQXpBJTNEJTNE; cto_bidid=ryCfeV9Fc2U5b1gyVlFUSFB4ZkRZZTVoRTlaY3dNVUpQQ2k1aGZ4Q0xMUUlSZFZKejhEUUVCU1lXdWxoUzFZSEdoJTJCcG0xaWJQbWQ1cVlicG9QTWRURkVRUmlSM0glMkIlMkJyWmZBWUNKUCUyRmFWdHJDemlRJTNE'\n",
    "    }\n",
    "    \n",
    "    url = 'https://movie.douban.com/subject/26631790/reviews'+crawl_url\n",
    "    try:\n",
    "        response = requests.get(url, headers=headers)\n",
    "        #print(response.status_code)     \n",
    "        parse(response)\n",
    "    except Exception as e:\n",
    "        print(e)"
   ],
   "outputs": [],
   "execution_count": 4
  },
  {
   "cell_type": "markdown",
   "metadata": {
    "id": "96A8F6E37082439FB8E4BB680E1C8F24",
    "runtime": {
     "status": "default",
     "execution_status": null
    },
    "jupyter": {},
    "scrolled": false,
    "tags": [],
    "slideshow": {
     "slide_type": "slide"
    },
    "notebookId": "647979295b5b58e99a6ce60e"
   },
   "source": [
    "### 1.2、对爬取的页面数据进行解析  \n",
    "并保存为JSON文件"
   ]
  },
  {
   "cell_type": "code",
   "metadata": {
    "collapsed": false,
    "id": "95C75C023F044B3B9DA27F07907DD2D6",
    "jupyter": {},
    "scrolled": true,
    "tags": [],
    "slideshow": {
     "slide_type": "slide"
    },
    "notebookId": "647979295b5b58e99a6ce60e",
    "trusted": true,
    "ExecuteTime": {
     "end_time": "2023-06-19T11:57:59.877068600Z",
     "start_time": "2023-06-19T11:55:44.122659700Z"
    }
   },
   "source": [
    "\n",
    "item_list = []  \n",
    "authors=[]\n",
    "pub_times=[]\n",
    "ratings=[]\n",
    "titles=[]\n",
    "contents=[]\n",
    "\n",
    "def parse(response):\n",
    "    '''\n",
    "    从豆瓣返回的html中解析得到选手信息，存JSON文件,保存到work目录下\n",
    "    '''\n",
    "    item = {}\n",
    "    # 将一段文档传入BeautifulSoup的构造方法,就能得到一个文档的对象, 可以传入一段字符串\n",
    "    soup = BeautifulSoup(response.text, 'lxml')\n",
    "\n",
    "    # 返回的是class为“main review-item”的所有<div>标签\n",
    "    review_list = soup.find_all('div', {'class': 'main review-item'})\n",
    "\n",
    "    for review_div in review_list:\n",
    "        # 作者\n",
    "        author = review_div.find('a', {'class': 'name'}).text\n",
    "        author = str_format(author)\n",
    "        # 发布时间\n",
    "        pub_time = review_div.find('span', {'class': 'main-meta'}).text\n",
    "        # 评分\n",
    "        rating = review_div.find('span', {'class': 'main-title-rating'})\n",
    "        if rating:\n",
    "            rating = rating.get('title')\n",
    "        else:\n",
    "            rating = \"\"\n",
    "        # 标题\n",
    "        title = review_div.find('div', {'class': 'main-bd'}).find('a').text\n",
    "\n",
    "        # 是否有展开按钮\n",
    "        is_unfold = review_div.find('a', {'class': 'unfold'})\n",
    "        if is_unfold:\n",
    "            # 获取评论id\n",
    "            review_id = review_div.find('div', {'class': 'review-short'}).get('data-rid')\n",
    "            # 根据评论id，获取被折叠的评论内容\n",
    "            content = get_fold_content(review_id)\n",
    "        else:\n",
    "            content = review_div.find('div', {'class': 'short-content'}).text\n",
    "        if content:\n",
    "            content = re.sub(r\"\\s\", '', content)\n",
    "\n",
    "        item = {\n",
    "            \"author\":author,\n",
    "            \"pub_time\":pub_time,\n",
    "            \"rating\":rating,\n",
    "            \"title\":title,\n",
    "            \"content\":content\n",
    "        }\n",
    "        # print(item)\n",
    "        item_list.append(item)\n",
    "        authors.append(author)\n",
    "        pub_times.append(pub_time)\n",
    "        ratings.append(rating)\n",
    "        titles.append(title)\n",
    "        contents.append(content)\n",
    "    \n",
    "    # 如果有下一页\n",
    "    next_url = soup.find('span', {'class': 'next'}).find('a')\n",
    "\n",
    "    if next_url:\n",
    "        # 请求下一页的数据\n",
    "        crawl_data(next_url.get('href'))\n",
    "    else:\n",
    "        pass\n",
    "\n",
    "\n",
    "\n",
    "\n",
    "def get_fold_content(review_id):\n",
    "    '''\n",
    "    根据评论id，获取被折叠的评论内容\n",
    "    '''\n",
    "    headers = {\n",
    "        'User-Agent': 'Mozilla/5.0 (Windows NT 10.0; Win64; x64) AppleWebKit/537.36 (KHTML, like Gecko) Chrome/80.0.3987.132 Safari/537.36'\n",
    "    }\n",
    "    url = \"https://movie.douban.com/j/review/{}/full\".format(review_id)\n",
    "\n",
    "    resp = requests.get(url,headers=headers)\n",
    "    data = resp.json()\n",
    "\n",
    "    content = data['html']\n",
    "    content = re.sub(r\"(<.+?>)\",\"\",content)\n",
    "\n",
    "    #去除content中双引号和单引号\n",
    "    content = str_format(content)\n",
    "    return content\n",
    "    \n",
    "\n",
    "def str_format(line):\n",
    "    '''\n",
    "    去除content中特殊字符，单引号、双引号、反斜杠\n",
    "    '''\n",
    "    error_list = ['\\'','\\\"','\\\\',',']\n",
    "    for c in line:\n",
    "        if  c in error_list:\n",
    "            line=line.replace(c,'')\n",
    "    return line\n",
    "    \n",
    "\n",
    "if __name__=='__main__':\n",
    "    start_url = '?sort=time&start=0'\n",
    "\n",
    "    crawl_data(start_url)\n",
    "\n",
    "    #将所爬取的数据，保存为JSON文件\n",
    "    json_data = json.loads(str(item_list).replace(\"\\'\",\"\\\"\").replace(\"\\\\\",\"\"))\n",
    "    with open('./reviews.json', 'a', encoding='UTF-8') as f:        \n",
    "        json.dump(json_data, f, ensure_ascii=False)\n",
    "    print(item_list[:5])\n",
    "    print(\"爬取完成，共爬取%d条数据\"% len(item_list))"
   ],
   "outputs": [
    {
     "name": "stdout",
     "output_type": "stream",
     "text": [
      "[{'author': '犹存', 'pub_time': '2023-06-19 07:00:55', 'rating': '推荐', 'title': '速度与激情10', 'content': '推荐指数：⭐⭐⭐⭐类型：动作导演：路易斯·来特里尔上映日期：2023.05.19时长：140分钟语种：英语---上一次看这个系列好像是大一的时候，看的貌似是第七部，后面的第八部好像也看了，但是没什么印象了，就记得刚开场的时候四辆汽车从飞机上下来。当时直呼好家伙，看完第十部之后才发现这也是常规操作。现在动作片是跟旅游片和科幻片组了cp吗？还以为只能有幸从柯南这种动画上看得到炸水库，并且从水库上一冲而下的镜头呢。不是......我就感觉挺敢拍的。可以理解拍这种电影成本肯定挺高的，风险也很大，而且各个国家都去，就挺烧钱的。电影票贵是正常的，毕竟两个小时的时长在这儿摆着，人们来电影院看就是想过瘾找刺激的。但是但是但是，多少是有点离谱吧。咱不能为了刺激而不顾规律啊。好吧，为了票房和回本确实能。看电影也有一年半了，突然感觉我自己对自己的喜好有了更深一层的了解。比起疯狂刺激大脑分泌多巴胺快感的电影，更喜欢这种有内涵，能看出门道类别的电影。可以不安静，但是一定要让人觉得有深度。比如《十二怒汉》这种，完全黑白，但是张力十足。在一间屋子里拍出来的电影，纯纯靠表演带动，但是节奏张弛有度，字字珠玑，这就是电影的表现力。还有《控方证人》这种反转反转再反转的电影，也是黑白片，剧情完全能给拉上去也很棒。侦探片的话阿婆的一些小说改编的也是去风光美丽的地方拍摄的，但是主题仍然是剧情本身。这种满世界乱转的，除了让人觉得花钱了物超所值之外，我真没觉得在脑子里留下了什么东西。哦对了，最后竟然还没拍完。怎么炸水库之后还能活下来啊！！！这种吊胃口的操作也并不少见，但放在这里就多少感觉有些恶劣了。最后说一句，意大利语还挺好听的，这种尾音往下压的调调听起来好有趣。总是想起《美丽人生》的那句Buongiornoprincipessa.'}, {'author': '机器の猫', 'pub_time': '2023-06-18 16:25:31', 'rating': '力荐', 'title': '影评+全剧情介绍', 'content': '全片的观影节奏比起看的令人昏昏欲睡的九代要好很多，本片中基本每段小文戏之后都会紧跟一场数十分钟的大场面战斗，让人看的是目不暇接；另外本作的反派是一个彻头彻尾的疯批，海王将这个角色刻画的非常给力，这比起9代那令人费解的兄弟相残，结局一下子又握手言和加入伐木累的套路要棒很多；片中也复刻了好几个前几部出现过的经典场景，同时还将前作出现的人气角色给复活了，大大的满足了一直在追这个系列的老粉心愿；对我个人而言，结尾的戛然而止并不是缺点，因为上映前就说过会分几部来拍终章，而且按照影片的这种节奏，还不结尾的话肯定会让观众感到视觉疲劳了，因为电影已经狂轰滥炸了两个多小时，所以该断的地方还是得断，把剩下更多的大场面留给下一部去发挥未必也不是坏事，但电影里唯一让我觉得诟病的就只有男主那不忍直视的演技了，他全程只有几个表情，甚至自己的亲兄弟在面前死去都依然可以做到面不改色，毫无波澜，可谓是最佳情绪管理大师，看的我是尴尬无比...剧情讲的是男主一行前作中在巴西偷走了当地地头蛇的大保险柜时，在高速路桥上把来追逐他们的那个地头蛇儿子的车给撞翻进了海里，他掉进海里后没想到并没有被淹死，他突然睁开了双眼，往水面上游去，躲过了一劫，很快他就得知自己的父亲已经在那条高速路上被男主一行杀害，他为了帮助父亲报仇雪恨，调查了男主一行的资料，并伙同自己在银行里有过一面之缘的人一起开展自己的复仇计划，那个人还逐渐攀升到了特工组的新任队长，反派看到时机成熟了，便开始找上了男主一行的麻烦。反派首先找到了第八部和第九部中的女反派，因为他需要前作反派所掌握的类似远程控制车辆等等这样的尖端技术，因此他直接绑了前作反派全部手下的家人，逼迫他们反水跟着自己干，这个计划也十分成功的奏效了，反派抢走了女反派的科技，并下令手下干掉女反派，最后女反派凭借自己的实力艰难的杀出来了一条血路，成功逃跑，她认为是时候找男主和解了，一起对付这个共同的敌人，就去到了男主家里，和男主讲明白了事情的缘由，男主一行因为她在前几部干的事情自然是不会给她好脸色看，第二天一早就把她交给了特工组的人，同时他很担心去罗马帮特工组干脏活的罗曼一行人会遭到反派袭击，所以也赶赴了意大利。意大利这边，罗曼他们一行人接到的任务是去抢夺一辆载有超级芯片的卡车，经过几人的通力合作很快便夺下了那个卡车，结果没想到那个卡车竟然被人远程操控了，而且卡车装的也不是什么芯片，而是一个威力无比的炸弹，其实这一切的背后就是反派搞的，他通过在特工组的那位朋友，给罗曼一行人安排了假任务，从而陷害他们运炸弹意图炸毁梵蒂冈，反派正在不远处操控着那个卡车到预定爆炸地点，这时男主一行也赶到了，意识到情况的危急后，他果断采取行动，把那颗炸弹从车里撞出来了，之后那个球形的大炸弹便在市区里肆意滚动，男主一路追踪炸弹，想找机会将其停下来好让拆弹组拆弹，但那个球无论如何也停不下来，眼看球很快就滚到预设的爆炸点了，刚好有个桥，男主急中生智在炸弹爆炸前的几秒钟，成功用自己的车把那颗炸弹撞到了海里，随后炸弹在海里爆炸，极大的降低了杀伤力，反派见此状况，直接安排男主一行上了全球通缉名单，并诬陷是他领导的飞车党意图使用炸弹袭击城市，结果男主的老婆被当场逮捕，其余的成员幸运逃脱，和男主分头行事。男主在特工组里也有会为他提供情报的人，他偷偷和这个线人碰了面，她告诉了男主现在全世界的人都在抓捕男主和其团队的事实，同时她也告诉了男主真正的幕后黑手是曾经被男主杀害的那个巴西地头蛇的儿子，男主得知后，决定前往巴西会一下反派。这时特工组突袭了男主老家，意图抓走男主儿子，可男主的弟弟根据男主的安排出现救场，在老家和特警大战了几回合，成功的将男主儿子带上了车，准备开去和男主约定好的会面点。男主去到巴西后，去到了曾经熟悉的飙车点见了几位老朋友，同时向他们打听反派的消息，反派其实早就在那里等候了多时，并邀请男主和他一起赛车，男主答应了，没想到他在飙车时使诈，用炸弹杀死了男主的一个朋友，他正打算炸死另一个人时，男主及时反应过来，将她车底下的那个炸弹给撞击了下来，救下了那个女孩一命。罗曼一行这边和男主分开后，到达了伦敦逃过了警方追捕，他们想去帮助男主，可他们的银行账户全被黑了，分毛不剩，还好罗曼身上带了私房钱，他们去了一家黑店打算购置装备，但反被店长泄露行踪，他们只好离开，正一筹莫展之际，他们想起来郭达也在这里，他们便动身去到了郭达的藏身处，郭达看到之前以为被自己已经杀害的韩还没死后，和他继续又干了一架，打着打着没想到特工已经包围了这里，两人便握手言和化解了矛盾，一起对付这些不速之客，把他们全部干趴下后，罗曼一行和郭达说明了情况，郭达听完后，拿起自己军火库里的全部武器就一个人开着车，说要去找反派算账去了，把剩下的东西留给罗曼一行使用，罗曼一行就开着飞机前往了巴西。男主老婆这边遭到逮捕后，被关到了秘密监狱里，男主的那个线人过来帮她越狱，便趁和她谈话时假装被她威胁，最后男主老婆成功的被送到了禁闭室去，禁闭室里除了男主老婆外还有一人，那人正是之前被男主送到监狱里的前作女反派，那个女反派和男主老婆说自己已经通过修改了催眠剂的程序，让它往管理处喷了，现在全部人都会陷入昏迷，是逃出去的好时机，因为这里有个通风管道是可以通往外面的，男主老婆听完后，二话不说就先揍了女反派一顿，接着两个人就在禁闭室里开启了女子搏斗桥段，打的有来有回，最后两个人都打累了，便开始了合作，一起通过通风管道上到了地面去，原来这里是南极洲，女反派对男主老婆说她有计划可以离开南极，男主老婆便跟着女反派一起走了。男主在巴西通过调查，得知反派还剩下唯一的一个房产，男主决定去那里碰碰运气，过去后发现踩入了反派的陷阱，这里已经被特工包围了，男主最后遭到特工逮捕，押送男主的车队在中途遭到反派的导弹袭击，男主因此得以逃脱，在高速路上和反派进行了对枪，最后反派明显处于劣势，便抢走了男主在特工组那个线人手里面的天眼系统，扬言要抓走男主儿子，男主很生气，但无奈追不上直升机的速度，这样一来，自己的冤屈也洗清了，他马上联络特工组的队长要一架飞机接送他去到和儿子的会合点救自己儿子，他们便同意了。男主弟弟这时也把男主儿子送到了会合点，但没过多久救被雇佣兵袭击，男主弟弟连忙开着自己研发的可以往后射炮弹的车带着男主儿子逃亡，最后他们一路狂轰滥炸到了高速公路上，男主这时通过飞机也在高速路上发现了自己的弟弟和儿子，他开着一辆车直接从飞机上从头而降加入战场，接着兄弟合作一起对付追兵，可他依然还是没能保护好男主儿子，男主儿子被一路追击的反派中途拉往了自己车上，这时男主弟弟的车也失去了动力，他为了帮助男主能够尽快救出儿子，舍生取义，撞向反派安排在前方堵截的手下，为男主炸开了一条通路，男主也不负众望，运用计谋成功让反派的车打滑转圈，最后趁机让儿子跳到自己车里，成功的救回了儿子，反派很生气，绕了条路离开了。男主和儿子继续往特工组队长制定的会合地点开，中途开到了一个水坝处，没想到的是反派已经在这里等候多时了，他对着男主说要给男主一个惊喜，很快映入眼帘的是罗曼一行的飞机，反派一声令下，站在远处的人对着飞机开了一炮。随后飞机便坠毁爆炸，男主细细一看才发现那个开炮的人就是特工组队长，这时男主才发现原来他和反派是合作关系，但此时已经晚了，反派还远程操控了两辆油罐车堵住了水坝的两个出口，想把夹在中间的男主一行直接撞爆，男主见状便殊死一搏，直接撞下了道路旁边的护栏冲了下去，两辆油罐车相撞后产生了剧烈爆炸，男主运用自己的神车技和氮气加速，成功的从火海突围，沿着水坝墙壁垂直的往下开，最后冲入了河里，躲过一劫，反派见男主没死，准备引爆整个水坝的炸弹，男主一行是死是活，且听下回分解，影片结束。在剧情介绍部分，我个人如果有理解错误的地方欢迎各位友邻在评论区指正！'}, {'author': '淡水大白菜', 'pub_time': '2023-06-18 16:24:44', 'rating': '很差', 'title': '我看速度与激情唯一的目的就是看看唐老大啥时候躺', 'content': 'RT，就希望看着他躺下，这个逼王，看着真的是够够的了，就是纯恶心人了现在，伐木累你妹啊伐木累，另外这个编剧脑子没有30年的脑血栓估计很难写出这样的剧本，这和速度与激情1、2差距实在是太大了。我真想问问，你这拍的都是些什么玩意~你这拍的都是些什么玩意~你这拍的都是些什么玩意~你这拍的都是些什么玩意~你这拍的都是些什么玩意~你这拍的都是些什么玩意~你这拍的都是些什么玩意~你这拍的都是些什么玩意~你这拍的都是些什么玩意~你这拍的都是些什么玩意~你这拍的都是些什么玩意~'}, {'author': '钱可乐', 'pub_time': '2023-06-18 10:49:24', 'rating': '推荐', 'title': '依然速度 十分激情', 'content': '生病了，终于可以早点下班。难得看见天还亮，不舍得直接回家，于是磨着猫猫去看电影，就选了这部。早些年其实对《速度与激情》系列不感冒，但这些年突然就喜欢上了这些画面刺激的影片，甚至可以为此抛弃剧情线和牛律定律，好看就完事了。事实上也确实不负所期，挺好的。【剧透开始】主角团接到保密局任务前往罗马截车，出发后男主迎来上部女反派投资，得知一切是骗局，是多年前干死的某顶级富豪儿子但丁回来复仇了。但丁知道男主注重家人，故就是要他体验失去家人的痛苦。保密局无名氏失踪，接管的人也是但丁帮派，全力捉拿主角团。无名氏女儿泰丝帮助下，男主到了罗马，救下了家人，阻止了爆炸。随后但丁一点点捉拿其家人，男主逐一赶到救援，期间雅各布叔叔牺牲，最后男主和儿子到了水坝下，但丁准备摁下炸毁水坝的按钮。【剧透结束】嗯，没错，就在“准备摁下按钮”那里，故事戛然而止。话说最近看的蜘蛛侠和速度激情怎么都这套路，都是没好好讲完故事。留悬念我懂，引出下一部的故事嘛，但这两部电影都不是引子的问题啊，就是一个故事没讲完，就像放到一半突然给你断了，想看后面的？等着吧。就，不太爽。不过说回来，影片还不错。之前看评论分数不是很高，还有点担心呢。原来只是说剧情不合理啊（反正我压根记不住谁是谁，之前做了什么，每一部都是全新的，无影响），还有违背物理学基本定理。呃，有一说一，这种影片，看剧情那纯属找虐，至于物理学定理，确实，两架直升飞机拖着都没把小跑车拎起来的时候，我是觉得有些违和，但只要没离地，一切皆有可能。最后是不得不提的但丁了，海王本王。那肥肥的肚腩哦，穿着粉色睡衣扎着两个小球球涂着指甲油，一言一行变态又风骚，真的是辣眼睛。但，也正因为有他，整部影片才显得没那么枯燥呢。毕竟看着男主温情时刻的时候，我是很想摁快进键的。可再激情的影片也不能一路狂飙，所以还是很感谢海王的呢，贡献了这样一个角色。还有神奇女侠海王惊奇队长的梦幻联动，有意思。以上。观看时间：20230612'}, {'author': '清醒欢喜', 'pub_time': '2023-06-18 00:28:20', 'rating': '推荐', 'title': '成长与进步', 'content': '把我们记在心里，这样你就永远不会迷路。影片开头的是地狱猫吗？太帅了美式肌肉车相当经典你选择了一条孤独的路，亲爱的没人能陪你走下去感觉没有以前速度以激情的质量高了，也可能是看定影的心态和思想发生了一些变化。片中，多处的情节安排还是很不合理的。比如在桥上枪战的时候，特工局的人穿着防弹衣就没事，还是躺下了，等到对面人走了才站起来。电影中很好的一点是能够融入现代科技，将无人驾驶融入到电影当中，这无疑是对无人驾驶最好的宣传，国内电影值得学习的地方。同时，电影的最后，驾驶最后还是胜过无人驾驶，也暗示着技术是人为制造的，终究还是无法超越人，即是科技，也是以人为本，很不错的想法。速激10里面还很好的融入了家文化，这不正是我们国家数千年来一直在坚守的。之前电影中更多的是个人英雄主义，这部影片中在保留宣传个人英雄主义的同时，还能够兼顾团队和家文化，多了“顾后”的元素。在剧情的编排上还是漏洞百出，但是也看到了这一系列电影很大的进步，主要是在文化元素方面。速激系列进步很大的一部了，如果能够在剧情编排上再严谨一些，这一定是这一系列史上最完美的一部。不严谨举例：男孩出水后，头发没湿，太明显了吧。（片中还有很多，不一一列举）在影片的最后，还是给下一部埋下了种子。'}]\n",
      "爬取完成，共爬取570条数据\n"
     ]
    }
   ],
   "execution_count": 5
  },
  {
   "cell_type": "markdown",
   "metadata": {
    "id": "2BB8DE19F9894151A419ABD47E16EBDF",
    "runtime": {
     "status": "default",
     "execution_status": null
    },
    "jupyter": {},
    "scrolled": false,
    "tags": [],
    "slideshow": {
     "slide_type": "slide"
    },
    "notebookId": "647979295b5b58e99a6ce60e"
   },
   "source": [
    "# 二、数据分析  \n",
    "\n",
    "基于所爬取的《速度与激情10》影评信息，分别从评论时间、评分、评论内容进行数据可视化分析。  \n"
   ]
  },
  {
   "cell_type": "markdown",
   "metadata": {
    "id": "07507146ECF3455A91FD13D8F6FA975E",
    "runtime": {
     "status": "default",
     "execution_status": null
    },
    "jupyter": {},
    "scrolled": false,
    "tags": [],
    "slideshow": {
     "slide_type": "slide"
    },
    "notebookId": "647979295b5b58e99a6ce60e"
   },
   "source": [
    "<br/>  \n",
    "\n",
    "**开始之前，导入必要的python包**  \n",
    "<br/>"
   ]
  },
  {
   "cell_type": "code",
   "metadata": {
    "collapsed": false,
    "id": "320FDB61C18D4A2D8326E8154B0DB358",
    "jupyter": {},
    "scrolled": false,
    "tags": [],
    "slideshow": {
     "slide_type": "slide"
    },
    "notebookId": "647979295b5b58e99a6ce60e",
    "trusted": true
   },
   "source": [
    "import json\n",
    "import pandas as pd\n",
    "import numpy as np\n",
    "import matplotlib.pyplot as plt\n",
    "from matplotlib import cm\n",
    "import seaborn as sns\n",
    "import jieba\n",
    "import collections\n",
    "# import wordcloud\n",
    "\n",
    "import warnings\n",
    "warnings.filterwarnings('ignore')"
   ],
   "outputs": [],
   "execution_count": null
  },
  {
   "cell_type": "markdown",
   "metadata": {
    "id": "BF5185EF7CDD433CBA8BEBC7C0C09D80",
    "runtime": {
     "status": "default",
     "execution_status": null
    },
    "jupyter": {},
    "scrolled": false,
    "tags": [],
    "slideshow": {
     "slide_type": "slide"
    },
    "notebookId": "647979295b5b58e99a6ce60e"
   },
   "source": [
    "<br/>  \n",
    "\n",
    "**读取数据，并进行预处理**  \n",
    "\n",
    "将JSON格式的数据转成DataFrame，毕竟数据分析用DataFrame格式会方便很多。代码如下：  \n",
    "<br/>"
   ]
  },
  {
   "cell_type": "code",
   "metadata": {
    "collapsed": false,
    "id": "1D6F8085DAEF4D5AB842A3093A2A8F60",
    "jupyter": {},
    "scrolled": false,
    "tags": [],
    "slideshow": {
     "slide_type": "slide"
    },
    "notebookId": "647979295b5b58e99a6ce60e",
    "trusted": true
   },
   "source": [
    "review_df = pd.DataFrame()\n",
    "# columns=['author','pub_time','rating','title','content']\n",
    "review_df['author']=authors\n",
    "review_df['pub_time']=pub_times\n",
    "review_df['rating']=ratings\n",
    "review_df['title']=titles\n",
    "review_df['content']=contents\n",
    "\n",
    "review_df.head()"
   ],
   "outputs": [],
   "execution_count": null
  },
  {
   "cell_type": "code",
   "metadata": {
    "id": "C7BAE50686BA42A19779DA7F05C63F66",
    "notebookId": "647979295b5b58e99a6ce60e",
    "jupyter": {},
    "collapsed": false,
    "scrolled": false,
    "tags": [],
    "slideshow": {
     "slide_type": "slide"
    },
    "trusted": true
   },
   "source": [
    "# review_df.to_csv('./fast_and_furious.csv',encoding='utf_8_sig')"
   ],
   "outputs": [],
   "execution_count": null
  },
  {
   "cell_type": "code",
   "metadata": {
    "id": "0FB109C808F542D58B446F68DDB6700B",
    "notebookId": "647979295b5b58e99a6ce60e",
    "jupyter": {},
    "collapsed": false,
    "scrolled": false,
    "tags": [],
    "slideshow": {
     "slide_type": "slide"
    },
    "trusted": true
   },
   "source": [
    "# # 删除缺失数值\n",
    "# review_df.dropna(inplace=True)\n",
    "\n",
    "# 将缺失的评论情况设置为\"放弃\"\n",
    "review_df[review_df['rating']=='']['rating'] = '放弃'\n",
    "review_df[review_df['rating']=='']['rating'] = '放弃'\n",
    "\n",
    "# # 将字符串格式的时间转换为datatime类型\n",
    "review_df['pub_time'] = pd.to_datetime(review_df['pub_time'])\n",
    "review_df.head()"
   ],
   "outputs": [],
   "execution_count": null
  },
  {
   "cell_type": "markdown",
   "metadata": {
    "id": "A5BC534E049D462D93D4DF95EDA5E5AE",
    "runtime": {
     "status": "default",
     "execution_status": null
    },
    "jupyter": {},
    "scrolled": false,
    "tags": [],
    "slideshow": {
     "slide_type": "slide"
    },
    "notebookId": "647979295b5b58e99a6ce60e"
   },
   "source": [
    "## 2.1、评论数量趋势图  \n",
    "\n",
    "评论数量随着日期的变化呈现出怎样的趋势。接下来我们就实际动手，来看看随着《速度与激情10》的正式上映，评论数量呈现出怎样的趋势。  \n",
    "\n",
    "2023年05月17日上映.代码如下：  \n"
   ]
  },
  {
   "cell_type": "code",
   "metadata": {
    "collapsed": false,
    "id": "4E3D2AA4F4574556B0E3D05B3AD53430",
    "jupyter": {},
    "scrolled": false,
    "tags": [],
    "slideshow": {
     "slide_type": "slide"
    },
    "notebookId": "647979295b5b58e99a6ce60e",
    "trusted": true
   },
   "source": [
    "# 分析评论日期 \n",
    "import re\n",
    "from matplotlib import dates\n",
    "#显示matplotlib生成的图形\n",
    "%matplotlib inline\n",
    "\n",
    "\n",
    "\n",
    "#添加一个索引“pub_date”，存储评论日期（2020年2月到3月期间）\n",
    "review_df['pub_date'] = review_df['pub_time'].dt.date\n",
    "\n",
    "review_df = review_df[pd.to_datetime(review_df['pub_date']).dt.year==2023]\n",
    "# review_df = review_df[pd.to_datetime(review_df['pub_date']).dt.month>1]\n",
    "# review_df = review_df[pd.to_datetime(review_df['pub_date']).dt.month<4]\n",
    "\n",
    "# 根据评论日期进行聚合\n",
    "review_date_df = review_df['author'].groupby(review_df['pub_date'])\n",
    "review_date_df = review_date_df.count()"
   ],
   "outputs": [],
   "execution_count": null
  },
  {
   "cell_type": "code",
   "metadata": {
    "id": "4638723BC9584C288AAAC1FD3D7EEFE8",
    "notebookId": "647979295b5b58e99a6ce60e",
    "jupyter": {},
    "collapsed": false,
    "scrolled": false,
    "tags": [],
    "slideshow": {
     "slide_type": "slide"
    },
    "hide_input": true,
    "trusted": true
   },
   "source": [
    "import pyecharts.options as opts\n",
    "from pyecharts.charts import Line\n",
    "from pyecharts.commons.utils import JsCode\n",
    "\n",
    "\n",
    "x_data = [str(i)[5:] for i in review_date_df.index]\n",
    "y_data = [int(i) for i in review_date_df.values]\n",
    "background_color_js = (\n",
    "    \"new echarts.graphic.LinearGradient(0, 0, 0, 1, \"\n",
    "    \"[{offset: 0, color: '#c86589'}, {offset: 1, color: '#06a7ff'}], false)\"\n",
    ")\n",
    "area_color_js = (\n",
    "    \"new echarts.graphic.LinearGradient(0, 0, 0, 1, \"\n",
    "    \"[{offset: 0, color: '#eb64fb'}, {offset: 1, color: '#3fbbff0d'}], false)\"\n",
    ")\n",
    "\n",
    "c = (\n",
    "    Line(init_opts=opts.InitOpts(bg_color=JsCode(background_color_js)))\n",
    "    .add_xaxis(xaxis_data=x_data)\n",
    "    .add_yaxis(\n",
    "        series_name=\"注册总量\",\n",
    "        y_axis=y_data,\n",
    "        is_smooth=True,\n",
    "        is_symbol_show=True,\n",
    "        symbol=\"circle\",\n",
    "        symbol_size=6,\n",
    "        linestyle_opts=opts.LineStyleOpts(color=\"#fff\"),\n",
    "        label_opts=opts.LabelOpts(is_show=True, position=\"top\", color=\"white\"),\n",
    "        itemstyle_opts=opts.ItemStyleOpts(\n",
    "            color=\"red\", border_color=\"#fff\", border_width=3\n",
    "        ),\n",
    "        tooltip_opts=opts.TooltipOpts(is_show=False),\n",
    "        areastyle_opts=opts.AreaStyleOpts(color=JsCode(area_color_js), opacity=1),\n",
    "    )\n",
    "    .set_series_opts(\n",
    "                markarea_opts=opts.MarkAreaOpts(\n",
    "                    data=[\n",
    "                        opts.MarkAreaItem(x=(s,e)) for s,e in zip([10],[12])\n",
    "                    ]\n",
    "                ))\n",
    "    .set_global_opts(\n",
    "        title_opts=opts.TitleOpts(\n",
    "            title=\"《速度与激情10》评论数趋势图\",\n",
    "            pos_bottom=\"90%\",\n",
    "            pos_left=\"center\",\n",
    "            title_textstyle_opts=opts.TextStyleOpts(color=\"#fff\", font_size=16),\n",
    "        ),\n",
    "        xaxis_opts=opts.AxisOpts(\n",
    "            type_=\"category\",\n",
    "            boundary_gap=False,\n",
    "            axislabel_opts=opts.LabelOpts(margin=30, color=\"#ffffff63\",rotate=50),\n",
    "            axisline_opts=opts.AxisLineOpts(is_show=False),\n",
    "            axistick_opts=opts.AxisTickOpts(\n",
    "                is_show=True,\n",
    "                length=25,\n",
    "                linestyle_opts=opts.LineStyleOpts(color=\"#ffffff1f\"),\n",
    "            ),\n",
    "            splitline_opts=opts.SplitLineOpts(\n",
    "                is_show=True, linestyle_opts=opts.LineStyleOpts(color=\"#ffffff1f\")\n",
    "            ),\n",
    "        ),\n",
    "        yaxis_opts=opts.AxisOpts(\n",
    "            type_=\"value\",\n",
    "            position=\"right\",\n",
    "            axislabel_opts=opts.LabelOpts(margin=20, color=\"#ffffff63\"),\n",
    "            axisline_opts=opts.AxisLineOpts(\n",
    "                linestyle_opts=opts.LineStyleOpts(width=2, color=\"#fff\")\n",
    "            ),\n",
    "            axistick_opts=opts.AxisTickOpts(\n",
    "                is_show=True,\n",
    "                length=15,\n",
    "                linestyle_opts=opts.LineStyleOpts(color=\"#ffffff1f\"),\n",
    "            ),\n",
    "            splitline_opts=opts.SplitLineOpts(\n",
    "                is_show=True, linestyle_opts=opts.LineStyleOpts(color=\"#ffffff1f\")\n",
    "            ),\n",
    "        ),\n",
    "        legend_opts=opts.LegendOpts(is_show=False),\n",
    "    )\n",
    ")\n",
    "c.render_notebook()\n"
   ],
   "outputs": [],
   "execution_count": null
  },
  {
   "cell_type": "markdown",
   "metadata": {
    "id": "707FA994AEC94B7FAD1589894BFB3F7D",
    "runtime": {
     "status": "default",
     "execution_status": null
    },
    "jupyter": {},
    "scrolled": false,
    "tags": [],
    "slideshow": {
     "slide_type": "slide"
    },
    "notebookId": "647979295b5b58e99a6ce60e"
   },
   "source": [
    "## 2.2、评论时间分布图  \n",
    "\n",
    "分析用户一般在哪些时间段评论得比较多。这里从0点到24点，2个小时为一个时间段统计评论数量，代码如下："
   ]
  },
  {
   "cell_type": "code",
   "metadata": {
    "id": "13C4B9E2F1AC46F684D18CEA666CEEEF",
    "notebookId": "647979295b5b58e99a6ce60e",
    "jupyter": {},
    "collapsed": false,
    "scrolled": false,
    "tags": [],
    "slideshow": {
     "slide_type": "slide"
    },
    "trusted": true
   },
   "source": [
    "import datetime\n",
    "\n",
    "#指定多个时间区间\n",
    "time_range = [0,2,4,6,8,10,12,14,16,18,20,22,24]\n",
    "\n",
    "#获取评论时间中的hour\n",
    "review_time_df = review_df['pub_time'].dt.hour\n",
    "\n",
    "#把一组数据分割成离散的区间，并获取每个区间的评论数\n",
    "#第一个参数--->review_time_df：被切分的数据；\n",
    "#第二个参数---->bins：被切割后的区间\n",
    "#第三个参数：-->right:表示是否包含区间右部\n",
    "time_range_counts = pd.cut(review_time_df,bins=time_range,right=False).value_counts()"
   ],
   "outputs": [],
   "execution_count": null
  },
  {
   "cell_type": "code",
   "metadata": {
    "id": "2292EB36271C467486D460A0E7222F86",
    "notebookId": "647979295b5b58e99a6ce60e",
    "jupyter": {},
    "collapsed": false,
    "scrolled": false,
    "tags": [],
    "slideshow": {
     "slide_type": "slide"
    },
    "hide_input": true,
    "trusted": true
   },
   "source": [
    "from pyecharts.charts import Bar\n",
    "from pyecharts import options as opts\n",
    "bar2=(\n",
    "        Bar()\n",
    "        .add_xaxis([str(i) for i in time_range_counts.index])\n",
    "        .add_yaxis(\"数据1\",[int(i) for i in time_range_counts.values])\n",
    "# category_gap是同一系列的柱间距离，默认为类目间距的 20%，可设固定值\n",
    "        .set_series_opts(itemstyle_opts={# set_series_opts设置系列配置\n",
    "            \"normal\":{ # normal代表一般、正常情况\n",
    "# LinearGradient 设置线性渐变，offset为0是柱子0%处颜色，为1是100%处颜色\n",
    "                \"color\": JsCode(\"\"\"new echarts.graphic.LinearGradient(0, 0, 0, 1, [{\n",
    "                    offset: 0, \n",
    "                    color: 'rgba(0, 233, 245, 1)'\n",
    "                }, {\n",
    "                    offset: 1, \n",
    "                    color: 'rgba(0, 45, 187, 1)'\n",
    "                }], false)\"\"\"),\n",
    "                \"barBorderRadius\": [30, 30, 30, 30],# 设置柱子4个角为30变成圆柱\n",
    "                \"shadowColor\": 'red',# 阴影颜色\n",
    "            }})\n",
    "        .set_global_opts(title_opts=opts.TitleOpts(title=\"24小时时间段的发表评论数\"))\n",
    "    )\n",
    "bar2.render_notebook()"
   ],
   "outputs": [],
   "execution_count": null
  },
  {
   "cell_type": "markdown",
   "metadata": {
    "id": "DFE0A670263548D29C9C1AE32E7AF337",
    "runtime": {
     "status": "default",
     "execution_status": null
    },
    "jupyter": {},
    "scrolled": false,
    "tags": [],
    "slideshow": {
     "slide_type": "slide"
    },
    "notebookId": "647979295b5b58e99a6ce60e"
   },
   "source": [
    "## 2.3、电影评分  \n",
    "筛选出有评分的评价,并将电影评价映射到数值，进行分析。  \n",
    "1、总体评分  \n",
    "2、每日评分均值走向"
   ]
  },
  {
   "cell_type": "code",
   "metadata": {
    "id": "63FF6A7242AC41DA8085170E3D7D6A25",
    "notebookId": "647979295b5b58e99a6ce60e",
    "jupyter": {},
    "collapsed": false,
    "scrolled": false,
    "tags": [],
    "slideshow": {
     "slide_type": "slide"
    },
    "trusted": true
   },
   "source": [
    "print(review_df.shape)\n",
    "df_score=review_df[review_df['rating']!=''].copy()\n",
    "df_score.shape"
   ],
   "outputs": [],
   "execution_count": null
  },
  {
   "cell_type": "code",
   "metadata": {
    "id": "F15E8568415144149107BF8A0563873A",
    "notebookId": "647979295b5b58e99a6ce60e",
    "jupyter": {},
    "collapsed": false,
    "scrolled": false,
    "tags": [],
    "slideshow": {
     "slide_type": "slide"
    },
    "trusted": true
   },
   "source": [
    "def map_score(x):\n",
    "    if x == '力荐':\n",
    "        return 5\n",
    "    elif x == '推荐':\n",
    "        return 4\n",
    "    elif x == '还行':\n",
    "        return 3\n",
    "    elif x == '较差':\n",
    "        return 2\n",
    "    elif x == '很差':\n",
    "        return 1\n",
    "df_score['score']=df_score['rating'].apply(map_score)\n",
    "df_score.head()"
   ],
   "outputs": [],
   "execution_count": null
  },
  {
   "cell_type": "markdown",
   "metadata": {
    "id": "7934077EF0E1473FBBCA773EA37A0A7D",
    "notebookId": "647979295b5b58e99a6ce60e",
    "runtime": {
     "status": "default",
     "execution_status": null
    },
    "jupyter": {},
    "scrolled": false,
    "tags": [],
    "slideshow": {
     "slide_type": "slide"
    }
   },
   "source": [
    "### 2.3.1、电影总体评分"
   ]
  },
  {
   "cell_type": "code",
   "metadata": {
    "id": "B01E9DDBEA5B47858A28A759F16F1E10",
    "notebookId": "647979295b5b58e99a6ce60e",
    "jupyter": {},
    "collapsed": false,
    "scrolled": false,
    "tags": [],
    "slideshow": {
     "slide_type": "slide"
    },
    "trusted": true
   },
   "source": [
    "df_score['rating'].value_counts()"
   ],
   "outputs": [],
   "execution_count": null
  },
  {
   "cell_type": "code",
   "metadata": {
    "id": "4C59DC0A3F744A78AABD26E80CDABD42",
    "notebookId": "647979295b5b58e99a6ce60e",
    "jupyter": {},
    "collapsed": false,
    "scrolled": false,
    "tags": [],
    "slideshow": {
     "slide_type": "slide"
    },
    "trusted": true
   },
   "source": [
    "from pyecharts.charts import Pie\n",
    "from pyecharts import options as opts\n",
    "\n",
    "# 示例数据\n",
    "cate = [str(i) for i in df_score['rating'].value_counts().index]\n",
    "data = [int(i) for i in df_score['rating'].value_counts().values]\n",
    "\n",
    "pie = (Pie()\n",
    "       .add('', [list(z) for z in zip(cate, data)],\n",
    "            radius=[\"30%\", \"75%\"],\n",
    "            rosetype=\"radius\"\n",
    "            )\n",
    "       .set_global_opts(title_opts=opts.TitleOpts(title=\"《速度与激情10》评分\", subtitle=\"总体分布\"))\n",
    "       .set_series_opts(label_opts=opts.LabelOpts(formatter=\"{b}: {d}%\"))\n",
    "      )\n",
    "\n",
    "pie.render_notebook()"
   ],
   "outputs": [],
   "execution_count": null
  },
  {
   "cell_type": "markdown",
   "metadata": {
    "id": "5E3E50A1178043F0869DEDBE57848CC0",
    "notebookId": "647979295b5b58e99a6ce60e",
    "runtime": {
     "status": "default",
     "execution_status": null
    },
    "jupyter": {},
    "scrolled": false,
    "tags": [],
    "slideshow": {
     "slide_type": "slide"
    }
   },
   "source": [
    "### 2.3.2、每日评分均值趋势图"
   ]
  },
  {
   "cell_type": "code",
   "metadata": {
    "id": "E46785B955AE45099BAA4DE5D1CCEBED",
    "notebookId": "647979295b5b58e99a6ce60e",
    "jupyter": {},
    "collapsed": false,
    "scrolled": false,
    "tags": [],
    "slideshow": {
     "slide_type": "slide"
    },
    "trusted": true
   },
   "source": [
    "from pyecharts.charts import Line\n",
    "from pyecharts import options as opts\n",
    "\n",
    "# 示例数据\n",
    "cate = [str(i)[6:] for i in df_score.groupby(['pub_date'])['score'].mean().index]\n",
    "data2 = [float(i) for i in df_score.groupby(['pub_date'])['score'].mean().values]\n",
    "\n",
    "line = (Line()\n",
    "       .add_xaxis(cate)\n",
    "       .add_yaxis('每日均分', data2,is_smooth=True)\n",
    "       .set_global_opts(title_opts=opts.TitleOpts(title=\"每日评分均值趋势图\", subtitle=\"红色区域为电影上映时间\"),\n",
    "                xaxis_opts=opts.AxisOpts(name='日期',axislabel_opts={\"rotate\":50}))\n",
    "       .set_series_opts(\n",
    "                markarea_opts=opts.MarkAreaOpts(\n",
    "                    data=[\n",
    "                        opts.MarkAreaItem(x=(s,e)) for s,e in zip([5.5],[50])\n",
    "                    ]\n",
    "                ),\n",
    "                label_opts=opts.LabelOpts(is_show=False)\n",
    "      ))\n",
    "\n",
    "line.render_notebook()"
   ],
   "outputs": [],
   "execution_count": null
  },
  {
   "cell_type": "markdown",
   "metadata": {
    "id": "5E57C8ADCB3C4FC692C642B93433F6DC",
    "runtime": {
     "status": "default",
     "execution_status": null
    },
    "jupyter": {},
    "scrolled": false,
    "tags": [],
    "slideshow": {
     "slide_type": "slide"
    },
    "notebookId": "647979295b5b58e99a6ce60e"
   },
   "source": [
    "## 2.4、词云图分析  \n",
    "1、总体词云  \n",
    "2、正面评论词云  \n",
    "3、负面评论词云"
   ]
  },
  {
   "cell_type": "markdown",
   "metadata": {
    "id": "10DF85AE4A0B457985B890A503ED8866",
    "notebookId": "647979295b5b58e99a6ce60e",
    "runtime": {
     "status": "default",
     "execution_status": null
    },
    "jupyter": {},
    "scrolled": false,
    "tags": [],
    "slideshow": {
     "slide_type": "slide"
    }
   },
   "source": [
    "### 2.4.1、总体评论词云图"
   ]
  },
  {
   "cell_type": "code",
   "metadata": {
    "id": "9AB768F2DA4D40049F71B451852689F0",
    "notebookId": "647979295b5b58e99a6ce60e",
    "jupyter": {},
    "collapsed": false,
    "scrolled": false,
    "tags": [],
    "slideshow": {
     "slide_type": "slide"
    },
    "trusted": true
   },
   "source": [
    "import jieba\n",
    "stwlist=[line.strip() for line in open('/home/mw/project/停用词库.txt','r',encoding='utf-8').readlines()]\n",
    "content_all=''\n",
    "for i in review_df['content']:\n",
    "    content_all+=i\n",
    "stwlist.append('\\r\\n')\n",
    "dele = set(stwlist)\n",
    "words = list(jieba.cut(content_all))\n",
    "articleDict = {}\n",
    "articleSet = set(words)-dele\n",
    "for w in articleSet:\n",
    "    if len(w)>1:\n",
    "        articleDict[w] = words.count(w)\n",
    "\n",
    "articlelist = sorted(articleDict.items(),key = lambda x:x[1], reverse = True)\n",
    "\n",
    "for i in range(10):\n",
    "    print(articlelist[i])"
   ],
   "outputs": [],
   "execution_count": null
  },
  {
   "cell_type": "code",
   "metadata": {
    "id": "7423AC47F9DA409B9163F3DEC3AB01EB",
    "notebookId": "647979295b5b58e99a6ce60e",
    "jupyter": {},
    "collapsed": false,
    "scrolled": false,
    "tags": [],
    "slideshow": {
     "slide_type": "slide"
    },
    "trusted": true
   },
   "source": [
    "from pyecharts import options as opts\n",
    "from pyecharts.charts import WordCloud\n",
    "from pyecharts.globals import SymbolType\n",
    "\n",
    "words = articlelist\n",
    "c = (\n",
    "    WordCloud()\n",
    "    .add(\"\", words, word_size_range=[20, 100], shape=SymbolType.DIAMOND)\n",
    "    .set_global_opts(title_opts=opts.TitleOpts(title=\"《速度与激情10》评论词云图\"))\n",
    ")\n",
    "c.render_notebook()"
   ],
   "outputs": [],
   "execution_count": null
  },
  {
   "cell_type": "markdown",
   "metadata": {
    "id": "47736F148F5E473AB9D37DEF933FE952",
    "notebookId": "647979295b5b58e99a6ce60e",
    "runtime": {
     "status": "default",
     "execution_status": null
    },
    "jupyter": {},
    "scrolled": false,
    "tags": [],
    "slideshow": {
     "slide_type": "slide"
    }
   },
   "source": [
    "### 2.5.2、好评词云"
   ]
  },
  {
   "cell_type": "code",
   "metadata": {
    "collapsed": false,
    "id": "DB4B398B48E1466C973DEAF56F1A677A",
    "jupyter": {},
    "scrolled": false,
    "tags": [],
    "slideshow": {
     "slide_type": "slide"
    },
    "notebookId": "647979295b5b58e99a6ce60e",
    "hide_input": true,
    "trusted": true
   },
   "source": [
    "review_good=df_score[df_score['score']>3]\n",
    "content_all=''\n",
    "for i in review_good['content']:\n",
    "    content_all+=i\n",
    "stwlist.append('\\r\\n')\n",
    "dele = set(stwlist)\n",
    "words = list(jieba.cut(content_all))\n",
    "articleDict = {}\n",
    "articleSet = set(words)-dele\n",
    "for w in articleSet:\n",
    "    if len(w)>1:\n",
    "        articleDict[w] = words.count(w)\n",
    "\n",
    "articlelist = sorted(articleDict.items(),key = lambda x:x[1], reverse = True)\n",
    "\n",
    "for i in range(10):\n",
    "    print(articlelist[i])\n",
    "\n",
    "words = articlelist\n",
    "c = (\n",
    "    WordCloud()\n",
    "    .add(\"\", words, word_size_range=[20, 100], shape=SymbolType.DIAMOND)\n",
    "    .set_global_opts(title_opts=opts.TitleOpts(title=\"《速度与激情10》好评词云图\"))\n",
    ")\n",
    "c.render_notebook()"
   ],
   "outputs": [],
   "execution_count": null
  },
  {
   "cell_type": "markdown",
   "metadata": {
    "id": "A0B67647ED084CC7AACCC4F7A0009AEA",
    "notebookId": "647979295b5b58e99a6ce60e",
    "runtime": {
     "status": "default",
     "execution_status": null
    },
    "jupyter": {},
    "scrolled": false,
    "tags": [],
    "slideshow": {
     "slide_type": "slide"
    }
   },
   "source": [
    "### 2.5.3、差评词云图"
   ]
  },
  {
   "cell_type": "code",
   "metadata": {
    "id": "FA813CE7190D48EA8EBE3B760B2CE0C5",
    "notebookId": "647979295b5b58e99a6ce60e",
    "jupyter": {},
    "collapsed": false,
    "scrolled": false,
    "tags": [],
    "slideshow": {
     "slide_type": "slide"
    },
    "trusted": true
   },
   "source": [
    "review_bad=df_score[df_score['score']<3]\n",
    "content_all=''\n",
    "for i in review_bad['content']:\n",
    "    content_all+=i\n",
    "stwlist.append('\\r\\n')\n",
    "dele = set(stwlist)\n",
    "words = list(jieba.cut(content_all))\n",
    "articleDict = {}\n",
    "articleSet = set(words)-dele\n",
    "for w in articleSet:\n",
    "    if len(w)>1:\n",
    "        articleDict[w] = words.count(w)\n",
    "\n",
    "articlelist = sorted(articleDict.items(),key = lambda x:x[1], reverse = True)\n",
    "\n",
    "for i in range(10):\n",
    "    print(articlelist[i])\n",
    "\n",
    "words = articlelist\n",
    "c = (\n",
    "    WordCloud()\n",
    "    .add(\"\", words, word_size_range=[20, 100], shape=SymbolType.DIAMOND)\n",
    "    .set_global_opts(title_opts=opts.TitleOpts(title=\"《速度与激情10》差评词云图\"))\n",
    ")\n",
    "c.render_notebook()"
   ],
   "outputs": [],
   "execution_count": null
  },
  {
   "cell_type": "markdown",
   "metadata": {
    "id": "0918D3D5B30A4557AD4636FCE79E2D5A",
    "runtime": {
     "status": "default",
     "execution_status": null
    },
    "jupyter": {},
    "scrolled": false,
    "tags": [],
    "slideshow": {
     "slide_type": "slide"
    },
    "notebookId": "647979295b5b58e99a6ce60e"
   },
   "source": [
    "## 2.5、实体识别  "
   ]
  },
  {
   "cell_type": "code",
   "metadata": {
    "id": "1752F864D8CA4C16B2D67DBFAF712001",
    "notebookId": "647979295b5b58e99a6ce60e",
    "jupyter": {},
    "collapsed": false,
    "scrolled": false,
    "tags": [],
    "slideshow": {
     "slide_type": "slide"
    },
    "trusted": true
   },
   "source": [
    "# content_all\n",
    "from nltk.probability import FreqDist\n",
    "\n",
    "#分词\n",
    "words = jieba.lcut(content_all, cut_all=False)\n",
    "\n",
    "#去停用词\n",
    "with open('/home/mw/project/停用词库.txt') as f:\n",
    "    stopwords = [line.strip() for line in f.readlines()]\n",
    "    \n",
    "words = [w for w in words if w not in stopwords]\n",
    "words = [w for w in words if w != ' ']\n",
    "\n",
    "fdist = FreqDist(words)\n",
    "print(\"所有词语数量：\", fdist.N())\n",
    "print(\"数量最多的词：\",fdist.max())"
   ],
   "outputs": [],
   "execution_count": null
  },
  {
   "cell_type": "code",
   "metadata": {
    "id": "18D440665C1F492E8C08D25C4D89D3D3",
    "notebookId": "647979295b5b58e99a6ce60e",
    "jupyter": {},
    "collapsed": false,
    "scrolled": false,
    "tags": [],
    "slideshow": {
     "slide_type": "slide"
    },
    "trusted": true
   },
   "source": [
    "#n 普通名词 f 方位名词 s 处所名词 t 时间 nr 人名 ns 地名 nt 机构名 nw 作品名 nz 其他专名\n",
    "#v 普通动词 vd 动副词 vn 名动词\n",
    "#a 形容词 ad 副形词 an 名形词 d 副词\n",
    "#m 数量词 q 量词 r 代词 p 介词\n",
    "#c 连词 u 助词 xc 其他虚词 w 标点符号\n",
    "# PER 人名 LOC 地名 ORG 机构名 TIME 时间\n",
    "\n",
    "\n",
    "# 按词性找出词语\n",
    "nouns_tags = ['n','f','s','t','nr','ns','nt','nw','nz']\n",
    "verbs_tags = ['v','vd','vn']\n",
    "adjs_tags = ['a','ad','an','d']\n",
    "\n",
    "import jieba.posseg as psg\n",
    "\n",
    "words_tagged = list(psg.cut(content_all)) # 附加词性的分词结果"
   ],
   "outputs": [],
   "execution_count": null
  },
  {
   "cell_type": "markdown",
   "metadata": {
    "id": "B1DDF9E716F446C487602A0BAAFEC96A",
    "notebookId": "647979295b5b58e99a6ce60e",
    "runtime": {
     "status": "default",
     "execution_status": null
    },
    "jupyter": {},
    "scrolled": false,
    "tags": [],
    "slideshow": {
     "slide_type": "slide"
    }
   },
   "source": [
    "### 2.5.1、名词实体"
   ]
  },
  {
   "cell_type": "code",
   "metadata": {
    "id": "DC58E7F019714DEC8B13EFA4ADD7F9AF",
    "notebookId": "647979295b5b58e99a6ce60e",
    "jupyter": {},
    "collapsed": false,
    "scrolled": false,
    "tags": [],
    "slideshow": {
     "slide_type": "slide"
    },
    "trusted": true
   },
   "source": [
    "from collections import Counter\n",
    "#名词\n",
    "nouns=[item.word for item in words_tagged if item.flag in nouns_tags]\n",
    "\n",
    "d_nouns = Counter(nouns)\n",
    "\n",
    "df_nouns = pd.DataFrame.from_dict(d_nouns, orient='index').reset_index()\n",
    "df_nouns = df_nouns.rename(columns={'index':'words', 0:'count'})\n",
    "df_nouns = df_nouns.sort_values(by='count', ascending=False)\n",
    "\n",
    "df_nouns.head()"
   ],
   "outputs": [],
   "execution_count": null
  },
  {
   "cell_type": "code",
   "metadata": {
    "id": "0BB100DF00D54818BB56F17E76803683",
    "notebookId": "647979295b5b58e99a6ce60e",
    "jupyter": {},
    "collapsed": false,
    "scrolled": false,
    "tags": [],
    "slideshow": {
     "slide_type": "slide"
    },
    "trusted": true
   },
   "source": [
    "import pyecharts\n",
    "counter = [tuple(x) for x in df_nouns.values[:50]]\n",
    "\n",
    "bar = (Bar(init_opts=opts.InitOpts(theme='purple-passion', width='1000px', height='800px'))\n",
    "       .add_xaxis([x for x, y in counter[::-1]])\n",
    "       .add_yaxis('出现次数', [y for x, y in counter[::-1]], category_gap='30%')\n",
    "       .set_global_opts(title_opts=opts.TitleOpts(title=\"出现最多的名词\",\n",
    "                                                  pos_left=\"center\",\n",
    "                                                  title_textstyle_opts=opts.TextStyleOpts(font_size=20)),\n",
    "                        datazoom_opts=[opts.DataZoomOpts(range_start=70, range_end=100, orient='vertical')],\n",
    "                        visualmap_opts=opts.VisualMapOpts( max_=106, min_=10, dimension=0,\n",
    "                                range_color=['#f5d69f', '#f5898b', '#ef5055']),\n",
    "                        legend_opts=opts.LegendOpts(is_show=False),\n",
    "                        xaxis_opts=opts.AxisOpts(is_show=False,),\n",
    "                        yaxis_opts=opts.AxisOpts(axistick_opts=opts.AxisTickOpts(is_show=False),\n",
    "                                                 axisline_opts=opts.AxisLineOpts(is_show=False)))\n",
    "       .set_series_opts(label_opts=opts.LabelOpts(is_show=True,\n",
    "                                                  position='right',\n",
    "                                                  font_style='italic'),\n",
    "                        itemstyle_opts={\"normal\": {\n",
    "                                                    \"barBorderRadius\": [30, 30, 30, 30],\n",
    "                                                    'shadowBlur': 10,\n",
    "                                                    'shadowColor': 'rgba(120, 36, 50, 0.5)',\n",
    "                                                    'shadowOffsetY': 5,\n",
    "                                                }\n",
    "                                       }\n",
    ").reversal_axis())\n",
    "\n",
    "bar.render_notebook()"
   ],
   "outputs": [],
   "execution_count": null
  },
  {
   "cell_type": "markdown",
   "metadata": {
    "id": "05637623D878454F831C33A22BADB8BC",
    "notebookId": "647979295b5b58e99a6ce60e",
    "runtime": {
     "status": "default",
     "execution_status": null
    },
    "jupyter": {},
    "scrolled": false,
    "tags": [],
    "slideshow": {
     "slide_type": "slide"
    }
   },
   "source": [
    "## 2.6、关键词识别"
   ]
  },
  {
   "cell_type": "code",
   "metadata": {
    "id": "0AB3D390EFCC46A688ADD22515F28B42",
    "notebookId": "647979295b5b58e99a6ce60e",
    "jupyter": {},
    "collapsed": false,
    "scrolled": false,
    "tags": [],
    "slideshow": {
     "slide_type": "slide"
    },
    "trusted": true
   },
   "source": [],
   "outputs": [],
   "execution_count": null
  }
 ],
 "metadata": {
  "kernelspec": {
   "language": "python",
   "display_name": "Python 3",
   "name": "python3"
  },
  "language_info": {
   "codemirror_mode": {
    "name": "ipython",
    "version": 3
   },
   "name": "python",
   "mimetype": "text/x-python",
   "nbconvert_exporter": "python",
   "file_extension": ".py",
   "version": "3.5.2",
   "pygments_lexer": "ipython3"
  }
 },
 "nbformat": 4,
 "nbformat_minor": 1
}
