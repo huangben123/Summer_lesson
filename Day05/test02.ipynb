{
 "cells": [
  {
   "cell_type": "code",
   "execution_count": 2,
   "id": "0e1fffa0",
   "metadata": {
    "ExecuteTime": {
     "end_time": "2023-06-17T12:48:59.425053500Z",
     "start_time": "2023-06-17T12:48:58.940471400Z"
    }
   },
   "outputs": [],
   "source": [
    "import pandas as pd\n",
    "\n",
    "## pandas数据结构"
   ]
  },
  {
   "cell_type": "code",
   "execution_count": 3,
   "id": "08e7018c",
   "metadata": {
    "ExecuteTime": {
     "end_time": "2023-06-17T12:48:59.431394500Z",
     "start_time": "2023-06-17T12:48:59.429180200Z"
    }
   },
   "outputs": [],
   "source": [
    "#Series和DataFrame两种数据结构\n",
    "# Series是一种类似于一维数组的对象，它由一组数据以及一组相关的数据标签组成"
   ]
  },
  {
   "cell_type": "code",
   "execution_count": 4,
   "id": "bb67b55e",
   "metadata": {
    "ExecuteTime": {
     "end_time": "2023-06-17T12:48:59.448116600Z",
     "start_time": "2023-06-17T12:48:59.432419300Z"
    }
   },
   "outputs": [
    {
     "data": {
      "text/plain": "0    4\n1    9\n2    6\n3    2\ndtype: int64"
     },
     "execution_count": 4,
     "metadata": {},
     "output_type": "execute_result"
    }
   ],
   "source": [
    "obj=pd.Series([4,9,6,2])\n",
    "obj"
   ]
  },
  {
   "cell_type": "code",
   "execution_count": 5,
   "id": "f0639b5d",
   "metadata": {
    "ExecuteTime": {
     "end_time": "2023-06-17T12:48:59.474219500Z",
     "start_time": "2023-06-17T12:48:59.454548800Z"
    }
   },
   "outputs": [
    {
     "data": {
      "text/plain": "array([4, 9, 6, 2], dtype=int64)"
     },
     "execution_count": 5,
     "metadata": {},
     "output_type": "execute_result"
    }
   ],
   "source": [
    "obj.values"
   ]
  },
  {
   "cell_type": "code",
   "execution_count": 6,
   "id": "7172e344",
   "metadata": {
    "ExecuteTime": {
     "end_time": "2023-06-17T12:48:59.474219500Z",
     "start_time": "2023-06-17T12:48:59.455052900Z"
    }
   },
   "outputs": [
    {
     "data": {
      "text/plain": "RangeIndex(start=0, stop=4, step=1)"
     },
     "execution_count": 6,
     "metadata": {},
     "output_type": "execute_result"
    }
   ],
   "source": [
    "obj.index"
   ]
  },
  {
   "cell_type": "code",
   "execution_count": 7,
   "id": "b3941e50",
   "metadata": {
    "ExecuteTime": {
     "end_time": "2023-06-17T12:48:59.474219500Z",
     "start_time": "2023-06-17T12:48:59.462405600Z"
    }
   },
   "outputs": [
    {
     "data": {
      "text/plain": "a    4\nb    5\nc    2\nd    9\ndtype: int64"
     },
     "execution_count": 7,
     "metadata": {},
     "output_type": "execute_result"
    }
   ],
   "source": [
    "obj2=pd.Series([4,5,2,9],index=['a','b','c','d'])\n",
    "obj2"
   ]
  },
  {
   "cell_type": "code",
   "execution_count": 8,
   "id": "b037dfab",
   "metadata": {
    "ExecuteTime": {
     "end_time": "2023-06-17T12:48:59.489619700Z",
     "start_time": "2023-06-17T12:48:59.474219500Z"
    }
   },
   "outputs": [
    {
     "data": {
      "text/plain": "Index(['a', 'b', 'c', 'd'], dtype='object')"
     },
     "execution_count": 8,
     "metadata": {},
     "output_type": "execute_result"
    }
   ],
   "source": [
    "obj2.index"
   ]
  },
  {
   "cell_type": "code",
   "execution_count": 9,
   "id": "c0b2b283",
   "metadata": {
    "ExecuteTime": {
     "end_time": "2023-06-17T12:48:59.489619700Z",
     "start_time": "2023-06-17T12:48:59.480224300Z"
    }
   },
   "outputs": [
    {
     "data": {
      "text/plain": "4"
     },
     "execution_count": 9,
     "metadata": {},
     "output_type": "execute_result"
    }
   ],
   "source": [
    "obj2['a']"
   ]
  },
  {
   "cell_type": "code",
   "execution_count": 10,
   "id": "3102fd21",
   "metadata": {
    "ExecuteTime": {
     "end_time": "2023-06-17T12:48:59.497559100Z",
     "start_time": "2023-06-17T12:48:59.489619700Z"
    }
   },
   "outputs": [
    {
     "data": {
      "text/plain": "a    4\nb    5\nc    8\nd    9\ndtype: int64"
     },
     "execution_count": 10,
     "metadata": {},
     "output_type": "execute_result"
    }
   ],
   "source": [
    "obj2['c']=8\n",
    "obj2"
   ]
  },
  {
   "cell_type": "code",
   "execution_count": 11,
   "id": "51119909",
   "metadata": {
    "ExecuteTime": {
     "end_time": "2023-06-17T12:48:59.572285800Z",
     "start_time": "2023-06-17T12:48:59.497559100Z"
    }
   },
   "outputs": [
    {
     "data": {
      "text/plain": "b    5\nc    8\nd    9\ndtype: int64"
     },
     "execution_count": 11,
     "metadata": {},
     "output_type": "execute_result"
    }
   ],
   "source": [
    "obj2[['b','c','d']]"
   ]
  },
  {
   "cell_type": "code",
   "execution_count": 12,
   "id": "3db09801",
   "metadata": {
    "ExecuteTime": {
     "end_time": "2023-06-17T12:48:59.572285800Z",
     "start_time": "2023-06-17T12:48:59.509686400Z"
    }
   },
   "outputs": [
    {
     "data": {
      "text/plain": "c    8\nd    9\ndtype: int64"
     },
     "execution_count": 12,
     "metadata": {},
     "output_type": "execute_result"
    }
   ],
   "source": [
    "obj2[obj2>5]"
   ]
  },
  {
   "cell_type": "code",
   "execution_count": 13,
   "id": "4a7403ba",
   "metadata": {
    "ExecuteTime": {
     "end_time": "2023-06-17T12:48:59.572285800Z",
     "start_time": "2023-06-17T12:48:59.519419400Z"
    }
   },
   "outputs": [
    {
     "data": {
      "text/plain": "a    False\nb    False\nc     True\nd     True\ndtype: bool"
     },
     "execution_count": 13,
     "metadata": {},
     "output_type": "execute_result"
    }
   ],
   "source": [
    "obj2>5"
   ]
  },
  {
   "cell_type": "code",
   "execution_count": 14,
   "id": "c403ca9d",
   "metadata": {
    "ExecuteTime": {
     "end_time": "2023-06-17T12:48:59.572285800Z",
     "start_time": "2023-06-17T12:48:59.527204700Z"
    }
   },
   "outputs": [
    {
     "data": {
      "text/plain": "a     8\nb    10\nc    16\nd    18\ndtype: int64"
     },
     "execution_count": 14,
     "metadata": {},
     "output_type": "execute_result"
    }
   ],
   "source": [
    "obj2*2"
   ]
  },
  {
   "cell_type": "code",
   "execution_count": 15,
   "id": "8b7047da",
   "metadata": {
    "ExecuteTime": {
     "end_time": "2023-06-17T12:48:59.572285800Z",
     "start_time": "2023-06-17T12:48:59.535125400Z"
    }
   },
   "outputs": [
    {
     "data": {
      "text/plain": "a    4\nb    5\nc    8\nd    9\ndtype: int64"
     },
     "execution_count": 15,
     "metadata": {},
     "output_type": "execute_result"
    }
   ],
   "source": [
    "obj2"
   ]
  },
  {
   "cell_type": "code",
   "execution_count": 16,
   "id": "36be68e6",
   "metadata": {
    "ExecuteTime": {
     "end_time": "2023-06-17T12:48:59.572285800Z",
     "start_time": "2023-06-17T12:48:59.543808500Z"
    }
   },
   "outputs": [
    {
     "data": {
      "text/plain": "True"
     },
     "execution_count": 16,
     "metadata": {},
     "output_type": "execute_result"
    }
   ],
   "source": [
    "'b' in obj2"
   ]
  },
  {
   "cell_type": "code",
   "execution_count": 17,
   "id": "54ef8d24",
   "metadata": {
    "ExecuteTime": {
     "end_time": "2023-06-17T12:48:59.594394Z",
     "start_time": "2023-06-17T12:48:59.550236100Z"
    }
   },
   "outputs": [
    {
     "data": {
      "text/plain": "False"
     },
     "execution_count": 17,
     "metadata": {},
     "output_type": "execute_result"
    }
   ],
   "source": [
    "'e' in obj2"
   ]
  },
  {
   "cell_type": "code",
   "execution_count": 18,
   "id": "ab4b6f24",
   "metadata": {
    "ExecuteTime": {
     "end_time": "2023-06-17T12:48:59.609011600Z",
     "start_time": "2023-06-17T12:48:59.556198300Z"
    }
   },
   "outputs": [
    {
     "data": {
      "text/plain": "ohio     10000\nTest     30000\norg     120000\nStr        123\ndtype: int64"
     },
     "execution_count": 18,
     "metadata": {},
     "output_type": "execute_result"
    }
   ],
   "source": [
    "sdata={'ohio':10000,'Test':30000,'org':120000,'Str':123}\n",
    "obj3=pd.Series(sdata)\n",
    "obj3"
   ]
  },
  {
   "cell_type": "code",
   "execution_count": 19,
   "id": "e3ab4b81",
   "metadata": {
    "ExecuteTime": {
     "end_time": "2023-06-17T12:48:59.609011600Z",
     "start_time": "2023-06-17T12:48:59.564060400Z"
    }
   },
   "outputs": [
    {
     "data": {
      "text/plain": "c   NaN\nb   NaN\nd   NaN\ndtype: float64"
     },
     "execution_count": 19,
     "metadata": {},
     "output_type": "execute_result"
    }
   ],
   "source": [
    "start=['c','b','d']\n",
    "obj4=pd.Series(sdata,index=start)\n",
    "obj4"
   ]
  },
  {
   "cell_type": "code",
   "execution_count": 20,
   "id": "875a4efa",
   "metadata": {
    "ExecuteTime": {
     "end_time": "2023-06-17T12:48:59.616121900Z",
     "start_time": "2023-06-17T12:48:59.572285800Z"
    }
   },
   "outputs": [
    {
     "data": {
      "text/plain": "org     120000.0\nTest     30000.0\nohio     10000.0\nStr5         NaN\ndtype: float64"
     },
     "execution_count": 20,
     "metadata": {},
     "output_type": "execute_result"
    }
   ],
   "source": [
    "start=['org','Test','ohio','Str5']\n",
    "obj4=pd.Series(sdata,index=start)\n",
    "obj4"
   ]
  },
  {
   "cell_type": "code",
   "execution_count": 21,
   "id": "d9a765cb",
   "metadata": {
    "ExecuteTime": {
     "end_time": "2023-06-17T12:48:59.616121900Z",
     "start_time": "2023-06-17T12:48:59.580574700Z"
    }
   },
   "outputs": [
    {
     "data": {
      "text/plain": "org     False\nTest    False\nohio    False\nStr5     True\ndtype: bool"
     },
     "execution_count": 21,
     "metadata": {},
     "output_type": "execute_result"
    }
   ],
   "source": [
    "# 获取文件中空值的索引\n",
    "pd.isnull(obj4)"
   ]
  },
  {
   "cell_type": "code",
   "execution_count": 22,
   "id": "0cf133e2",
   "metadata": {
    "ExecuteTime": {
     "end_time": "2023-06-17T12:48:59.616121900Z",
     "start_time": "2023-06-17T12:48:59.587572900Z"
    }
   },
   "outputs": [
    {
     "data": {
      "text/plain": "org     False\nTest    False\nohio    False\nStr5     True\ndtype: bool"
     },
     "execution_count": 22,
     "metadata": {},
     "output_type": "execute_result"
    }
   ],
   "source": [
    "obj4.isnull()"
   ]
  },
  {
   "cell_type": "code",
   "execution_count": 23,
   "id": "967b45f1",
   "metadata": {
    "ExecuteTime": {
     "end_time": "2023-06-17T12:48:59.725185600Z",
     "start_time": "2023-06-17T12:48:59.594394Z"
    }
   },
   "outputs": [
    {
     "data": {
      "text/plain": "Str          NaN\nStr5         NaN\nTest     60000.0\nohio     20000.0\norg     240000.0\ndtype: float64"
     },
     "execution_count": 23,
     "metadata": {},
     "output_type": "execute_result"
    }
   ],
   "source": [
    "obj4+obj3"
   ]
  },
  {
   "cell_type": "code",
   "execution_count": 48,
   "id": "2ad830c3",
   "metadata": {
    "ExecuteTime": {
     "end_time": "2023-06-17T12:50:51.056762900Z",
     "start_time": "2023-06-17T12:50:51.049335700Z"
    }
   },
   "outputs": [
    {
     "data": {
      "text/plain": "state\norg     120000.0\nTest     30000.0\nohio     10000.0\nStr5         NaN\nName: popu, dtype: float64"
     },
     "execution_count": 48,
     "metadata": {},
     "output_type": "execute_result"
    }
   ],
   "source": [
    "obj4.name='popu'\n",
    "obj4"
   ]
  },
  {
   "cell_type": "code",
   "execution_count": 25,
   "id": "161df2ed",
   "metadata": {
    "ExecuteTime": {
     "end_time": "2023-06-17T12:48:59.725185600Z",
     "start_time": "2023-06-17T12:48:59.609011600Z"
    }
   },
   "outputs": [
    {
     "data": {
      "text/plain": "state\norg     120000.0\nTest     30000.0\nohio     10000.0\nStr5         NaN\nName: popu, dtype: float64"
     },
     "execution_count": 25,
     "metadata": {},
     "output_type": "execute_result"
    }
   ],
   "source": [
    "obj4.index.name='state'\n",
    "obj4"
   ]
  },
  {
   "cell_type": "code",
   "execution_count": 26,
   "id": "bace04c1",
   "metadata": {
    "ExecuteTime": {
     "end_time": "2023-06-17T12:48:59.725185600Z",
     "start_time": "2023-06-17T12:48:59.616121900Z"
    }
   },
   "outputs": [
    {
     "data": {
      "text/plain": "  state  year  pop\n0     a  2000  1.5\n1     b  2001  1.6\n2     c  2002  1.7",
      "text/html": "<div>\n<style scoped>\n    .dataframe tbody tr th:only-of-type {\n        vertical-align: middle;\n    }\n\n    .dataframe tbody tr th {\n        vertical-align: top;\n    }\n\n    .dataframe thead th {\n        text-align: right;\n    }\n</style>\n<table border=\"1\" class=\"dataframe\">\n  <thead>\n    <tr style=\"text-align: right;\">\n      <th></th>\n      <th>state</th>\n      <th>year</th>\n      <th>pop</th>\n    </tr>\n  </thead>\n  <tbody>\n    <tr>\n      <th>0</th>\n      <td>a</td>\n      <td>2000</td>\n      <td>1.5</td>\n    </tr>\n    <tr>\n      <th>1</th>\n      <td>b</td>\n      <td>2001</td>\n      <td>1.6</td>\n    </tr>\n    <tr>\n      <th>2</th>\n      <td>c</td>\n      <td>2002</td>\n      <td>1.7</td>\n    </tr>\n  </tbody>\n</table>\n</div>"
     },
     "execution_count": 26,
     "metadata": {},
     "output_type": "execute_result"
    }
   ],
   "source": [
    "data={'state':['a','b','c'],\n",
    "     'year':[2000,2001,2002],\n",
    "     'pop':[1.5,1.6,1.7]}\n",
    "frame=pd.DataFrame(data)\n",
    "frame"
   ]
  },
  {
   "cell_type": "code",
   "execution_count": 27,
   "id": "1c17dd78",
   "metadata": {
    "ExecuteTime": {
     "end_time": "2023-06-17T12:48:59.725185600Z",
     "start_time": "2023-06-17T12:48:59.631567500Z"
    }
   },
   "outputs": [
    {
     "data": {
      "text/plain": "  state  year  pop\n0     a  2000  1.5\n1     b  2001  1.6\n2     c  2002  1.7",
      "text/html": "<div>\n<style scoped>\n    .dataframe tbody tr th:only-of-type {\n        vertical-align: middle;\n    }\n\n    .dataframe tbody tr th {\n        vertical-align: top;\n    }\n\n    .dataframe thead th {\n        text-align: right;\n    }\n</style>\n<table border=\"1\" class=\"dataframe\">\n  <thead>\n    <tr style=\"text-align: right;\">\n      <th></th>\n      <th>state</th>\n      <th>year</th>\n      <th>pop</th>\n    </tr>\n  </thead>\n  <tbody>\n    <tr>\n      <th>0</th>\n      <td>a</td>\n      <td>2000</td>\n      <td>1.5</td>\n    </tr>\n    <tr>\n      <th>1</th>\n      <td>b</td>\n      <td>2001</td>\n      <td>1.6</td>\n    </tr>\n    <tr>\n      <th>2</th>\n      <td>c</td>\n      <td>2002</td>\n      <td>1.7</td>\n    </tr>\n  </tbody>\n</table>\n</div>"
     },
     "execution_count": 27,
     "metadata": {},
     "output_type": "execute_result"
    }
   ],
   "source": [
    "#取前5行数据\n",
    "frame.head()"
   ]
  },
  {
   "cell_type": "code",
   "execution_count": 28,
   "id": "15e6400e",
   "metadata": {
    "ExecuteTime": {
     "end_time": "2023-06-17T12:48:59.725185600Z",
     "start_time": "2023-06-17T12:48:59.637355500Z"
    }
   },
   "outputs": [
    {
     "data": {
      "text/plain": "   year state\n0  2000     a\n1  2001     b\n2  2002     c",
      "text/html": "<div>\n<style scoped>\n    .dataframe tbody tr th:only-of-type {\n        vertical-align: middle;\n    }\n\n    .dataframe tbody tr th {\n        vertical-align: top;\n    }\n\n    .dataframe thead th {\n        text-align: right;\n    }\n</style>\n<table border=\"1\" class=\"dataframe\">\n  <thead>\n    <tr style=\"text-align: right;\">\n      <th></th>\n      <th>year</th>\n      <th>state</th>\n    </tr>\n  </thead>\n  <tbody>\n    <tr>\n      <th>0</th>\n      <td>2000</td>\n      <td>a</td>\n    </tr>\n    <tr>\n      <th>1</th>\n      <td>2001</td>\n      <td>b</td>\n    </tr>\n    <tr>\n      <th>2</th>\n      <td>2002</td>\n      <td>c</td>\n    </tr>\n  </tbody>\n</table>\n</div>"
     },
     "execution_count": 28,
     "metadata": {},
     "output_type": "execute_result"
    }
   ],
   "source": [
    "pd.DataFrame(data,columns=['year','state'])"
   ]
  },
  {
   "cell_type": "code",
   "execution_count": 29,
   "id": "71597730",
   "metadata": {
    "ExecuteTime": {
     "end_time": "2023-06-17T12:48:59.725185600Z",
     "start_time": "2023-06-17T12:48:59.650306800Z"
    }
   },
   "outputs": [
    {
     "data": {
      "text/plain": "   year state  pod\n0  2000     a  NaN\n1  2001     b  NaN\n2  2002     c  NaN",
      "text/html": "<div>\n<style scoped>\n    .dataframe tbody tr th:only-of-type {\n        vertical-align: middle;\n    }\n\n    .dataframe tbody tr th {\n        vertical-align: top;\n    }\n\n    .dataframe thead th {\n        text-align: right;\n    }\n</style>\n<table border=\"1\" class=\"dataframe\">\n  <thead>\n    <tr style=\"text-align: right;\">\n      <th></th>\n      <th>year</th>\n      <th>state</th>\n      <th>pod</th>\n    </tr>\n  </thead>\n  <tbody>\n    <tr>\n      <th>0</th>\n      <td>2000</td>\n      <td>a</td>\n      <td>NaN</td>\n    </tr>\n    <tr>\n      <th>1</th>\n      <td>2001</td>\n      <td>b</td>\n      <td>NaN</td>\n    </tr>\n    <tr>\n      <th>2</th>\n      <td>2002</td>\n      <td>c</td>\n      <td>NaN</td>\n    </tr>\n  </tbody>\n</table>\n</div>"
     },
     "execution_count": 29,
     "metadata": {},
     "output_type": "execute_result"
    }
   ],
   "source": [
    "pd.DataFrame(data,columns=['year','state','pod'])"
   ]
  },
  {
   "cell_type": "code",
   "execution_count": 30,
   "id": "cce237ca",
   "metadata": {
    "ExecuteTime": {
     "end_time": "2023-06-17T12:48:59.725185600Z",
     "start_time": "2023-06-17T12:48:59.659758900Z"
    }
   },
   "outputs": [
    {
     "data": {
      "text/plain": "Index(['state', 'year', 'pop'], dtype='object')"
     },
     "execution_count": 30,
     "metadata": {},
     "output_type": "execute_result"
    }
   ],
   "source": [
    "frame.columns"
   ]
  },
  {
   "cell_type": "code",
   "execution_count": 31,
   "id": "681a4811",
   "metadata": {
    "ExecuteTime": {
     "end_time": "2023-06-17T12:48:59.725185600Z",
     "start_time": "2023-06-17T12:48:59.665478600Z"
    }
   },
   "outputs": [
    {
     "data": {
      "text/plain": "0    2000\n1    2001\n2    2002\nName: year, dtype: int64"
     },
     "execution_count": 31,
     "metadata": {},
     "output_type": "execute_result"
    }
   ],
   "source": [
    "#获取某一列的值\n",
    "frame['year']"
   ]
  },
  {
   "cell_type": "code",
   "execution_count": 32,
   "id": "ddad3dd4",
   "metadata": {
    "ExecuteTime": {
     "end_time": "2023-06-17T12:48:59.725185600Z",
     "start_time": "2023-06-17T12:48:59.672062400Z"
    }
   },
   "outputs": [
    {
     "data": {
      "text/plain": "0    2000\n1    2001\n2    2002\nName: year, dtype: int64"
     },
     "execution_count": 32,
     "metadata": {},
     "output_type": "execute_result"
    }
   ],
   "source": [
    "frame.year"
   ]
  },
  {
   "cell_type": "markdown",
   "id": "e9e09bc7",
   "metadata": {},
   "source": [
    "#loc,iloc\n",
    "#loc通过列的名=名称获取值，iloc通过列的下标获取"
   ]
  },
  {
   "cell_type": "code",
   "execution_count": 33,
   "id": "a6032043",
   "metadata": {
    "ExecuteTime": {
     "end_time": "2023-06-17T12:48:59.725185600Z",
     "start_time": "2023-06-17T12:48:59.682250600Z"
    }
   },
   "outputs": [
    {
     "data": {
      "text/plain": "   year state\n0  2000     a\n1  2001     b\n2  2002     c",
      "text/html": "<div>\n<style scoped>\n    .dataframe tbody tr th:only-of-type {\n        vertical-align: middle;\n    }\n\n    .dataframe tbody tr th {\n        vertical-align: top;\n    }\n\n    .dataframe thead th {\n        text-align: right;\n    }\n</style>\n<table border=\"1\" class=\"dataframe\">\n  <thead>\n    <tr style=\"text-align: right;\">\n      <th></th>\n      <th>year</th>\n      <th>state</th>\n    </tr>\n  </thead>\n  <tbody>\n    <tr>\n      <th>0</th>\n      <td>2000</td>\n      <td>a</td>\n    </tr>\n    <tr>\n      <th>1</th>\n      <td>2001</td>\n      <td>b</td>\n    </tr>\n    <tr>\n      <th>2</th>\n      <td>2002</td>\n      <td>c</td>\n    </tr>\n  </tbody>\n</table>\n</div>"
     },
     "execution_count": 33,
     "metadata": {},
     "output_type": "execute_result"
    }
   ],
   "source": [
    "# frame.loc[:,'year']\n",
    "# frame.loc[1:,'year']\n",
    "frame.loc[:,['year','state']]"
   ]
  },
  {
   "cell_type": "code",
   "execution_count": 56,
   "id": "07fb2eb4",
   "metadata": {
    "ExecuteTime": {
     "end_time": "2023-06-17T12:56:46.447115200Z",
     "start_time": "2023-06-17T12:56:46.440862400Z"
    }
   },
   "outputs": [
    {
     "data": {
      "text/plain": "  state  year  pop  dd\n0     a  2000  1.5  12\n1     b  2001  1.6  12\n2     c  2002  1.7  12",
      "text/html": "<div>\n<style scoped>\n    .dataframe tbody tr th:only-of-type {\n        vertical-align: middle;\n    }\n\n    .dataframe tbody tr th {\n        vertical-align: top;\n    }\n\n    .dataframe thead th {\n        text-align: right;\n    }\n</style>\n<table border=\"1\" class=\"dataframe\">\n  <thead>\n    <tr style=\"text-align: right;\">\n      <th></th>\n      <th>state</th>\n      <th>year</th>\n      <th>pop</th>\n      <th>dd</th>\n    </tr>\n  </thead>\n  <tbody>\n    <tr>\n      <th>0</th>\n      <td>a</td>\n      <td>2000</td>\n      <td>1.5</td>\n      <td>12</td>\n    </tr>\n    <tr>\n      <th>1</th>\n      <td>b</td>\n      <td>2001</td>\n      <td>1.6</td>\n      <td>12</td>\n    </tr>\n    <tr>\n      <th>2</th>\n      <td>c</td>\n      <td>2002</td>\n      <td>1.7</td>\n      <td>12</td>\n    </tr>\n  </tbody>\n</table>\n</div>"
     },
     "execution_count": 56,
     "metadata": {},
     "output_type": "execute_result"
    }
   ],
   "source": [
    "# frame.iloc[:,:]\n",
    "frame.iloc[:,:]"
   ]
  },
  {
   "cell_type": "code",
   "execution_count": 57,
   "id": "4bccb0fb",
   "metadata": {
    "ExecuteTime": {
     "end_time": "2023-06-17T12:57:11.650512300Z",
     "start_time": "2023-06-17T12:57:11.627042800Z"
    }
   },
   "outputs": [
    {
     "data": {
      "text/plain": "  state  year  pop  dd\n0     a  2000  1.5  13\n1     b  2001  1.6  13\n2     c  2002  1.7  13",
      "text/html": "<div>\n<style scoped>\n    .dataframe tbody tr th:only-of-type {\n        vertical-align: middle;\n    }\n\n    .dataframe tbody tr th {\n        vertical-align: top;\n    }\n\n    .dataframe thead th {\n        text-align: right;\n    }\n</style>\n<table border=\"1\" class=\"dataframe\">\n  <thead>\n    <tr style=\"text-align: right;\">\n      <th></th>\n      <th>state</th>\n      <th>year</th>\n      <th>pop</th>\n      <th>dd</th>\n    </tr>\n  </thead>\n  <tbody>\n    <tr>\n      <th>0</th>\n      <td>a</td>\n      <td>2000</td>\n      <td>1.5</td>\n      <td>13</td>\n    </tr>\n    <tr>\n      <th>1</th>\n      <td>b</td>\n      <td>2001</td>\n      <td>1.6</td>\n      <td>13</td>\n    </tr>\n    <tr>\n      <th>2</th>\n      <td>c</td>\n      <td>2002</td>\n      <td>1.7</td>\n      <td>13</td>\n    </tr>\n  </tbody>\n</table>\n</div>"
     },
     "execution_count": 57,
     "metadata": {},
     "output_type": "execute_result"
    }
   ],
   "source": [
    "frame['dd']=13\n",
    "frame"
   ]
  },
  {
   "cell_type": "code",
   "execution_count": 59,
   "id": "e8352c0a",
   "metadata": {
    "ExecuteTime": {
     "end_time": "2023-06-17T12:57:25.861966300Z",
     "start_time": "2023-06-17T12:57:25.846345800Z"
    }
   },
   "outputs": [
    {
     "data": {
      "text/plain": "  state  year  pop  dd  det\n0     a  2000  1.5  13  0.0\n1     b  2001  1.6  13  1.0\n2     c  2002  1.7  13  2.0",
      "text/html": "<div>\n<style scoped>\n    .dataframe tbody tr th:only-of-type {\n        vertical-align: middle;\n    }\n\n    .dataframe tbody tr th {\n        vertical-align: top;\n    }\n\n    .dataframe thead th {\n        text-align: right;\n    }\n</style>\n<table border=\"1\" class=\"dataframe\">\n  <thead>\n    <tr style=\"text-align: right;\">\n      <th></th>\n      <th>state</th>\n      <th>year</th>\n      <th>pop</th>\n      <th>dd</th>\n      <th>det</th>\n    </tr>\n  </thead>\n  <tbody>\n    <tr>\n      <th>0</th>\n      <td>a</td>\n      <td>2000</td>\n      <td>1.5</td>\n      <td>13</td>\n      <td>0.0</td>\n    </tr>\n    <tr>\n      <th>1</th>\n      <td>b</td>\n      <td>2001</td>\n      <td>1.6</td>\n      <td>13</td>\n      <td>1.0</td>\n    </tr>\n    <tr>\n      <th>2</th>\n      <td>c</td>\n      <td>2002</td>\n      <td>1.7</td>\n      <td>13</td>\n      <td>2.0</td>\n    </tr>\n  </tbody>\n</table>\n</div>"
     },
     "execution_count": 59,
     "metadata": {},
     "output_type": "execute_result"
    }
   ],
   "source": [
    "import numpy as np\n",
    "frame['det']=np.arange(3.)\n",
    "frame"
   ]
  },
  {
   "cell_type": "code",
   "execution_count": 37,
   "id": "a337b915",
   "metadata": {
    "ExecuteTime": {
     "end_time": "2023-06-17T12:48:59.725185600Z",
     "start_time": "2023-06-17T12:48:59.716341300Z"
    }
   },
   "outputs": [
    {
     "data": {
      "text/plain": "  state  year  pop  dd  det\n0     a  2000  1.5  12  NaN\n1     b  2001  1.6  12  NaN\n2     c  2002  1.7  12  NaN",
      "text/html": "<div>\n<style scoped>\n    .dataframe tbody tr th:only-of-type {\n        vertical-align: middle;\n    }\n\n    .dataframe tbody tr th {\n        vertical-align: top;\n    }\n\n    .dataframe thead th {\n        text-align: right;\n    }\n</style>\n<table border=\"1\" class=\"dataframe\">\n  <thead>\n    <tr style=\"text-align: right;\">\n      <th></th>\n      <th>state</th>\n      <th>year</th>\n      <th>pop</th>\n      <th>dd</th>\n      <th>det</th>\n    </tr>\n  </thead>\n  <tbody>\n    <tr>\n      <th>0</th>\n      <td>a</td>\n      <td>2000</td>\n      <td>1.5</td>\n      <td>12</td>\n      <td>NaN</td>\n    </tr>\n    <tr>\n      <th>1</th>\n      <td>b</td>\n      <td>2001</td>\n      <td>1.6</td>\n      <td>12</td>\n      <td>NaN</td>\n    </tr>\n    <tr>\n      <th>2</th>\n      <td>c</td>\n      <td>2002</td>\n      <td>1.7</td>\n      <td>12</td>\n      <td>NaN</td>\n    </tr>\n  </tbody>\n</table>\n</div>"
     },
     "execution_count": 37,
     "metadata": {},
     "output_type": "execute_result"
    }
   ],
   "source": [
    "val=pd.Series([-1.2,-1.5,-1.7],index=['a','b','c'])\n",
    "frame['det']=val\n",
    "frame"
   ]
  },
  {
   "cell_type": "code",
   "execution_count": 60,
   "id": "2f17fe4e",
   "metadata": {
    "ExecuteTime": {
     "end_time": "2023-06-17T12:58:01.555835800Z",
     "start_time": "2023-06-17T12:58:01.550152300Z"
    }
   },
   "outputs": [
    {
     "data": {
      "text/plain": "  state  year  pop  dd  det\n0     a  2000  1.5  13 -1.2\n1     b  2001  1.6  13 -1.5\n2     c  2002  1.7  13  NaN",
      "text/html": "<div>\n<style scoped>\n    .dataframe tbody tr th:only-of-type {\n        vertical-align: middle;\n    }\n\n    .dataframe tbody tr th {\n        vertical-align: top;\n    }\n\n    .dataframe thead th {\n        text-align: right;\n    }\n</style>\n<table border=\"1\" class=\"dataframe\">\n  <thead>\n    <tr style=\"text-align: right;\">\n      <th></th>\n      <th>state</th>\n      <th>year</th>\n      <th>pop</th>\n      <th>dd</th>\n      <th>det</th>\n    </tr>\n  </thead>\n  <tbody>\n    <tr>\n      <th>0</th>\n      <td>a</td>\n      <td>2000</td>\n      <td>1.5</td>\n      <td>13</td>\n      <td>-1.2</td>\n    </tr>\n    <tr>\n      <th>1</th>\n      <td>b</td>\n      <td>2001</td>\n      <td>1.6</td>\n      <td>13</td>\n      <td>-1.5</td>\n    </tr>\n    <tr>\n      <th>2</th>\n      <td>c</td>\n      <td>2002</td>\n      <td>1.7</td>\n      <td>13</td>\n      <td>NaN</td>\n    </tr>\n  </tbody>\n</table>\n</div>"
     },
     "execution_count": 60,
     "metadata": {},
     "output_type": "execute_result"
    }
   ],
   "source": [
    "val=pd.Series([-1.2,-1.5,],index=[0,1,])\n",
    "frame['det']=val\n",
    "frame"
   ]
  },
  {
   "cell_type": "code",
   "execution_count": 61,
   "id": "b0aa6c9b",
   "metadata": {
    "ExecuteTime": {
     "end_time": "2023-06-17T12:58:22.853434800Z",
     "start_time": "2023-06-17T12:58:22.833392400Z"
    }
   },
   "outputs": [
    {
     "data": {
      "text/plain": "  state  year  pop  dd\n0     a  2000  1.5  13\n1     b  2001  1.6  13\n2     c  2002  1.7  13",
      "text/html": "<div>\n<style scoped>\n    .dataframe tbody tr th:only-of-type {\n        vertical-align: middle;\n    }\n\n    .dataframe tbody tr th {\n        vertical-align: top;\n    }\n\n    .dataframe thead th {\n        text-align: right;\n    }\n</style>\n<table border=\"1\" class=\"dataframe\">\n  <thead>\n    <tr style=\"text-align: right;\">\n      <th></th>\n      <th>state</th>\n      <th>year</th>\n      <th>pop</th>\n      <th>dd</th>\n    </tr>\n  </thead>\n  <tbody>\n    <tr>\n      <th>0</th>\n      <td>a</td>\n      <td>2000</td>\n      <td>1.5</td>\n      <td>13</td>\n    </tr>\n    <tr>\n      <th>1</th>\n      <td>b</td>\n      <td>2001</td>\n      <td>1.6</td>\n      <td>13</td>\n    </tr>\n    <tr>\n      <th>2</th>\n      <td>c</td>\n      <td>2002</td>\n      <td>1.7</td>\n      <td>13</td>\n    </tr>\n  </tbody>\n</table>\n</div>"
     },
     "execution_count": 61,
     "metadata": {},
     "output_type": "execute_result"
    }
   ],
   "source": [
    "#删除\n",
    "del frame['det']\n",
    "frame"
   ]
  },
  {
   "cell_type": "code",
   "execution_count": 40,
   "id": "87a9e5e5",
   "metadata": {
    "ExecuteTime": {
     "end_time": "2023-06-17T12:48:59.858697200Z",
     "start_time": "2023-06-17T12:48:59.745919600Z"
    }
   },
   "outputs": [
    {
     "data": {
      "text/plain": "        mebada  obj\nzhangs     1.0  NaN\nlist       2.0  NaN\nww         NaN  5.0\nweb        NaN  6.0",
      "text/html": "<div>\n<style scoped>\n    .dataframe tbody tr th:only-of-type {\n        vertical-align: middle;\n    }\n\n    .dataframe tbody tr th {\n        vertical-align: top;\n    }\n\n    .dataframe thead th {\n        text-align: right;\n    }\n</style>\n<table border=\"1\" class=\"dataframe\">\n  <thead>\n    <tr style=\"text-align: right;\">\n      <th></th>\n      <th>mebada</th>\n      <th>obj</th>\n    </tr>\n  </thead>\n  <tbody>\n    <tr>\n      <th>zhangs</th>\n      <td>1.0</td>\n      <td>NaN</td>\n    </tr>\n    <tr>\n      <th>list</th>\n      <td>2.0</td>\n      <td>NaN</td>\n    </tr>\n    <tr>\n      <th>ww</th>\n      <td>NaN</td>\n      <td>5.0</td>\n    </tr>\n    <tr>\n      <th>web</th>\n      <td>NaN</td>\n      <td>6.0</td>\n    </tr>\n  </tbody>\n</table>\n</div>"
     },
     "execution_count": 40,
     "metadata": {},
     "output_type": "execute_result"
    }
   ],
   "source": [
    "pod={'mebada':{'zhangs':1,'list':2},\n",
    "    'obj':{'ww':5,'web':6}}\n",
    "frame2=pd.DataFrame(pod)\n",
    "frame2"
   ]
  },
  {
   "cell_type": "code",
   "execution_count": 62,
   "id": "24733b57",
   "metadata": {
    "ExecuteTime": {
     "end_time": "2023-06-17T12:58:38.234428300Z",
     "start_time": "2023-06-17T12:58:38.220601200Z"
    }
   },
   "outputs": [
    {
     "data": {
      "text/plain": "wc      zhangs  list   ww  web\nstate                         \nmebada     1.0   2.0  NaN  NaN\nobj        NaN   NaN  5.0  6.0",
      "text/html": "<div>\n<style scoped>\n    .dataframe tbody tr th:only-of-type {\n        vertical-align: middle;\n    }\n\n    .dataframe tbody tr th {\n        vertical-align: top;\n    }\n\n    .dataframe thead th {\n        text-align: right;\n    }\n</style>\n<table border=\"1\" class=\"dataframe\">\n  <thead>\n    <tr style=\"text-align: right;\">\n      <th>wc</th>\n      <th>zhangs</th>\n      <th>list</th>\n      <th>ww</th>\n      <th>web</th>\n    </tr>\n    <tr>\n      <th>state</th>\n      <th></th>\n      <th></th>\n      <th></th>\n      <th></th>\n    </tr>\n  </thead>\n  <tbody>\n    <tr>\n      <th>mebada</th>\n      <td>1.0</td>\n      <td>2.0</td>\n      <td>NaN</td>\n      <td>NaN</td>\n    </tr>\n    <tr>\n      <th>obj</th>\n      <td>NaN</td>\n      <td>NaN</td>\n      <td>5.0</td>\n      <td>6.0</td>\n    </tr>\n  </tbody>\n</table>\n</div>"
     },
     "execution_count": 62,
     "metadata": {},
     "output_type": "execute_result"
    }
   ],
   "source": [
    "frame2.T"
   ]
  },
  {
   "cell_type": "code",
   "execution_count": 63,
   "id": "bdbfd26a",
   "metadata": {
    "ExecuteTime": {
     "end_time": "2023-06-17T12:58:43.164401Z",
     "start_time": "2023-06-17T12:58:43.157984400Z"
    }
   },
   "outputs": [
    {
     "data": {
      "text/plain": "state   mebada  obj\nwc                 \nzhangs     1.0  NaN\nlist       2.0  NaN\nww         NaN  5.0\nweb        NaN  6.0",
      "text/html": "<div>\n<style scoped>\n    .dataframe tbody tr th:only-of-type {\n        vertical-align: middle;\n    }\n\n    .dataframe tbody tr th {\n        vertical-align: top;\n    }\n\n    .dataframe thead th {\n        text-align: right;\n    }\n</style>\n<table border=\"1\" class=\"dataframe\">\n  <thead>\n    <tr style=\"text-align: right;\">\n      <th>state</th>\n      <th>mebada</th>\n      <th>obj</th>\n    </tr>\n    <tr>\n      <th>wc</th>\n      <th></th>\n      <th></th>\n    </tr>\n  </thead>\n  <tbody>\n    <tr>\n      <th>zhangs</th>\n      <td>1.0</td>\n      <td>NaN</td>\n    </tr>\n    <tr>\n      <th>list</th>\n      <td>2.0</td>\n      <td>NaN</td>\n    </tr>\n    <tr>\n      <th>ww</th>\n      <td>NaN</td>\n      <td>5.0</td>\n    </tr>\n    <tr>\n      <th>web</th>\n      <td>NaN</td>\n      <td>6.0</td>\n    </tr>\n  </tbody>\n</table>\n</div>"
     },
     "execution_count": 63,
     "metadata": {},
     "output_type": "execute_result"
    }
   ],
   "source": [
    "frame2.index.name='wc'\n",
    "frame2"
   ]
  },
  {
   "cell_type": "code",
   "execution_count": 43,
   "id": "967ca440",
   "metadata": {
    "ExecuteTime": {
     "end_time": "2023-06-17T12:48:59.858697200Z",
     "start_time": "2023-06-17T12:48:59.776587200Z"
    }
   },
   "outputs": [
    {
     "data": {
      "text/plain": "state   mebada  obj\nwc                 \nzhangs     1.0  NaN\nlist       2.0  NaN\nww         NaN  5.0\nweb        NaN  6.0",
      "text/html": "<div>\n<style scoped>\n    .dataframe tbody tr th:only-of-type {\n        vertical-align: middle;\n    }\n\n    .dataframe tbody tr th {\n        vertical-align: top;\n    }\n\n    .dataframe thead th {\n        text-align: right;\n    }\n</style>\n<table border=\"1\" class=\"dataframe\">\n  <thead>\n    <tr style=\"text-align: right;\">\n      <th>state</th>\n      <th>mebada</th>\n      <th>obj</th>\n    </tr>\n    <tr>\n      <th>wc</th>\n      <th></th>\n      <th></th>\n    </tr>\n  </thead>\n  <tbody>\n    <tr>\n      <th>zhangs</th>\n      <td>1.0</td>\n      <td>NaN</td>\n    </tr>\n    <tr>\n      <th>list</th>\n      <td>2.0</td>\n      <td>NaN</td>\n    </tr>\n    <tr>\n      <th>ww</th>\n      <td>NaN</td>\n      <td>5.0</td>\n    </tr>\n    <tr>\n      <th>web</th>\n      <td>NaN</td>\n      <td>6.0</td>\n    </tr>\n  </tbody>\n</table>\n</div>"
     },
     "execution_count": 43,
     "metadata": {},
     "output_type": "execute_result"
    }
   ],
   "source": [
    "frame2.columns.name='state'\n",
    "frame2"
   ]
  },
  {
   "cell_type": "code",
   "execution_count": 44,
   "id": "7c205e15",
   "metadata": {
    "ExecuteTime": {
     "end_time": "2023-06-17T12:48:59.889943300Z",
     "start_time": "2023-06-17T12:48:59.786630300Z"
    }
   },
   "outputs": [
    {
     "data": {
      "text/plain": "array([[ 1., nan],\n       [ 2., nan],\n       [nan,  5.],\n       [nan,  6.]])"
     },
     "execution_count": 44,
     "metadata": {},
     "output_type": "execute_result"
    }
   ],
   "source": [
    "frame2.values"
   ]
  },
  {
   "cell_type": "code",
   "execution_count": 45,
   "id": "48cfc647",
   "metadata": {
    "ExecuteTime": {
     "end_time": "2023-06-17T12:48:59.983670500Z",
     "start_time": "2023-06-17T12:48:59.791972500Z"
    }
   },
   "outputs": [
    {
     "data": {
      "text/plain": "Index(['zhangs', 'list', 'ww', 'web'], dtype='object', name='wc')"
     },
     "execution_count": 45,
     "metadata": {},
     "output_type": "execute_result"
    }
   ],
   "source": [
    "frame2.index"
   ]
  },
  {
   "cell_type": "code",
   "execution_count": 46,
   "id": "ed608caf",
   "metadata": {
    "ExecuteTime": {
     "end_time": "2023-06-17T12:48:59.983670500Z",
     "start_time": "2023-06-17T12:48:59.803916200Z"
    }
   },
   "outputs": [
    {
     "data": {
      "text/plain": "'list'"
     },
     "execution_count": 46,
     "metadata": {},
     "output_type": "execute_result"
    }
   ],
   "source": [
    "frame2.index[1]"
   ]
  },
  {
   "cell_type": "code",
   "execution_count": 47,
   "id": "1c475e84",
   "metadata": {
    "ExecuteTime": {
     "end_time": "2023-06-17T12:48:59.983670500Z",
     "start_time": "2023-06-17T12:48:59.812838300Z"
    }
   },
   "outputs": [
    {
     "data": {
      "text/plain": "state\nmebada    2.0\nobj       NaN\nName: list, dtype: float64"
     },
     "execution_count": 47,
     "metadata": {},
     "output_type": "execute_result"
    }
   ],
   "source": [
    "frame2.iloc[1]"
   ]
  },
  {
   "cell_type": "code",
   "execution_count": 47,
   "id": "e70cdfbd",
   "metadata": {
    "ExecuteTime": {
     "end_time": "2023-06-17T12:48:59.983670500Z",
     "start_time": "2023-06-17T12:48:59.824587900Z"
    }
   },
   "outputs": [],
   "source": []
  }
 ],
 "metadata": {
  "kernelspec": {
   "display_name": "Python 3 (ipykernel)",
   "language": "python",
   "name": "python3"
  },
  "language_info": {
   "codemirror_mode": {
    "name": "ipython",
    "version": 3
   },
   "file_extension": ".py",
   "mimetype": "text/x-python",
   "name": "python",
   "nbconvert_exporter": "python",
   "pygments_lexer": "ipython3",
   "version": "3.11.4"
  }
 },
 "nbformat": 4,
 "nbformat_minor": 5
}
