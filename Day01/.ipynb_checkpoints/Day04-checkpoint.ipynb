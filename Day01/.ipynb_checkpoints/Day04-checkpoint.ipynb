{
 "cells": [
  {
   "cell_type": "code",
   "execution_count": 6,
   "id": "c43d50b8",
   "metadata": {},
   "outputs": [],
   "source": [
    "import numpy as np"
   ]
  },
  {
   "cell_type": "code",
   "execution_count": 7,
   "id": "a1e43e5f",
   "metadata": {},
   "outputs": [],
   "source": [
    "#提供数值计算的基础"
   ]
  },
  {
   "cell_type": "code",
   "execution_count": 15,
   "id": "0e5ccd5a",
   "metadata": {},
   "outputs": [
    {
     "data": {
      "text/plain": [
       "array([    0,     1,     2, ..., 99997, 99998, 99999])"
      ]
     },
     "execution_count": 15,
     "metadata": {},
     "output_type": "execute_result"
    }
   ],
   "source": [
    "myarr=np.arange(100000)\n",
    "mylist=list(range(100000))\n",
    "mylist\n",
    "myarr"
   ]
  },
  {
   "cell_type": "code",
   "execution_count": 73,
   "id": "2bfd3b84",
   "metadata": {
    "scrolled": true
   },
   "outputs": [
    {
     "name": "stdout",
     "output_type": "stream",
     "text": [
      "CPU times: total: 0 ns\n",
      "Wall time: 493 µs\n"
     ]
    }
   ],
   "source": [
    "%time for _ in range(10):myarr1=myarr*2   "
   ]
  },
  {
   "cell_type": "code",
   "execution_count": 74,
   "id": "c71a6483",
   "metadata": {},
   "outputs": [
    {
     "name": "stdout",
     "output_type": "stream",
     "text": [
      "CPU times: total: 31.2 ms\n",
      "Wall time: 39.4 ms\n"
     ]
    }
   ],
   "source": [
    "%time for _ in range(10):mylist1=[x*2 for x in mylist]"
   ]
  },
  {
   "cell_type": "code",
   "execution_count": 79,
   "id": "28999850",
   "metadata": {},
   "outputs": [
    {
     "data": {
      "text/plain": [
       "array([[ 0.50268236,  0.67388124,  1.65500054],\n",
       "       [ 0.17262584, -0.7303555 , -1.20104466]])"
      ]
     },
     "execution_count": 79,
     "metadata": {},
     "output_type": "execute_result"
    }
   ],
   "source": [
    "#随机生成2行3列的数组\n",
    "data=np.random.randn(2,3)\n",
    "data"
   ]
  },
  {
   "cell_type": "code",
   "execution_count": 82,
   "id": "b7bcc04c",
   "metadata": {},
   "outputs": [
    {
     "data": {
      "text/plain": [
       "array([[ 1.00536473,  1.34776248,  3.31000107],\n",
       "       [ 0.34525168, -1.460711  , -2.40208933]])"
      ]
     },
     "execution_count": 82,
     "metadata": {},
     "output_type": "execute_result"
    }
   ],
   "source": [
    "data+data"
   ]
  },
  {
   "cell_type": "code",
   "execution_count": 84,
   "id": "25de1b70",
   "metadata": {},
   "outputs": [
    {
     "data": {
      "text/plain": [
       "array([[0.25268956, 0.45411592, 2.73902677],\n",
       "       [0.02979968, 0.53341916, 1.44250829]])"
      ]
     },
     "execution_count": 84,
     "metadata": {},
     "output_type": "execute_result"
    }
   ],
   "source": [
    "data*data"
   ]
  },
  {
   "cell_type": "code",
   "execution_count": 92,
   "id": "e3331543",
   "metadata": {},
   "outputs": [
    {
     "data": {
      "text/plain": [
       "array([[ 0.50268236,  0.17262584],\n",
       "       [ 0.67388124, -0.7303555 ],\n",
       "       [ 1.65500054, -1.20104466]])"
      ]
     },
     "execution_count": 92,
     "metadata": {},
     "output_type": "execute_result"
    }
   ],
   "source": [
    "data.T#转置"
   ]
  },
  {
   "cell_type": "code",
   "execution_count": 97,
   "id": "58b79438",
   "metadata": {},
   "outputs": [
    {
     "data": {
      "text/plain": [
       "[1, 2, 3, 4, 5, 6]"
      ]
     },
     "execution_count": 97,
     "metadata": {},
     "output_type": "execute_result"
    }
   ],
   "source": [
    "#创建array数组\n",
    "data1=[1,2,3,4,5,6]\n",
    "data1"
   ]
  },
  {
   "cell_type": "code",
   "execution_count": 102,
   "id": "3da293bf",
   "metadata": {},
   "outputs": [
    {
     "data": {
      "text/plain": [
       "array([1, 2, 3, 4, 5, 6])"
      ]
     },
     "execution_count": 102,
     "metadata": {},
     "output_type": "execute_result"
    }
   ],
   "source": [
    "arr1=np.array(data1)\n",
    "arr1"
   ]
  },
  {
   "cell_type": "code",
   "execution_count": 106,
   "id": "f0440cd8",
   "metadata": {},
   "outputs": [
    {
     "data": {
      "text/plain": [
       "array([[1, 2, 3, 4, 5],\n",
       "       [6, 7, 8, 9, 0]])"
      ]
     },
     "execution_count": 106,
     "metadata": {},
     "output_type": "execute_result"
    }
   ],
   "source": [
    "data2=[[1,2,3,4,5],[6,7,8,9,0]]#data2是列表，numpy数组是arr2，它的两个维度shape是从data2中引入\n",
    "arr2=np.array(data2)\n",
    "arr2"
   ]
  },
  {
   "cell_type": "code",
   "execution_count": 108,
   "id": "568ccd47",
   "metadata": {},
   "outputs": [
    {
     "data": {
      "text/plain": [
       "2"
      ]
     },
     "execution_count": 108,
     "metadata": {},
     "output_type": "execute_result"
    }
   ],
   "source": [
    "arr2.ndim\n"
   ]
  },
  {
   "cell_type": "code",
   "execution_count": 110,
   "id": "573c7b1c",
   "metadata": {},
   "outputs": [
    {
     "data": {
      "text/plain": [
       "(2, 5)"
      ]
     },
     "execution_count": 110,
     "metadata": {},
     "output_type": "execute_result"
    }
   ],
   "source": [
    "arr2.shape#二维数组"
   ]
  },
  {
   "cell_type": "code",
   "execution_count": 112,
   "id": "50df9905",
   "metadata": {},
   "outputs": [
    {
     "data": {
      "text/plain": [
       "dtype('int32')"
      ]
     },
     "execution_count": 112,
     "metadata": {},
     "output_type": "execute_result"
    }
   ],
   "source": [
    "arr1.dtype"
   ]
  },
  {
   "cell_type": "code",
   "execution_count": 157,
   "id": "74910746",
   "metadata": {},
   "outputs": [
    {
     "data": {
      "text/plain": [
       "dtype('float64')"
      ]
     },
     "execution_count": 157,
     "metadata": {},
     "output_type": "execute_result"
    }
   ],
   "source": [
    "arr1=np.array([1,2,3],dtype=np.float64)\n",
    "arr1.dtype\n"
   ]
  },
  {
   "cell_type": "code",
   "execution_count": 122,
   "id": "878cac91",
   "metadata": {},
   "outputs": [
    {
     "data": {
      "text/plain": [
       "array([ 1.15, -9.5 , 42.  ])"
      ]
     },
     "execution_count": 122,
     "metadata": {},
     "output_type": "execute_result"
    }
   ],
   "source": [
    "num=np.array(['1.15','-9.5','42'],dtype=np.string_)\n",
    "num.astype(float)"
   ]
  },
  {
   "cell_type": "code",
   "execution_count": 124,
   "id": "8a832253",
   "metadata": {},
   "outputs": [
    {
     "data": {
      "text/plain": [
       "array([[False,  True, False],\n",
       "       [False,  True,  True]])"
      ]
     },
     "execution_count": 124,
     "metadata": {},
     "output_type": "execute_result"
    }
   ],
   "source": [
    "arr3=np.array([[0,4,5],[1,3,7]])\n",
    "arr4=np.array([[1,2,6],[8,2,4]])\n",
    "arr3>arr4#逐个比较大小，--广播"
   ]
  },
  {
   "cell_type": "code",
   "execution_count": 138,
   "id": "683dc2ef",
   "metadata": {},
   "outputs": [
    {
     "data": {
      "text/plain": [
       "array([0, 1, 3, 3, 3, 3, 6, 7, 8, 9])"
      ]
     },
     "execution_count": 138,
     "metadata": {},
     "output_type": "execute_result"
    }
   ],
   "source": [
    "arr1=np.arange(10)\n",
    "arr1[2]\n",
    "arr1[2:6]=3#2-5换成3\n",
    "arr1"
   ]
  },
  {
   "cell_type": "code",
   "execution_count": 140,
   "id": "0e303f77",
   "metadata": {},
   "outputs": [
    {
     "data": {
      "text/plain": [
       "array([3, 3, 3, 3])"
      ]
     },
     "execution_count": 140,
     "metadata": {},
     "output_type": "execute_result"
    }
   ],
   "source": [
    "arr_slice=arr1[2:6]\n",
    "arr_slice"
   ]
  },
  {
   "cell_type": "code",
   "execution_count": 142,
   "id": "ae47a80d",
   "metadata": {},
   "outputs": [
    {
     "data": {
      "text/plain": [
       "array([   0,    1,    3, 1234,    3,    3,    6,    7,    8,    9])"
      ]
     },
     "execution_count": 142,
     "metadata": {},
     "output_type": "execute_result"
    }
   ],
   "source": [
    "arr_slice[1]=1234\n",
    "arr1#arr1也会被改变"
   ]
  },
  {
   "cell_type": "code",
   "execution_count": 146,
   "id": "02c2d879",
   "metadata": {},
   "outputs": [
    {
     "data": {
      "text/plain": [
       "array([0, 1, 6, 6, 6, 6, 6, 7, 8, 9])"
      ]
     },
     "execution_count": 146,
     "metadata": {},
     "output_type": "execute_result"
    }
   ],
   "source": [
    "arr_slice[:]=6\n",
    "arr1"
   ]
  },
  {
   "cell_type": "code",
   "execution_count": 152,
   "id": "6d7eedb9",
   "metadata": {},
   "outputs": [
    {
     "data": {
      "text/plain": [
       "8"
      ]
     },
     "execution_count": 152,
     "metadata": {},
     "output_type": "execute_result"
    }
   ],
   "source": [
    "arr2=np.array([[1,2,3],[4,5,6],[7,8,9]])\n",
    "arr2\n",
    "arr2[2][1]"
   ]
  },
  {
   "cell_type": "code",
   "execution_count": 182,
   "id": "b4af3bcd",
   "metadata": {},
   "outputs": [
    {
     "data": {
      "text/plain": [
       "array([[[ 1,  2,  3],\n",
       "        [ 4,  5,  6]],\n",
       "\n",
       "       [[ 7,  8,  9],\n",
       "        [10, 11, 12]]])"
      ]
     },
     "execution_count": 182,
     "metadata": {},
     "output_type": "execute_result"
    }
   ],
   "source": [
    "arr3=np.array([[[1,2,3],[4,5,6]],[[7,8,9],[10,11,12]]])\n",
    "arr3\n",
    "arr3.shape#三维数组\n",
    "arr3"
   ]
  },
  {
   "cell_type": "code",
   "execution_count": 186,
   "id": "3d2da9f9",
   "metadata": {},
   "outputs": [
    {
     "data": {
      "text/plain": [
       "[[1, 2, 3], [4, 5, 6], [7, 8, 9]]"
      ]
     },
     "execution_count": 186,
     "metadata": {},
     "output_type": "execute_result"
    }
   ],
   "source": [
    "arr2d=[[1,2,3],[4,5,6],[7,8,9]]\n",
    "arr2d"
   ]
  },
  {
   "cell_type": "code",
   "execution_count": 187,
   "id": "77920654",
   "metadata": {},
   "outputs": [
    {
     "data": {
      "text/plain": [
       "array([[1, 2, 3],\n",
       "       [4, 5, 6],\n",
       "       [7, 8, 9]])"
      ]
     },
     "execution_count": 187,
     "metadata": {},
     "output_type": "execute_result"
    }
   ],
   "source": [
    "arr2d=np.array([[1,2,3],[4,5,6],[7,8,9]])\n",
    "arr2d"
   ]
  },
  {
   "cell_type": "code",
   "execution_count": 189,
   "id": "986e123f",
   "metadata": {},
   "outputs": [
    {
     "data": {
      "text/plain": [
       "array([[2, 3],\n",
       "       [5, 6]])"
      ]
     },
     "execution_count": 189,
     "metadata": {},
     "output_type": "execute_result"
    }
   ],
   "source": [
    "arr2d[:2,1:]#o-1行，1-所有列"
   ]
  },
  {
   "cell_type": "code",
   "execution_count": 192,
   "id": "7dc3bc6e",
   "metadata": {},
   "outputs": [
    {
     "data": {
      "text/plain": [
       "array([[1, 0, 0],\n",
       "       [4, 0, 0],\n",
       "       [7, 8, 9]])"
      ]
     },
     "execution_count": 192,
     "metadata": {},
     "output_type": "execute_result"
    }
   ],
   "source": [
    "arr2d[:2,1:]=0\n",
    "arr2d\n"
   ]
  },
  {
   "cell_type": "code",
   "execution_count": 224,
   "id": "c5e0038c",
   "metadata": {},
   "outputs": [],
   "source": [
    "#布尔索引-------------------------------------------------------\n",
    "names=np.array((['Bob','Joe','Tim','Tom','Bob','Hel','Deo']))\n",
    "data3=np.random.randn(7,4)"
   ]
  },
  {
   "cell_type": "code",
   "execution_count": 225,
   "id": "661bdf67",
   "metadata": {},
   "outputs": [
    {
     "data": {
      "text/plain": [
       "array([ True, False, False, False,  True, False, False])"
      ]
     },
     "execution_count": 225,
     "metadata": {},
     "output_type": "execute_result"
    }
   ],
   "source": [
    "names=='Bob'"
   ]
  },
  {
   "cell_type": "code",
   "execution_count": 226,
   "id": "ac47827c",
   "metadata": {},
   "outputs": [
    {
     "data": {
      "text/plain": [
       "array([[ 0.09375507, -0.55564687,  0.57481985, -0.67196999],\n",
       "       [ 1.29970636, -0.03831649, -0.86063807, -0.315704  ],\n",
       "       [ 0.42568984,  0.38758322,  0.81377947, -2.06697758],\n",
       "       [ 0.61862362, -0.0855273 ,  0.66133349, -1.05255031],\n",
       "       [-1.47388853,  0.99135435, -1.86817271, -0.78350054],\n",
       "       [ 0.36824433,  1.29551134, -0.77450049,  0.49103951],\n",
       "       [ 1.1152275 , -0.02166218,  2.26271803,  0.0396515 ]])"
      ]
     },
     "execution_count": 226,
     "metadata": {},
     "output_type": "execute_result"
    }
   ],
   "source": [
    "data3"
   ]
  },
  {
   "cell_type": "code",
   "execution_count": 228,
   "id": "c6bf9f4d",
   "metadata": {},
   "outputs": [
    {
     "data": {
      "text/plain": [
       "array([[ 0.57481985, -0.67196999],\n",
       "       [-1.86817271, -0.78350054]])"
      ]
     },
     "execution_count": 228,
     "metadata": {},
     "output_type": "execute_result"
    }
   ],
   "source": [
    "data3[names=='Bob',2:]#0行2列至后面所有列"
   ]
  },
  {
   "cell_type": "code",
   "execution_count": 230,
   "id": "916266d2",
   "metadata": {},
   "outputs": [
    {
     "data": {
      "text/plain": [
       "array([-0.67196999, -0.78350054])"
      ]
     },
     "execution_count": 230,
     "metadata": {},
     "output_type": "execute_result"
    }
   ],
   "source": [
    "data3[names=='Bob',3]"
   ]
  },
  {
   "cell_type": "code",
   "execution_count": 233,
   "id": "14e060dd",
   "metadata": {},
   "outputs": [
    {
     "data": {
      "text/plain": [
       "array([[ 1.29970636, -0.03831649, -0.86063807, -0.315704  ],\n",
       "       [ 0.42568984,  0.38758322,  0.81377947, -2.06697758],\n",
       "       [ 0.61862362, -0.0855273 ,  0.66133349, -1.05255031],\n",
       "       [ 0.36824433,  1.29551134, -0.77450049,  0.49103951],\n",
       "       [ 1.1152275 , -0.02166218,  2.26271803,  0.0396515 ]])"
      ]
     },
     "execution_count": 233,
     "metadata": {},
     "output_type": "execute_result"
    }
   ],
   "source": [
    "cond=names=='Bob'\n",
    "data3[~cond]#~取反的意思"
   ]
  },
  {
   "cell_type": "code",
   "execution_count": 235,
   "id": "a1b27dde",
   "metadata": {},
   "outputs": [
    {
     "name": "stderr",
     "output_type": "stream",
     "text": [
      "<>:1: SyntaxWarning: \"is\" with a literal. Did you mean \"==\"?\n",
      "<>:1: SyntaxWarning: \"is\" with a literal. Did you mean \"==\"?\n",
      "C:\\Users\\pc\\AppData\\Local\\Temp\\ipykernel_13040\\3178425479.py:1: SyntaxWarning: \"is\" with a literal. Did you mean \"==\"?\n",
      "  1 is '1'\n"
     ]
    },
    {
     "data": {
      "text/plain": [
       "False"
      ]
     },
     "execution_count": 235,
     "metadata": {},
     "output_type": "execute_result"
    }
   ],
   "source": [
    "1 is '1'"
   ]
  },
  {
   "cell_type": "code",
   "execution_count": 237,
   "id": "9e2d489e",
   "metadata": {},
   "outputs": [
    {
     "name": "stderr",
     "output_type": "stream",
     "text": [
      "<>:1: SyntaxWarning: \"is\" with a literal. Did you mean \"==\"?\n",
      "<>:1: SyntaxWarning: \"is\" with a literal. Did you mean \"==\"?\n",
      "C:\\Users\\pc\\AppData\\Local\\Temp\\ipykernel_13040\\3130079090.py:1: SyntaxWarning: \"is\" with a literal. Did you mean \"==\"?\n",
      "  2 is (1+1)\n"
     ]
    },
    {
     "data": {
      "text/plain": [
       "True"
      ]
     },
     "execution_count": 237,
     "metadata": {},
     "output_type": "execute_result"
    }
   ],
   "source": [
    "2 is (1+1)"
   ]
  },
  {
   "cell_type": "code",
   "execution_count": 250,
   "id": "d3c9a46b",
   "metadata": {},
   "outputs": [
    {
     "data": {
      "text/plain": [
       "array([[ 0.09375507, -0.55564687,  0.57481985, -0.67196999],\n",
       "       [ 0.42568984,  0.38758322,  0.81377947, -2.06697758],\n",
       "       [-1.47388853,  0.99135435, -1.86817271, -0.78350054]])"
      ]
     },
     "execution_count": 250,
     "metadata": {},
     "output_type": "execute_result"
    }
   ],
   "source": [
    "mask=(names=='Bob')|(names=='Tim')\n",
    "data3[mask]"
   ]
  },
  {
   "cell_type": "code",
   "execution_count": 254,
   "id": "927ab6ed",
   "metadata": {},
   "outputs": [
    {
     "data": {
      "text/plain": [
       "array([[ 0.09375507, -0.55564687,  0.57481985, -0.67196999],\n",
       "       [ 1.29970636, -0.03831649, -0.86063807, -0.315704  ],\n",
       "       [ 7.        ,  7.        ,  7.        ,  7.        ],\n",
       "       [ 0.61862362, -0.0855273 ,  0.66133349, -1.05255031],\n",
       "       [-1.47388853,  0.99135435, -1.86817271, -0.78350054],\n",
       "       [ 0.36824433,  1.29551134, -0.77450049,  0.49103951],\n",
       "       [ 1.1152275 , -0.02166218,  2.26271803,  0.0396515 ]])"
      ]
     },
     "execution_count": 254,
     "metadata": {},
     "output_type": "execute_result"
    }
   ],
   "source": [
    "data3[names=='Tim']=7\n",
    "data3"
   ]
  },
  {
   "cell_type": "code",
   "execution_count": 246,
   "id": "88f18884",
   "metadata": {},
   "outputs": [
    {
     "data": {
      "text/plain": [
       "array([[-0.35061326, -0.55012167, -0.34587057],\n",
       "       [-1.44152378, -1.70198627,  1.24672919],\n",
       "       [-0.93266102, -0.04795098,  0.22539878],\n",
       "       [ 1.10966104,  0.04437259,  0.273086  ],\n",
       "       [ 0.56034428, -1.20457716, -0.28907882],\n",
       "       [-1.01357022, -1.22655874,  1.01946892]])"
      ]
     },
     "execution_count": 246,
     "metadata": {},
     "output_type": "execute_result"
    }
   ],
   "source": [
    "#矩阵内积---点乘对应元素点乘--------------------\n",
    "arr=np.random.randn(6,3)\n",
    "arr"
   ]
  },
  {
   "cell_type": "code",
   "execution_count": 247,
   "id": "fcd6c46a",
   "metadata": {},
   "outputs": [
    {
     "data": {
      "text/plain": [
       "array([[ 5.64343497,  3.30851966, -2.77839774],\n",
       "       [ 3.30851966,  6.15911181, -2.83255641],\n",
       "       [-2.77839774, -2.83255641,  2.92222414]])"
      ]
     },
     "execution_count": 247,
     "metadata": {},
     "output_type": "execute_result"
    }
   ],
   "source": [
    "np.dot(arr.T,arr)"
   ]
  }
 ],
 "metadata": {
  "kernelspec": {
   "display_name": "Python 3 (ipykernel)",
   "language": "python",
   "name": "python3"
  },
  "language_info": {
   "codemirror_mode": {
    "name": "ipython",
    "version": 3
   },
   "file_extension": ".py",
   "mimetype": "text/x-python",
   "name": "python",
   "nbconvert_exporter": "python",
   "pygments_lexer": "ipython3",
   "version": "3.11.0"
  }
 },
 "nbformat": 4,
 "nbformat_minor": 5
}
