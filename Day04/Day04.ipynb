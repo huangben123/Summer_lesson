{
 "cells": [
  {
   "cell_type": "code",
   "execution_count": 1,
   "id": "c43d50b8",
   "metadata": {},
   "outputs": [],
   "source": [
    "import numpy as np"
   ]
  },
  {
   "cell_type": "code",
   "execution_count": 2,
   "id": "a1e43e5f",
   "metadata": {},
   "outputs": [],
   "source": [
    "#提供数值计算的基础"
   ]
  },
  {
   "cell_type": "code",
   "execution_count": 3,
   "id": "0e5ccd5a",
   "metadata": {},
   "outputs": [
    {
     "data": {
      "text/plain": [
       "array([    0,     1,     2, ..., 99997, 99998, 99999])"
      ]
     },
     "execution_count": 3,
     "metadata": {},
     "output_type": "execute_result"
    }
   ],
   "source": [
    "myarr=np.arange(100000)\n",
    "mylist=list(range(100000))\n",
    "mylist\n",
    "myarr"
   ]
  },
  {
   "cell_type": "code",
   "execution_count": 4,
   "id": "2bfd3b84",
   "metadata": {
    "scrolled": true
   },
   "outputs": [
    {
     "name": "stdout",
     "output_type": "stream",
     "text": [
      "CPU times: total: 0 ns\n",
      "Wall time: 0 ns\n"
     ]
    }
   ],
   "source": [
    "%time for _ in range(10):myarr1=myarr*2   "
   ]
  },
  {
   "cell_type": "code",
   "execution_count": 5,
   "id": "c71a6483",
   "metadata": {},
   "outputs": [
    {
     "name": "stdout",
     "output_type": "stream",
     "text": [
      "CPU times: total: 46.9 ms\n",
      "Wall time: 36.1 ms\n"
     ]
    }
   ],
   "source": [
    "%time for _ in range(10):mylist1=[x*2 for x in mylist]"
   ]
  },
  {
   "cell_type": "code",
   "execution_count": 6,
   "id": "28999850",
   "metadata": {},
   "outputs": [
    {
     "data": {
      "text/plain": [
       "array([[ 0.45185696, -1.61464597,  0.92228583],\n",
       "       [ 0.95614183,  0.08602926,  0.73759677]])"
      ]
     },
     "execution_count": 6,
     "metadata": {},
     "output_type": "execute_result"
    }
   ],
   "source": [
    "#随机生成2行3列的数组\n",
    "data=np.random.randn(2,3)\n",
    "data"
   ]
  },
  {
   "cell_type": "code",
   "execution_count": 7,
   "id": "b7bcc04c",
   "metadata": {},
   "outputs": [
    {
     "data": {
      "text/plain": [
       "array([[ 0.90371391, -3.22929194,  1.84457166],\n",
       "       [ 1.91228366,  0.17205851,  1.47519354]])"
      ]
     },
     "execution_count": 7,
     "metadata": {},
     "output_type": "execute_result"
    }
   ],
   "source": [
    "data+data"
   ]
  },
  {
   "cell_type": "code",
   "execution_count": 8,
   "id": "25de1b70",
   "metadata": {},
   "outputs": [
    {
     "data": {
      "text/plain": [
       "array([[0.20417471, 2.60708162, 0.85061115],\n",
       "       [0.9142072 , 0.00740103, 0.54404899]])"
      ]
     },
     "execution_count": 8,
     "metadata": {},
     "output_type": "execute_result"
    }
   ],
   "source": [
    "data*data"
   ]
  },
  {
   "cell_type": "code",
   "execution_count": 9,
   "id": "e3331543",
   "metadata": {},
   "outputs": [
    {
     "data": {
      "text/plain": [
       "array([[ 0.45185696,  0.95614183],\n",
       "       [-1.61464597,  0.08602926],\n",
       "       [ 0.92228583,  0.73759677]])"
      ]
     },
     "execution_count": 9,
     "metadata": {},
     "output_type": "execute_result"
    }
   ],
   "source": [
    "data.T#转置"
   ]
  },
  {
   "cell_type": "code",
   "execution_count": 10,
   "id": "58b79438",
   "metadata": {},
   "outputs": [
    {
     "data": {
      "text/plain": [
       "[1, 2, 3, 4, 5, 6]"
      ]
     },
     "execution_count": 10,
     "metadata": {},
     "output_type": "execute_result"
    }
   ],
   "source": [
    "#创建array数组\n",
    "data1=[1,2,3,4,5,6]\n",
    "data1"
   ]
  },
  {
   "cell_type": "code",
   "execution_count": 11,
   "id": "3da293bf",
   "metadata": {},
   "outputs": [
    {
     "data": {
      "text/plain": [
       "array([1, 2, 3, 4, 5, 6])"
      ]
     },
     "execution_count": 11,
     "metadata": {},
     "output_type": "execute_result"
    }
   ],
   "source": [
    "arr1=np.array(data1)\n",
    "arr1"
   ]
  },
  {
   "cell_type": "code",
   "execution_count": 12,
   "id": "f0440cd8",
   "metadata": {},
   "outputs": [
    {
     "data": {
      "text/plain": [
       "array([[1, 2, 3, 4, 5],\n",
       "       [6, 7, 8, 9, 0]])"
      ]
     },
     "execution_count": 12,
     "metadata": {},
     "output_type": "execute_result"
    }
   ],
   "source": [
    "data2=[[1,2,3,4,5],[6,7,8,9,0]]#data2是列表，numpy数组是arr2，它的两个维度shape是从data2中引入\n",
    "arr2=np.array(data2)\n",
    "arr2"
   ]
  },
  {
   "cell_type": "code",
   "execution_count": 13,
   "id": "568ccd47",
   "metadata": {},
   "outputs": [
    {
     "data": {
      "text/plain": [
       "2"
      ]
     },
     "execution_count": 13,
     "metadata": {},
     "output_type": "execute_result"
    }
   ],
   "source": [
    "arr2.ndim\n"
   ]
  },
  {
   "cell_type": "code",
   "execution_count": 14,
   "id": "573c7b1c",
   "metadata": {},
   "outputs": [
    {
     "data": {
      "text/plain": [
       "(2, 5)"
      ]
     },
     "execution_count": 14,
     "metadata": {},
     "output_type": "execute_result"
    }
   ],
   "source": [
    "arr2.shape#二维数组"
   ]
  },
  {
   "cell_type": "code",
   "execution_count": 15,
   "id": "50df9905",
   "metadata": {},
   "outputs": [
    {
     "data": {
      "text/plain": [
       "dtype('int32')"
      ]
     },
     "execution_count": 15,
     "metadata": {},
     "output_type": "execute_result"
    }
   ],
   "source": [
    "arr1.dtype"
   ]
  },
  {
   "cell_type": "code",
   "execution_count": 16,
   "id": "74910746",
   "metadata": {},
   "outputs": [
    {
     "data": {
      "text/plain": [
       "dtype('float64')"
      ]
     },
     "execution_count": 16,
     "metadata": {},
     "output_type": "execute_result"
    }
   ],
   "source": [
    "arr1=np.array([1,2,3],dtype=np.float64)\n",
    "arr1.dtype\n"
   ]
  },
  {
   "cell_type": "code",
   "execution_count": 17,
   "id": "878cac91",
   "metadata": {},
   "outputs": [
    {
     "data": {
      "text/plain": [
       "array([ 1.15, -9.5 , 42.  ])"
      ]
     },
     "execution_count": 17,
     "metadata": {},
     "output_type": "execute_result"
    }
   ],
   "source": [
    "num=np.array(['1.15','-9.5','42'],dtype=np.string_)\n",
    "num.astype(float)"
   ]
  },
  {
   "cell_type": "code",
   "execution_count": 18,
   "id": "8a832253",
   "metadata": {},
   "outputs": [
    {
     "data": {
      "text/plain": [
       "array([[False,  True, False],\n",
       "       [False,  True,  True]])"
      ]
     },
     "execution_count": 18,
     "metadata": {},
     "output_type": "execute_result"
    }
   ],
   "source": [
    "arr3=np.array([[0,4,5],[1,3,7]])\n",
    "arr4=np.array([[1,2,6],[8,2,4]])\n",
    "arr3>arr4#逐个比较大小，--广播"
   ]
  },
  {
   "cell_type": "code",
   "execution_count": 19,
   "id": "683dc2ef",
   "metadata": {},
   "outputs": [
    {
     "data": {
      "text/plain": [
       "array([0, 1, 3, 3, 3, 3, 6, 7, 8, 9])"
      ]
     },
     "execution_count": 19,
     "metadata": {},
     "output_type": "execute_result"
    }
   ],
   "source": [
    "arr1=np.arange(10)\n",
    "arr1[2]\n",
    "arr1[2:6]=3#2-5换成3\n",
    "arr1"
   ]
  },
  {
   "cell_type": "code",
   "execution_count": 20,
   "id": "0e303f77",
   "metadata": {},
   "outputs": [
    {
     "data": {
      "text/plain": [
       "array([3, 3, 3, 3])"
      ]
     },
     "execution_count": 20,
     "metadata": {},
     "output_type": "execute_result"
    }
   ],
   "source": [
    "arr_slice=arr1[2:6]\n",
    "arr_slice"
   ]
  },
  {
   "cell_type": "code",
   "execution_count": 21,
   "id": "ae47a80d",
   "metadata": {},
   "outputs": [
    {
     "data": {
      "text/plain": [
       "array([   0,    1,    3, 1234,    3,    3,    6,    7,    8,    9])"
      ]
     },
     "execution_count": 21,
     "metadata": {},
     "output_type": "execute_result"
    }
   ],
   "source": [
    "arr_slice[1]=1234\n",
    "arr1#arr1也会被改变"
   ]
  },
  {
   "cell_type": "code",
   "execution_count": 22,
   "id": "02c2d879",
   "metadata": {},
   "outputs": [
    {
     "data": {
      "text/plain": [
       "array([0, 1, 6, 6, 6, 6, 6, 7, 8, 9])"
      ]
     },
     "execution_count": 22,
     "metadata": {},
     "output_type": "execute_result"
    }
   ],
   "source": [
    "arr_slice[:]=6\n",
    "arr1"
   ]
  },
  {
   "cell_type": "code",
   "execution_count": 23,
   "id": "6d7eedb9",
   "metadata": {},
   "outputs": [
    {
     "data": {
      "text/plain": [
       "8"
      ]
     },
     "execution_count": 23,
     "metadata": {},
     "output_type": "execute_result"
    }
   ],
   "source": [
    "arr2=np.array([[1,2,3],[4,5,6],[7,8,9]])\n",
    "arr2\n",
    "arr2[2][1]"
   ]
  },
  {
   "cell_type": "code",
   "execution_count": 24,
   "id": "b4af3bcd",
   "metadata": {},
   "outputs": [
    {
     "data": {
      "text/plain": [
       "array([[[ 1,  2,  3],\n",
       "        [ 4,  5,  6]],\n",
       "\n",
       "       [[ 7,  8,  9],\n",
       "        [10, 11, 12]]])"
      ]
     },
     "execution_count": 24,
     "metadata": {},
     "output_type": "execute_result"
    }
   ],
   "source": [
    "arr3=np.array([[[1,2,3],[4,5,6]],[[7,8,9],[10,11,12]]])\n",
    "arr3\n",
    "arr3.shape#三维数组\n",
    "arr3"
   ]
  },
  {
   "cell_type": "code",
   "execution_count": 25,
   "id": "3d2da9f9",
   "metadata": {},
   "outputs": [
    {
     "data": {
      "text/plain": [
       "[[1, 2, 3], [4, 5, 6], [7, 8, 9]]"
      ]
     },
     "execution_count": 25,
     "metadata": {},
     "output_type": "execute_result"
    }
   ],
   "source": [
    "arr2d=[[1,2,3],[4,5,6],[7,8,9]]\n",
    "arr2d"
   ]
  },
  {
   "cell_type": "code",
   "execution_count": 26,
   "id": "77920654",
   "metadata": {},
   "outputs": [
    {
     "data": {
      "text/plain": [
       "array([[1, 2, 3],\n",
       "       [4, 5, 6],\n",
       "       [7, 8, 9]])"
      ]
     },
     "execution_count": 26,
     "metadata": {},
     "output_type": "execute_result"
    }
   ],
   "source": [
    "arr2d=np.array([[1,2,3],[4,5,6],[7,8,9]])\n",
    "arr2d"
   ]
  },
  {
   "cell_type": "code",
   "execution_count": 27,
   "id": "986e123f",
   "metadata": {},
   "outputs": [
    {
     "data": {
      "text/plain": [
       "array([[2, 3],\n",
       "       [5, 6]])"
      ]
     },
     "execution_count": 27,
     "metadata": {},
     "output_type": "execute_result"
    }
   ],
   "source": [
    "arr2d[:2,1:]#o-1行，1-所有列"
   ]
  },
  {
   "cell_type": "code",
   "execution_count": 28,
   "id": "7dc3bc6e",
   "metadata": {},
   "outputs": [
    {
     "data": {
      "text/plain": [
       "array([[1, 0, 0],\n",
       "       [4, 0, 0],\n",
       "       [7, 8, 9]])"
      ]
     },
     "execution_count": 28,
     "metadata": {},
     "output_type": "execute_result"
    }
   ],
   "source": [
    "arr2d[:2,1:]=0\n",
    "arr2d\n"
   ]
  },
  {
   "cell_type": "code",
   "execution_count": 29,
   "id": "c5e0038c",
   "metadata": {},
   "outputs": [],
   "source": [
    "#布尔索引-------------------------------------------------------\n",
    "names=np.array((['Bob','Joe','Tim','Tom','Bob','Hel','Deo']))\n",
    "data3=np.random.randn(7,4)"
   ]
  },
  {
   "cell_type": "code",
   "execution_count": 30,
   "id": "661bdf67",
   "metadata": {},
   "outputs": [
    {
     "data": {
      "text/plain": [
       "array([ True, False, False, False,  True, False, False])"
      ]
     },
     "execution_count": 30,
     "metadata": {},
     "output_type": "execute_result"
    }
   ],
   "source": [
    "names=='Bob'"
   ]
  },
  {
   "cell_type": "code",
   "execution_count": 31,
   "id": "ac47827c",
   "metadata": {},
   "outputs": [
    {
     "data": {
      "text/plain": [
       "array([[-1.4020602 ,  0.81021443, -1.20643558, -0.40555405],\n",
       "       [-1.57373126, -0.89977098,  0.96193657, -0.65870682],\n",
       "       [ 0.24461592, -1.57397885, -1.34794936,  0.81706277],\n",
       "       [ 0.68065513, -0.10040268, -0.84453855,  0.62923047],\n",
       "       [-0.71413529, -1.13736407, -0.39238959, -1.29383113],\n",
       "       [-1.48146703,  1.32746567, -1.11176094, -1.11651206],\n",
       "       [-0.70409166, -0.1030958 , -0.80967247,  0.24983356]])"
      ]
     },
     "execution_count": 31,
     "metadata": {},
     "output_type": "execute_result"
    }
   ],
   "source": [
    "data3"
   ]
  },
  {
   "cell_type": "code",
   "execution_count": 32,
   "id": "c6bf9f4d",
   "metadata": {},
   "outputs": [
    {
     "data": {
      "text/plain": [
       "array([[-1.20643558, -0.40555405],\n",
       "       [-0.39238959, -1.29383113]])"
      ]
     },
     "execution_count": 32,
     "metadata": {},
     "output_type": "execute_result"
    }
   ],
   "source": [
    "data3[names=='Bob',2:]#0行2列至后面所有列"
   ]
  },
  {
   "cell_type": "code",
   "execution_count": 33,
   "id": "916266d2",
   "metadata": {},
   "outputs": [
    {
     "data": {
      "text/plain": [
       "array([-0.40555405, -1.29383113])"
      ]
     },
     "execution_count": 33,
     "metadata": {},
     "output_type": "execute_result"
    }
   ],
   "source": [
    "data3[names=='Bob',3]"
   ]
  },
  {
   "cell_type": "code",
   "execution_count": 34,
   "id": "14e060dd",
   "metadata": {},
   "outputs": [
    {
     "data": {
      "text/plain": [
       "array([[-1.57373126, -0.89977098,  0.96193657, -0.65870682],\n",
       "       [ 0.24461592, -1.57397885, -1.34794936,  0.81706277],\n",
       "       [ 0.68065513, -0.10040268, -0.84453855,  0.62923047],\n",
       "       [-1.48146703,  1.32746567, -1.11176094, -1.11651206],\n",
       "       [-0.70409166, -0.1030958 , -0.80967247,  0.24983356]])"
      ]
     },
     "execution_count": 34,
     "metadata": {},
     "output_type": "execute_result"
    }
   ],
   "source": [
    "cond=names=='Bob'\n",
    "data3[~cond]#~取反的意思"
   ]
  },
  {
   "cell_type": "code",
   "execution_count": 35,
   "id": "a1b27dde",
   "metadata": {},
   "outputs": [
    {
     "name": "stderr",
     "output_type": "stream",
     "text": [
      "<>:1: SyntaxWarning: \"is\" with a literal. Did you mean \"==\"?\n",
      "<>:1: SyntaxWarning: \"is\" with a literal. Did you mean \"==\"?\n",
      "C:\\Users\\pc\\AppData\\Local\\Temp\\ipykernel_5456\\3178425479.py:1: SyntaxWarning: \"is\" with a literal. Did you mean \"==\"?\n",
      "  1 is '1'\n"
     ]
    },
    {
     "data": {
      "text/plain": [
       "False"
      ]
     },
     "execution_count": 35,
     "metadata": {},
     "output_type": "execute_result"
    }
   ],
   "source": [
    "1 is '1'"
   ]
  },
  {
   "cell_type": "code",
   "execution_count": 36,
   "id": "9e2d489e",
   "metadata": {},
   "outputs": [
    {
     "name": "stderr",
     "output_type": "stream",
     "text": [
      "<>:1: SyntaxWarning: \"is\" with a literal. Did you mean \"==\"?\n",
      "<>:1: SyntaxWarning: \"is\" with a literal. Did you mean \"==\"?\n",
      "C:\\Users\\pc\\AppData\\Local\\Temp\\ipykernel_5456\\3130079090.py:1: SyntaxWarning: \"is\" with a literal. Did you mean \"==\"?\n",
      "  2 is (1+1)\n"
     ]
    },
    {
     "data": {
      "text/plain": [
       "True"
      ]
     },
     "execution_count": 36,
     "metadata": {},
     "output_type": "execute_result"
    }
   ],
   "source": [
    "2 is (1+1)"
   ]
  },
  {
   "cell_type": "code",
   "execution_count": 37,
   "id": "d3c9a46b",
   "metadata": {},
   "outputs": [
    {
     "data": {
      "text/plain": [
       "array([[-1.4020602 ,  0.81021443, -1.20643558, -0.40555405],\n",
       "       [ 0.24461592, -1.57397885, -1.34794936,  0.81706277],\n",
       "       [-0.71413529, -1.13736407, -0.39238959, -1.29383113]])"
      ]
     },
     "execution_count": 37,
     "metadata": {},
     "output_type": "execute_result"
    }
   ],
   "source": [
    "mask=(names=='Bob')|(names=='Tim')\n",
    "data3[mask]"
   ]
  },
  {
   "cell_type": "code",
   "execution_count": 38,
   "id": "927ab6ed",
   "metadata": {},
   "outputs": [
    {
     "data": {
      "text/plain": [
       "array([[-1.4020602 ,  0.81021443, -1.20643558, -0.40555405],\n",
       "       [-1.57373126, -0.89977098,  0.96193657, -0.65870682],\n",
       "       [ 7.        ,  7.        ,  7.        ,  7.        ],\n",
       "       [ 0.68065513, -0.10040268, -0.84453855,  0.62923047],\n",
       "       [-0.71413529, -1.13736407, -0.39238959, -1.29383113],\n",
       "       [-1.48146703,  1.32746567, -1.11176094, -1.11651206],\n",
       "       [-0.70409166, -0.1030958 , -0.80967247,  0.24983356]])"
      ]
     },
     "execution_count": 38,
     "metadata": {},
     "output_type": "execute_result"
    }
   ],
   "source": [
    "data3[names=='Tim']=7\n",
    "data3"
   ]
  },
  {
   "cell_type": "code",
   "execution_count": 39,
   "id": "88f18884",
   "metadata": {},
   "outputs": [
    {
     "data": {
      "text/plain": [
       "array([[-2.71538611, -0.19063792, -0.09566119],\n",
       "       [-0.73859654,  1.45165331,  0.37448997],\n",
       "       [ 0.61334215,  0.85166183, -0.03852306],\n",
       "       [-0.03139303,  0.12346852, -0.09688785],\n",
       "       [-0.87013521,  0.34749074,  0.39443968],\n",
       "       [ 0.4073128 , -0.567182  ,  0.67767825]])"
      ]
     },
     "execution_count": 39,
     "metadata": {},
     "output_type": "execute_result"
    }
   ],
   "source": [
    "#矩阵内积---点乘对应元素点乘--------------------\n",
    "arr=np.random.randn(6,3)\n",
    "arr"
   ]
  },
  {
   "cell_type": "code",
   "execution_count": 40,
   "id": "fcd6c46a",
   "metadata": {},
   "outputs": [
    {
     "data": {
      "text/plain": [
       "array([[ 9.21905968, -0.56943091, -0.10461498],\n",
       "       [-0.56943091,  3.32665775,  0.26979227],\n",
       "       [-0.10461498,  0.26979227,  0.77509555]])"
      ]
     },
     "execution_count": 40,
     "metadata": {},
     "output_type": "execute_result"
    }
   ],
   "source": [
    "np.dot(arr.T,arr)"
   ]
  }
 ],
 "metadata": {
  "kernelspec": {
   "display_name": "Python 3 (ipykernel)",
   "language": "python",
   "name": "python3"
  },
  "language_info": {
   "codemirror_mode": {
    "name": "ipython",
    "version": 3
   },
   "file_extension": ".py",
   "mimetype": "text/x-python",
   "name": "python",
   "nbconvert_exporter": "python",
   "pygments_lexer": "ipython3",
   "version": "3.11.0"
  }
 },
 "nbformat": 4,
 "nbformat_minor": 5
}
