{
 "cells": [
  {
   "cell_type": "code",
   "execution_count": 2,
   "metadata": {
    "ExecuteTime": {
     "end_time": "2023-06-18T08:11:51.924488800Z",
     "start_time": "2023-06-18T08:11:51.917996400Z"
    }
   },
   "outputs": [
    {
     "data": {
      "text/plain": "<pyecharts.render.display.HTML at 0x1fdfcb5dfd0>",
      "text/html": "\n<script>\n    require.config({\n        paths: {\n            'echarts':'https://assets.pyecharts.org/assets/v5/echarts.min'\n        }\n    });\n</script>\n\n        <div id=\"653912ee25ef4268808dd9702475bfb8\" style=\"width:900px; height:500px;\"></div>\n\n<script>\n        require(['echarts'], function(echarts) {\n                var chart_653912ee25ef4268808dd9702475bfb8 = echarts.init(\n                    document.getElementById('653912ee25ef4268808dd9702475bfb8'), 'white', {renderer: 'canvas'});\n                var option_653912ee25ef4268808dd9702475bfb8 = {\n    \"animation\": true,\n    \"animationThreshold\": 2000,\n    \"animationDuration\": 1000,\n    \"animationEasing\": \"cubicOut\",\n    \"animationDelay\": 0,\n    \"animationDurationUpdate\": 300,\n    \"animationEasingUpdate\": \"cubicOut\",\n    \"animationDelayUpdate\": 0,\n    \"aria\": {\n        \"enabled\": false\n    },\n    \"color\": [\n        \"blue\",\n        \"green\",\n        \"yellow\",\n        \"red\",\n        \"pink\",\n        \"orange\",\n        \"purple\"\n    ],\n    \"series\": [\n        {\n            \"type\": \"pie\",\n            \"colorBy\": \"data\",\n            \"legendHoverLink\": true,\n            \"selectedMode\": false,\n            \"selectedOffset\": 10,\n            \"clockwise\": true,\n            \"startAngle\": 90,\n            \"minAngle\": 0,\n            \"minShowLabelAngle\": 0,\n            \"avoidLabelOverlap\": true,\n            \"stillShowZeroSum\": true,\n            \"percentPrecision\": 2,\n            \"showEmptyCircle\": true,\n            \"emptyCircleStyle\": {\n                \"color\": \"lightgray\",\n                \"borderColor\": \"#000\",\n                \"borderWidth\": 0,\n                \"borderType\": \"solid\",\n                \"borderDashOffset\": 0,\n                \"borderCap\": \"butt\",\n                \"borderJoin\": \"bevel\",\n                \"borderMiterLimit\": 10,\n                \"opacity\": 1\n            },\n            \"data\": [\n                {\n                    \"name\": \"\\u886c\\u886b\",\n                    \"value\": 80\n                },\n                {\n                    \"name\": \"\\u6bdb\\u8863\",\n                    \"value\": 63\n                },\n                {\n                    \"name\": \"\\u9886\\u5e26\",\n                    \"value\": 92\n                },\n                {\n                    \"name\": \"\\u88e4\\u5b50\",\n                    \"value\": 60\n                },\n                {\n                    \"name\": \"\\u98ce\\u8863\",\n                    \"value\": 47\n                },\n                {\n                    \"name\": \"\\u9ad8\\u8ddf\\u978b\",\n                    \"value\": 28\n                },\n                {\n                    \"name\": \"\\u889c\\u5b50\",\n                    \"value\": 98\n                }\n            ],\n            \"radius\": [\n                \"0%\",\n                \"75%\"\n            ],\n            \"center\": [\n                \"50%\",\n                \"50%\"\n            ],\n            \"label\": {\n                \"show\": true,\n                \"margin\": 8,\n                \"formatter\": \"{b}: {c}\"\n            },\n            \"labelLine\": {\n                \"show\": true,\n                \"showAbove\": false,\n                \"length\": 15,\n                \"length2\": 15,\n                \"smooth\": false,\n                \"minTurnAngle\": 90,\n                \"maxSurfaceAngle\": 90\n            },\n            \"rippleEffect\": {\n                \"show\": true,\n                \"brushType\": \"stroke\",\n                \"scale\": 2.5,\n                \"period\": 4\n            }\n        }\n    ],\n    \"legend\": [\n        {\n            \"data\": [\n                \"\\u886c\\u886b\",\n                \"\\u6bdb\\u8863\",\n                \"\\u9886\\u5e26\",\n                \"\\u88e4\\u5b50\",\n                \"\\u98ce\\u8863\",\n                \"\\u9ad8\\u8ddf\\u978b\",\n                \"\\u889c\\u5b50\"\n            ],\n            \"selected\": {},\n            \"show\": true,\n            \"padding\": 5,\n            \"itemGap\": 10,\n            \"itemWidth\": 25,\n            \"itemHeight\": 14,\n            \"backgroundColor\": \"transparent\",\n            \"borderColor\": \"#ccc\",\n            \"borderWidth\": 1,\n            \"borderRadius\": 0,\n            \"pageButtonItemGap\": 5,\n            \"pageButtonPosition\": \"end\",\n            \"pageFormatter\": \"{current}/{total}\",\n            \"pageIconColor\": \"#2f4554\",\n            \"pageIconInactiveColor\": \"#aaa\",\n            \"pageIconSize\": 15,\n            \"animationDurationUpdate\": 800,\n            \"selector\": false,\n            \"selectorPosition\": \"auto\",\n            \"selectorItemGap\": 7,\n            \"selectorButtonGap\": 10\n        }\n    ],\n    \"tooltip\": {\n        \"show\": true,\n        \"trigger\": \"item\",\n        \"triggerOn\": \"mousemove|click\",\n        \"axisPointer\": {\n            \"type\": \"line\"\n        },\n        \"showContent\": true,\n        \"alwaysShowContent\": false,\n        \"showDelay\": 0,\n        \"hideDelay\": 100,\n        \"enterable\": false,\n        \"confine\": false,\n        \"appendToBody\": false,\n        \"transitionDuration\": 0.4,\n        \"textStyle\": {\n            \"fontSize\": 14\n        },\n        \"borderWidth\": 0,\n        \"padding\": 5,\n        \"order\": \"seriesAsc\"\n    },\n    \"title\": [\n        {\n            \"show\": true,\n            \"text\": \"Pie-\\u8bbe\\u7f6e\\u989c\\u8272\",\n            \"target\": \"blank\",\n            \"subtarget\": \"blank\",\n            \"padding\": 5,\n            \"itemGap\": 10,\n            \"textAlign\": \"auto\",\n            \"textVerticalAlign\": \"auto\",\n            \"triggerEvent\": false\n        }\n    ]\n};\n                chart_653912ee25ef4268808dd9702475bfb8.setOption(option_653912ee25ef4268808dd9702475bfb8);\n        });\n    </script>\n"
     },
     "execution_count": 2,
     "metadata": {},
     "output_type": "execute_result"
    }
   ],
   "source": [
    "from pyecharts import options as opts\n",
    "from pyecharts.charts import Pie\n",
    "from pyecharts.faker import Faker\n",
    "\n",
    "c = (\n",
    "    Pie()\n",
    "    .add(\"\", [list(z) for z in zip(Faker.choose(), Faker.values())])\n",
    "    .set_colors([\"blue\", \"green\", \"yellow\", \"red\", \"pink\", \"orange\", \"purple\"])\n",
    "    .set_global_opts(title_opts=opts.TitleOpts(title=\"Pie-设置颜色\"))\n",
    "    .set_series_opts(label_opts=opts.LabelOpts(formatter=\"{b}: {c}\"))\n",
    "    # .render(\"pie_set_color.html\")\n",
    ")\n",
    "c.render_notebook()"
   ]
  },
  {
   "cell_type": "code",
   "execution_count": 1,
   "metadata": {
    "ExecuteTime": {
     "end_time": "2023-06-18T08:11:35.334197200Z",
     "start_time": "2023-06-18T08:11:35.213930300Z"
    }
   },
   "outputs": [
    {
     "data": {
      "text/plain": "<pyecharts.render.display.HTML at 0x1fdfc5f7010>",
      "text/html": "\n<script>\n    require.config({\n        paths: {\n            'echarts':'https://assets.pyecharts.org/assets/v5/echarts.min'\n        }\n    });\n</script>\n\n        <div id=\"e2fce4e058564f10a235464bb9aefea0\" style=\"width:900px; height:500px;\"></div>\n\n<script>\n        require(['echarts'], function(echarts) {\n                var chart_e2fce4e058564f10a235464bb9aefea0 = echarts.init(\n                    document.getElementById('e2fce4e058564f10a235464bb9aefea0'), 'light', {renderer: 'canvas'});\n                var option_e2fce4e058564f10a235464bb9aefea0 = {\n    \"animation\": true,\n    \"animationThreshold\": 2000,\n    \"animationDuration\": 1000,\n    \"animationEasing\": \"cubicOut\",\n    \"animationDelay\": 0,\n    \"animationDurationUpdate\": 300,\n    \"animationEasingUpdate\": \"cubicOut\",\n    \"animationDelayUpdate\": 0,\n    \"aria\": {\n        \"enabled\": false\n    },\n    \"series\": [\n        {\n            \"type\": \"bar\",\n            \"name\": \"product1\",\n            \"legendHoverLink\": true,\n            \"data\": [\n                {\n                    \"value\": 12,\n                    \"percent\": 0.8\n                },\n                {\n                    \"value\": 23,\n                    \"percent\": 0.5227272727272727\n                },\n                {\n                    \"value\": 33,\n                    \"percent\": 0.868421052631579\n                },\n                {\n                    \"value\": 3,\n                    \"percent\": 0.05454545454545454\n                },\n                {\n                    \"value\": 33,\n                    \"percent\": 0.4342105263157895\n                }\n            ],\n            \"realtimeSort\": false,\n            \"showBackground\": false,\n            \"stack\": \"stack1\",\n            \"stackStrategy\": \"samesign\",\n            \"cursor\": \"pointer\",\n            \"barMinHeight\": 0,\n            \"barCategoryGap\": \"50%\",\n            \"barGap\": \"30%\",\n            \"large\": false,\n            \"largeThreshold\": 400,\n            \"seriesLayoutBy\": \"column\",\n            \"datasetIndex\": 0,\n            \"clip\": true,\n            \"zlevel\": 0,\n            \"z\": 2,\n            \"label\": {\n                \"show\": true,\n                \"position\": \"right\",\n                \"margin\": 8,\n                \"formatter\": function(x){return Number(x.data.percent * 100).toFixed() + '%';}\n            },\n            \"rippleEffect\": {\n                \"show\": true,\n                \"brushType\": \"stroke\",\n                \"scale\": 2.5,\n                \"period\": 4\n            }\n        },\n        {\n            \"type\": \"bar\",\n            \"name\": \"product2\",\n            \"legendHoverLink\": true,\n            \"data\": [\n                {\n                    \"value\": 3,\n                    \"percent\": 0.2\n                },\n                {\n                    \"value\": 21,\n                    \"percent\": 0.4772727272727273\n                },\n                {\n                    \"value\": 5,\n                    \"percent\": 0.13157894736842105\n                },\n                {\n                    \"value\": 52,\n                    \"percent\": 0.9454545454545454\n                },\n                {\n                    \"value\": 43,\n                    \"percent\": 0.5657894736842105\n                }\n            ],\n            \"realtimeSort\": false,\n            \"showBackground\": false,\n            \"stack\": \"stack1\",\n            \"stackStrategy\": \"samesign\",\n            \"cursor\": \"pointer\",\n            \"barMinHeight\": 0,\n            \"barCategoryGap\": \"50%\",\n            \"barGap\": \"30%\",\n            \"large\": false,\n            \"largeThreshold\": 400,\n            \"seriesLayoutBy\": \"column\",\n            \"datasetIndex\": 0,\n            \"clip\": true,\n            \"zlevel\": 0,\n            \"z\": 2,\n            \"label\": {\n                \"show\": true,\n                \"position\": \"right\",\n                \"margin\": 8,\n                \"formatter\": function(x){return Number(x.data.percent * 100).toFixed() + '%';}\n            },\n            \"rippleEffect\": {\n                \"show\": true,\n                \"brushType\": \"stroke\",\n                \"scale\": 2.5,\n                \"period\": 4\n            }\n        }\n    ],\n    \"legend\": [\n        {\n            \"data\": [\n                \"product1\",\n                \"product2\"\n            ],\n            \"selected\": {}\n        }\n    ],\n    \"tooltip\": {\n        \"show\": true,\n        \"trigger\": \"item\",\n        \"triggerOn\": \"mousemove|click\",\n        \"axisPointer\": {\n            \"type\": \"line\"\n        },\n        \"showContent\": true,\n        \"alwaysShowContent\": false,\n        \"showDelay\": 0,\n        \"hideDelay\": 100,\n        \"enterable\": false,\n        \"confine\": false,\n        \"appendToBody\": false,\n        \"transitionDuration\": 0.4,\n        \"textStyle\": {\n            \"fontSize\": 14\n        },\n        \"borderWidth\": 0,\n        \"padding\": 5,\n        \"order\": \"seriesAsc\"\n    },\n    \"xAxis\": [\n        {\n            \"show\": true,\n            \"scale\": false,\n            \"nameLocation\": \"end\",\n            \"nameGap\": 15,\n            \"gridIndex\": 0,\n            \"inverse\": false,\n            \"offset\": 0,\n            \"splitNumber\": 5,\n            \"minInterval\": 0,\n            \"splitLine\": {\n                \"show\": true,\n                \"lineStyle\": {\n                    \"show\": true,\n                    \"width\": 1,\n                    \"opacity\": 1,\n                    \"curveness\": 0,\n                    \"type\": \"solid\"\n                }\n            },\n            \"data\": [\n                1,\n                2,\n                3,\n                4,\n                5\n            ]\n        }\n    ],\n    \"yAxis\": [\n        {\n            \"show\": true,\n            \"scale\": false,\n            \"nameLocation\": \"end\",\n            \"nameGap\": 15,\n            \"gridIndex\": 0,\n            \"inverse\": false,\n            \"offset\": 0,\n            \"splitNumber\": 5,\n            \"minInterval\": 0,\n            \"splitLine\": {\n                \"show\": true,\n                \"lineStyle\": {\n                    \"show\": true,\n                    \"width\": 1,\n                    \"opacity\": 1,\n                    \"curveness\": 0,\n                    \"type\": \"solid\"\n                }\n            }\n        }\n    ]\n};\n                chart_e2fce4e058564f10a235464bb9aefea0.setOption(option_e2fce4e058564f10a235464bb9aefea0);\n        });\n    </script>\n"
     },
     "execution_count": 1,
     "metadata": {},
     "output_type": "execute_result"
    }
   ],
   "source": [
    "from pyecharts import options as opts\n",
    "from pyecharts.charts import Bar\n",
    "from pyecharts.commons.utils import JsCode\n",
    "from pyecharts.globals import ThemeType\n",
    "\n",
    "list2 = [\n",
    "    {\"value\": 12, \"percent\": 12 / (12 + 3)},\n",
    "    {\"value\": 23, \"percent\": 23 / (23 + 21)},\n",
    "    {\"value\": 33, \"percent\": 33 / (33 + 5)},\n",
    "    {\"value\": 3, \"percent\": 3 / (3 + 52)},\n",
    "    {\"value\": 33, \"percent\": 33 / (33 + 43)},\n",
    "]\n",
    "\n",
    "list3 = [\n",
    "    {\"value\": 3, \"percent\": 3 / (12 + 3)},\n",
    "    {\"value\": 21, \"percent\": 21 / (23 + 21)},\n",
    "    {\"value\": 5, \"percent\": 5 / (33 + 5)},\n",
    "    {\"value\": 52, \"percent\": 52 / (3 + 52)},\n",
    "    {\"value\": 43, \"percent\": 43 / (33 + 43)},\n",
    "]\n",
    "\n",
    "c = (\n",
    "    Bar(init_opts=opts.InitOpts(theme=ThemeType.LIGHT))\n",
    "    .add_xaxis([1, 2, 3, 4, 5])\n",
    "    .add_yaxis(\"product1\", list2, stack=\"stack1\", category_gap=\"50%\")\n",
    "    .add_yaxis(\"product2\", list3, stack=\"stack1\", category_gap=\"50%\")\n",
    "    .set_series_opts(\n",
    "        label_opts=opts.LabelOpts(\n",
    "            position=\"right\",\n",
    "            formatter=JsCode(\n",
    "                \"function(x){return Number(x.data.percent * 100).toFixed() + '%';}\"\n",
    "            ),\n",
    "        )\n",
    "    )\n",
    "    # .render(\"stack_bar_percent.html\")\n",
    ")\n",
    "c.render_notebook()"
   ]
  }
 ],
 "metadata": {
  "kernelspec": {
   "display_name": "Python 3 (ipykernel)",
   "language": "python",
   "name": "python3"
  },
  "language_info": {
   "codemirror_mode": {
    "name": "ipython",
    "version": 3
   },
   "file_extension": ".py",
   "mimetype": "text/x-python",
   "name": "python",
   "nbconvert_exporter": "python",
   "pygments_lexer": "ipython3",
   "version": "3.11.0"
  }
 },
 "nbformat": 4,
 "nbformat_minor": 1
}
