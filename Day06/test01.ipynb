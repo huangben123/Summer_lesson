{
 "cells": [
  {
   "cell_type": "code",
   "execution_count": 2,
   "id": "c90d18b7",
   "metadata": {
    "ExecuteTime": {
     "end_time": "2023-06-18T01:41:11.883227300Z",
     "start_time": "2023-06-18T01:41:11.866567200Z"
    }
   },
   "outputs": [],
   "source": [
    "# 1.统计一行/一列数据的负数出现的次数\n",
    "# 2.让dataframelimian的正数全部变成0\n",
    "# 3、统计某列中元素出现的次数\n",
    "# 4、修改表头和索引\n",
    "# 5、修改列所在的位置\n",
    "# 6、常用的查询方法\n",
    "# 7、存储数据时不要索引\n",
    "# 8、指定列排序\n",
    "# 9、apply函数应用\n",
    "# 10、pandas数据合并\n",
    "# 11、pandas Dataframe拷贝\n",
    "# 12、对行或者列的操作"
   ]
  },
  {
   "cell_type": "code",
   "execution_count": 9,
   "outputs": [],
   "source": [
    "import pandas as pd\n"
   ],
   "metadata": {
    "collapsed": false,
    "ExecuteTime": {
     "end_time": "2023-06-18T01:47:56.604681600Z",
     "start_time": "2023-06-18T01:47:56.599186900Z"
    }
   }
  },
  {
   "cell_type": "code",
   "execution_count": 12,
   "outputs": [
    {
     "data": {
      "text/plain": "   a  b   c\n0 -1 -2  -8\n1  2 -5   3\n2 -3  5   6\n3  4  7 -77\n4  1  1   3",
      "text/html": "<div>\n<style scoped>\n    .dataframe tbody tr th:only-of-type {\n        vertical-align: middle;\n    }\n\n    .dataframe tbody tr th {\n        vertical-align: top;\n    }\n\n    .dataframe thead th {\n        text-align: right;\n    }\n</style>\n<table border=\"1\" class=\"dataframe\">\n  <thead>\n    <tr style=\"text-align: right;\">\n      <th></th>\n      <th>a</th>\n      <th>b</th>\n      <th>c</th>\n    </tr>\n  </thead>\n  <tbody>\n    <tr>\n      <th>0</th>\n      <td>-1</td>\n      <td>-2</td>\n      <td>-8</td>\n    </tr>\n    <tr>\n      <th>1</th>\n      <td>2</td>\n      <td>-5</td>\n      <td>3</td>\n    </tr>\n    <tr>\n      <th>2</th>\n      <td>-3</td>\n      <td>5</td>\n      <td>6</td>\n    </tr>\n    <tr>\n      <th>3</th>\n      <td>4</td>\n      <td>7</td>\n      <td>-77</td>\n    </tr>\n    <tr>\n      <th>4</th>\n      <td>1</td>\n      <td>1</td>\n      <td>3</td>\n    </tr>\n  </tbody>\n</table>\n</div>"
     },
     "execution_count": 12,
     "metadata": {},
     "output_type": "execute_result"
    }
   ],
   "source": [
    "df=pd.DataFrame(\n",
    "    {'a':[-1,2,-3,4,1],\n",
    "     'b':[-2,-5,5,7,1],\n",
    "     'c':[-8,3,6,-77,3]}\n",
    ")\n",
    "df"
   ],
   "metadata": {
    "collapsed": false,
    "ExecuteTime": {
     "end_time": "2023-06-18T01:48:16.723877400Z",
     "start_time": "2023-06-18T01:48:16.718894500Z"
    }
   }
  },
  {
   "cell_type": "code",
   "execution_count": 14,
   "outputs": [
    {
     "data": {
      "text/plain": "a    2\nb    2\nc    2\ndtype: int64"
     },
     "execution_count": 14,
     "metadata": {},
     "output_type": "execute_result"
    }
   ],
   "source": [
    "num_list=(df<0).astype(int).sum(axis=0)\n",
    "num_list\n"
   ],
   "metadata": {
    "collapsed": false,
    "ExecuteTime": {
     "end_time": "2023-06-18T01:49:15.286251400Z",
     "start_time": "2023-06-18T01:49:15.280262400Z"
    }
   }
  },
  {
   "cell_type": "code",
   "execution_count": 16,
   "outputs": [
    {
     "data": {
      "text/plain": "1"
     },
     "execution_count": 16,
     "metadata": {},
     "output_type": "execute_result"
    }
   ],
   "source": [
    "int(True)"
   ],
   "metadata": {
    "collapsed": false,
    "ExecuteTime": {
     "end_time": "2023-06-18T01:49:25.185742Z",
     "start_time": "2023-06-18T01:49:25.179848400Z"
    }
   }
  },
  {
   "cell_type": "code",
   "execution_count": 18,
   "outputs": [
    {
     "data": {
      "text/plain": "0"
     },
     "execution_count": 18,
     "metadata": {},
     "output_type": "execute_result"
    }
   ],
   "source": [
    "int (False)"
   ],
   "metadata": {
    "collapsed": false,
    "ExecuteTime": {
     "end_time": "2023-06-18T01:50:22.840273800Z",
     "start_time": "2023-06-18T01:50:22.833922200Z"
    }
   }
  },
  {
   "cell_type": "code",
   "execution_count": 19,
   "outputs": [],
   "source": [
    "#让databaseframe里面的正数全部变成0"
   ],
   "metadata": {
    "collapsed": false,
    "ExecuteTime": {
     "end_time": "2023-06-18T01:50:41.818602400Z",
     "start_time": "2023-06-18T01:50:41.812612800Z"
    }
   }
  },
  {
   "cell_type": "code",
   "execution_count": 21,
   "outputs": [
    {
     "data": {
      "text/plain": "     a    b    c\n0  NaN  NaN  NaN\n1  2.0  NaN  3.0\n2  NaN  5.0  6.0\n3  4.0  7.0  NaN\n4  1.0  1.0  3.0",
      "text/html": "<div>\n<style scoped>\n    .dataframe tbody tr th:only-of-type {\n        vertical-align: middle;\n    }\n\n    .dataframe tbody tr th {\n        vertical-align: top;\n    }\n\n    .dataframe thead th {\n        text-align: right;\n    }\n</style>\n<table border=\"1\" class=\"dataframe\">\n  <thead>\n    <tr style=\"text-align: right;\">\n      <th></th>\n      <th>a</th>\n      <th>b</th>\n      <th>c</th>\n    </tr>\n  </thead>\n  <tbody>\n    <tr>\n      <th>0</th>\n      <td>NaN</td>\n      <td>NaN</td>\n      <td>NaN</td>\n    </tr>\n    <tr>\n      <th>1</th>\n      <td>2.0</td>\n      <td>NaN</td>\n      <td>3.0</td>\n    </tr>\n    <tr>\n      <th>2</th>\n      <td>NaN</td>\n      <td>5.0</td>\n      <td>6.0</td>\n    </tr>\n    <tr>\n      <th>3</th>\n      <td>4.0</td>\n      <td>7.0</td>\n      <td>NaN</td>\n    </tr>\n    <tr>\n      <th>4</th>\n      <td>1.0</td>\n      <td>1.0</td>\n      <td>3.0</td>\n    </tr>\n  </tbody>\n</table>\n</div>"
     },
     "execution_count": 21,
     "metadata": {},
     "output_type": "execute_result"
    }
   ],
   "source": [
    "df[df>0]"
   ],
   "metadata": {
    "collapsed": false,
    "ExecuteTime": {
     "end_time": "2023-06-18T01:51:02.380597800Z",
     "start_time": "2023-06-18T01:51:02.374631200Z"
    }
   }
  },
  {
   "cell_type": "code",
   "execution_count": 24,
   "outputs": [
    {
     "data": {
      "text/plain": "   a  b   c\n0 -1 -2  -8\n1  0 -5   0\n2 -3  0   0\n3  0  0 -77\n4  0  0   0",
      "text/html": "<div>\n<style scoped>\n    .dataframe tbody tr th:only-of-type {\n        vertical-align: middle;\n    }\n\n    .dataframe tbody tr th {\n        vertical-align: top;\n    }\n\n    .dataframe thead th {\n        text-align: right;\n    }\n</style>\n<table border=\"1\" class=\"dataframe\">\n  <thead>\n    <tr style=\"text-align: right;\">\n      <th></th>\n      <th>a</th>\n      <th>b</th>\n      <th>c</th>\n    </tr>\n  </thead>\n  <tbody>\n    <tr>\n      <th>0</th>\n      <td>-1</td>\n      <td>-2</td>\n      <td>-8</td>\n    </tr>\n    <tr>\n      <th>1</th>\n      <td>0</td>\n      <td>-5</td>\n      <td>0</td>\n    </tr>\n    <tr>\n      <th>2</th>\n      <td>-3</td>\n      <td>0</td>\n      <td>0</td>\n    </tr>\n    <tr>\n      <th>3</th>\n      <td>0</td>\n      <td>0</td>\n      <td>-77</td>\n    </tr>\n    <tr>\n      <th>4</th>\n      <td>0</td>\n      <td>0</td>\n      <td>0</td>\n    </tr>\n  </tbody>\n</table>\n</div>"
     },
     "execution_count": 24,
     "metadata": {},
     "output_type": "execute_result"
    }
   ],
   "source": [
    "df[df>0]=0\n",
    "df"
   ],
   "metadata": {
    "collapsed": false,
    "ExecuteTime": {
     "end_time": "2023-06-18T01:56:21.803355900Z",
     "start_time": "2023-06-18T01:56:21.795269900Z"
    }
   }
  },
  {
   "cell_type": "code",
   "execution_count": 26,
   "outputs": [
    {
     "data": {
      "text/plain": " 0    3\n-2    1\n-5    1\nName: b, dtype: int64"
     },
     "execution_count": 26,
     "metadata": {},
     "output_type": "execute_result"
    }
   ],
   "source": [
    "df['b'].value_counts()#统计某列元素中的值的个数"
   ],
   "metadata": {
    "collapsed": false,
    "ExecuteTime": {
     "end_time": "2023-06-18T01:59:25.052051300Z",
     "start_time": "2023-06-18T01:59:25.046063800Z"
    }
   }
  },
  {
   "cell_type": "code",
   "execution_count": 54,
   "outputs": [
    {
     "data": {
      "text/plain": "(-0.5, 0.0]       3\n(-5.006, -4.5]    1\n(-2.5, -2.0]      1\n(-4.5, -4.0]      0\n(-4.0, -3.5]      0\n(-3.5, -3.0]      0\n(-3.0, -2.5]      0\n(-2.0, -1.5]      0\n(-1.5, -1.0]      0\n(-1.0, -0.5]      0\nName: b, dtype: int64"
     },
     "execution_count": 54,
     "metadata": {},
     "output_type": "execute_result"
    }
   ],
   "source": [
    "df['b'].value_counts(bins=10)#按bins均匀分割区间，统计坐落在区间内的元素\n"
   ],
   "metadata": {
    "collapsed": false,
    "ExecuteTime": {
     "end_time": "2023-06-18T02:11:09.735982900Z",
     "start_time": "2023-06-18T02:11:09.728525900Z"
    }
   }
  },
  {
   "cell_type": "code",
   "execution_count": 55,
   "outputs": [],
   "source": [
    "#计算各元素出现的次数占比"
   ],
   "metadata": {
    "collapsed": false,
    "ExecuteTime": {
     "end_time": "2023-06-18T02:11:26.904336700Z",
     "start_time": "2023-06-18T02:11:26.882673800Z"
    }
   }
  },
  {
   "cell_type": "code",
   "execution_count": 57,
   "outputs": [
    {
     "data": {
      "text/plain": " 0    0.6\n-2    0.2\n-5    0.2\nName: b, dtype: float64"
     },
     "execution_count": 57,
     "metadata": {},
     "output_type": "execute_result"
    }
   ],
   "source": [
    "df['b'].value_counts(normalize=True)\n"
   ],
   "metadata": {
    "collapsed": false,
    "ExecuteTime": {
     "end_time": "2023-06-18T02:14:19.237796Z",
     "start_time": "2023-06-18T02:14:19.237796Z"
    }
   }
  },
  {
   "cell_type": "code",
   "execution_count": 59,
   "outputs": [
    {
     "data": {
      "text/plain": "   A  B   c\n0 -1 -2  -8\n1  0 -5   0\n2 -3  0   0\n3  0  0 -77\n4  0  0   0",
      "text/html": "<div>\n<style scoped>\n    .dataframe tbody tr th:only-of-type {\n        vertical-align: middle;\n    }\n\n    .dataframe tbody tr th {\n        vertical-align: top;\n    }\n\n    .dataframe thead th {\n        text-align: right;\n    }\n</style>\n<table border=\"1\" class=\"dataframe\">\n  <thead>\n    <tr style=\"text-align: right;\">\n      <th></th>\n      <th>A</th>\n      <th>B</th>\n      <th>c</th>\n    </tr>\n  </thead>\n  <tbody>\n    <tr>\n      <th>0</th>\n      <td>-1</td>\n      <td>-2</td>\n      <td>-8</td>\n    </tr>\n    <tr>\n      <th>1</th>\n      <td>0</td>\n      <td>-5</td>\n      <td>0</td>\n    </tr>\n    <tr>\n      <th>2</th>\n      <td>-3</td>\n      <td>0</td>\n      <td>0</td>\n    </tr>\n    <tr>\n      <th>3</th>\n      <td>0</td>\n      <td>0</td>\n      <td>-77</td>\n    </tr>\n    <tr>\n      <th>4</th>\n      <td>0</td>\n      <td>0</td>\n      <td>0</td>\n    </tr>\n  </tbody>\n</table>\n</div>"
     },
     "execution_count": 59,
     "metadata": {},
     "output_type": "execute_result"
    }
   ],
   "source": [
    "columns={'a':'A','b':'B'}\n",
    "df.rename(columns=columns,inplace=True)#重新定义列的索引，inplace表示在这个原表上修改\n",
    "df"
   ],
   "metadata": {
    "collapsed": false,
    "ExecuteTime": {
     "end_time": "2023-06-18T02:17:23.750124900Z",
     "start_time": "2023-06-18T02:17:23.728812200Z"
    }
   }
  },
  {
   "cell_type": "code",
   "execution_count": 66,
   "outputs": [
    {
     "data": {
      "text/plain": "   A  B   c\na -1 -2  -8\nb  0 -5   0\nc -3  0   0\nd  0  0 -77\ne  0  0   0",
      "text/html": "<div>\n<style scoped>\n    .dataframe tbody tr th:only-of-type {\n        vertical-align: middle;\n    }\n\n    .dataframe tbody tr th {\n        vertical-align: top;\n    }\n\n    .dataframe thead th {\n        text-align: right;\n    }\n</style>\n<table border=\"1\" class=\"dataframe\">\n  <thead>\n    <tr style=\"text-align: right;\">\n      <th></th>\n      <th>A</th>\n      <th>B</th>\n      <th>c</th>\n    </tr>\n  </thead>\n  <tbody>\n    <tr>\n      <th>a</th>\n      <td>-1</td>\n      <td>-2</td>\n      <td>-8</td>\n    </tr>\n    <tr>\n      <th>b</th>\n      <td>0</td>\n      <td>-5</td>\n      <td>0</td>\n    </tr>\n    <tr>\n      <th>c</th>\n      <td>-3</td>\n      <td>0</td>\n      <td>0</td>\n    </tr>\n    <tr>\n      <th>d</th>\n      <td>0</td>\n      <td>0</td>\n      <td>-77</td>\n    </tr>\n    <tr>\n      <th>e</th>\n      <td>0</td>\n      <td>0</td>\n      <td>0</td>\n    </tr>\n  </tbody>\n</table>\n</div>"
     },
     "execution_count": 66,
     "metadata": {},
     "output_type": "execute_result"
    }
   ],
   "source": [
    "df.index=['a','b','c','d','e']\n",
    "df\n"
   ],
   "metadata": {
    "collapsed": false,
    "ExecuteTime": {
     "end_time": "2023-06-18T02:23:09.675111400Z",
     "start_time": "2023-06-18T02:23:09.668869100Z"
    }
   }
  },
  {
   "cell_type": "code",
   "execution_count": 72,
   "outputs": [
    {
     "data": {
      "text/plain": "   B   c  D\na -2  -8 -1\nb -5   0  0\nc  0   0 -3\nd  0 -77  0\ne  0   0  0",
      "text/html": "<div>\n<style scoped>\n    .dataframe tbody tr th:only-of-type {\n        vertical-align: middle;\n    }\n\n    .dataframe tbody tr th {\n        vertical-align: top;\n    }\n\n    .dataframe thead th {\n        text-align: right;\n    }\n</style>\n<table border=\"1\" class=\"dataframe\">\n  <thead>\n    <tr style=\"text-align: right;\">\n      <th></th>\n      <th>B</th>\n      <th>c</th>\n      <th>D</th>\n    </tr>\n  </thead>\n  <tbody>\n    <tr>\n      <th>a</th>\n      <td>-2</td>\n      <td>-8</td>\n      <td>-1</td>\n    </tr>\n    <tr>\n      <th>b</th>\n      <td>-5</td>\n      <td>0</td>\n      <td>0</td>\n    </tr>\n    <tr>\n      <th>c</th>\n      <td>0</td>\n      <td>0</td>\n      <td>-3</td>\n    </tr>\n    <tr>\n      <th>d</th>\n      <td>0</td>\n      <td>-77</td>\n      <td>0</td>\n    </tr>\n    <tr>\n      <th>e</th>\n      <td>0</td>\n      <td>0</td>\n      <td>0</td>\n    </tr>\n  </tbody>\n</table>\n</div>"
     },
     "execution_count": 72,
     "metadata": {},
     "output_type": "execute_result"
    }
   ],
   "source": [
    "#insert在指定位置插入某列值，pop按列名字取出某列值，同时会删除他\n",
    "df.insert(2,'D',df.pop('A'))#2表示新增的位置，‘D’表示新增的列名,'A'表示删除这列\n",
    "df"
   ],
   "metadata": {
    "collapsed": false,
    "ExecuteTime": {
     "end_time": "2023-06-18T02:29:02.080488400Z",
     "start_time": "2023-06-18T02:29:02.060566600Z"
    }
   }
  },
  {
   "cell_type": "code",
   "execution_count": 71,
   "outputs": [
    {
     "data": {
      "text/plain": "   B   c  A\na -2  -8 -1\nd  0 -77  0",
      "text/html": "<div>\n<style scoped>\n    .dataframe tbody tr th:only-of-type {\n        vertical-align: middle;\n    }\n\n    .dataframe tbody tr th {\n        vertical-align: top;\n    }\n\n    .dataframe thead th {\n        text-align: right;\n    }\n</style>\n<table border=\"1\" class=\"dataframe\">\n  <thead>\n    <tr style=\"text-align: right;\">\n      <th></th>\n      <th>B</th>\n      <th>c</th>\n      <th>A</th>\n    </tr>\n  </thead>\n  <tbody>\n    <tr>\n      <th>a</th>\n      <td>-2</td>\n      <td>-8</td>\n      <td>-1</td>\n    </tr>\n    <tr>\n      <th>d</th>\n      <td>0</td>\n      <td>-77</td>\n      <td>0</td>\n    </tr>\n  </tbody>\n</table>\n</div>"
     },
     "execution_count": 71,
     "metadata": {},
     "output_type": "execute_result"
    }
   ],
   "source": [
    "df.query('c<0')#查询c列中小于0的,查询所有对象"
   ],
   "metadata": {
    "collapsed": false,
    "ExecuteTime": {
     "end_time": "2023-06-18T02:28:12.164438100Z",
     "start_time": "2023-06-18T02:28:12.159371700Z"
    }
   }
  },
  {
   "cell_type": "code",
   "execution_count": 87,
   "outputs": [
    {
     "data": {
      "text/plain": "  name2 name  B   c  D\na    张三   张三 -2  -8 -1\nb    李四   李四 -5   0  0\nc    麻子   王五  0   0 -3\nd    王五   王五  0 -77  0\ne    华子   华子  0   0  0",
      "text/html": "<div>\n<style scoped>\n    .dataframe tbody tr th:only-of-type {\n        vertical-align: middle;\n    }\n\n    .dataframe tbody tr th {\n        vertical-align: top;\n    }\n\n    .dataframe thead th {\n        text-align: right;\n    }\n</style>\n<table border=\"1\" class=\"dataframe\">\n  <thead>\n    <tr style=\"text-align: right;\">\n      <th></th>\n      <th>name2</th>\n      <th>name</th>\n      <th>B</th>\n      <th>c</th>\n      <th>D</th>\n    </tr>\n  </thead>\n  <tbody>\n    <tr>\n      <th>a</th>\n      <td>张三</td>\n      <td>张三</td>\n      <td>-2</td>\n      <td>-8</td>\n      <td>-1</td>\n    </tr>\n    <tr>\n      <th>b</th>\n      <td>李四</td>\n      <td>李四</td>\n      <td>-5</td>\n      <td>0</td>\n      <td>0</td>\n    </tr>\n    <tr>\n      <th>c</th>\n      <td>麻子</td>\n      <td>王五</td>\n      <td>0</td>\n      <td>0</td>\n      <td>-3</td>\n    </tr>\n    <tr>\n      <th>d</th>\n      <td>王五</td>\n      <td>王五</td>\n      <td>0</td>\n      <td>-77</td>\n      <td>0</td>\n    </tr>\n    <tr>\n      <th>e</th>\n      <td>华子</td>\n      <td>华子</td>\n      <td>0</td>\n      <td>0</td>\n      <td>0</td>\n    </tr>\n  </tbody>\n</table>\n</div>"
     },
     "execution_count": 87,
     "metadata": {},
     "output_type": "execute_result"
    }
   ],
   "source": [
    "df.insert(0,'name2',['张三','李四','麻子','王五','华子'])\n",
    "df"
   ],
   "metadata": {
    "collapsed": false,
    "ExecuteTime": {
     "end_time": "2023-06-18T02:31:56.622139600Z",
     "start_time": "2023-06-18T02:31:56.601846100Z"
    }
   }
  },
  {
   "cell_type": "code",
   "execution_count": 88,
   "outputs": [
    {
     "data": {
      "text/plain": "  name2 name  B   c  D\na    张三   张三 -2  -8 -1\nb    李四   李四 -5   0  0\nc    麻子   王五  0   0 -3\nd    王五   王五  0 -77  0\ne    华子   华子  0   0  0",
      "text/html": "<div>\n<style scoped>\n    .dataframe tbody tr th:only-of-type {\n        vertical-align: middle;\n    }\n\n    .dataframe tbody tr th {\n        vertical-align: top;\n    }\n\n    .dataframe thead th {\n        text-align: right;\n    }\n</style>\n<table border=\"1\" class=\"dataframe\">\n  <thead>\n    <tr style=\"text-align: right;\">\n      <th></th>\n      <th>name2</th>\n      <th>name</th>\n      <th>B</th>\n      <th>c</th>\n      <th>D</th>\n    </tr>\n  </thead>\n  <tbody>\n    <tr>\n      <th>a</th>\n      <td>张三</td>\n      <td>张三</td>\n      <td>-2</td>\n      <td>-8</td>\n      <td>-1</td>\n    </tr>\n    <tr>\n      <th>b</th>\n      <td>李四</td>\n      <td>李四</td>\n      <td>-5</td>\n      <td>0</td>\n      <td>0</td>\n    </tr>\n    <tr>\n      <th>c</th>\n      <td>麻子</td>\n      <td>王五</td>\n      <td>0</td>\n      <td>0</td>\n      <td>-3</td>\n    </tr>\n    <tr>\n      <th>d</th>\n      <td>王五</td>\n      <td>王五</td>\n      <td>0</td>\n      <td>-77</td>\n      <td>0</td>\n    </tr>\n    <tr>\n      <th>e</th>\n      <td>华子</td>\n      <td>华子</td>\n      <td>0</td>\n      <td>0</td>\n      <td>0</td>\n    </tr>\n  </tbody>\n</table>\n</div>"
     },
     "execution_count": 88,
     "metadata": {},
     "output_type": "execute_result"
    }
   ],
   "source": [
    "df"
   ],
   "metadata": {
    "collapsed": false,
    "ExecuteTime": {
     "end_time": "2023-06-18T02:33:42.188680200Z",
     "start_time": "2023-06-18T02:33:42.181654Z"
    }
   }
  },
  {
   "cell_type": "code",
   "execution_count": 91,
   "outputs": [
    {
     "data": {
      "text/plain": "  name2 name  B   c  D\na    张三   张三 -2  -8 -1\nb    李四   李四 -5   0  0\nc    麻子   王五  0   0 -3\nd    王五   王五  0 -77  0",
      "text/html": "<div>\n<style scoped>\n    .dataframe tbody tr th:only-of-type {\n        vertical-align: middle;\n    }\n\n    .dataframe tbody tr th {\n        vertical-align: top;\n    }\n\n    .dataframe thead th {\n        text-align: right;\n    }\n</style>\n<table border=\"1\" class=\"dataframe\">\n  <thead>\n    <tr style=\"text-align: right;\">\n      <th></th>\n      <th>name2</th>\n      <th>name</th>\n      <th>B</th>\n      <th>c</th>\n      <th>D</th>\n    </tr>\n  </thead>\n  <tbody>\n    <tr>\n      <th>a</th>\n      <td>张三</td>\n      <td>张三</td>\n      <td>-2</td>\n      <td>-8</td>\n      <td>-1</td>\n    </tr>\n    <tr>\n      <th>b</th>\n      <td>李四</td>\n      <td>李四</td>\n      <td>-5</td>\n      <td>0</td>\n      <td>0</td>\n    </tr>\n    <tr>\n      <th>c</th>\n      <td>麻子</td>\n      <td>王五</td>\n      <td>0</td>\n      <td>0</td>\n      <td>-3</td>\n    </tr>\n    <tr>\n      <th>d</th>\n      <td>王五</td>\n      <td>王五</td>\n      <td>0</td>\n      <td>-77</td>\n      <td>0</td>\n    </tr>\n  </tbody>\n</table>\n</div>"
     },
     "execution_count": 91,
     "metadata": {},
     "output_type": "execute_result"
    }
   ],
   "source": [
    "df.query(\"name.str.contains('三|四|五')\",engine='python')#查询包含三四五的数据"
   ],
   "metadata": {
    "collapsed": false,
    "ExecuteTime": {
     "end_time": "2023-06-18T02:39:04.962480500Z",
     "start_time": "2023-06-18T02:39:04.915037900Z"
    }
   }
  },
  {
   "cell_type": "code",
   "execution_count": 95,
   "outputs": [],
   "source": [
    "#储存数据不用索引\n",
    "df.to_csv('测试1.csv',encoding='utf-8')#有索引\n",
    "df.to_csv('测试2.csv',encoding='utf-8',index=None)#没有索引"
   ],
   "metadata": {
    "collapsed": false,
    "ExecuteTime": {
     "end_time": "2023-06-18T02:43:46.278236900Z",
     "start_time": "2023-06-18T02:43:46.271986800Z"
    }
   }
  },
  {
   "cell_type": "code",
   "execution_count": 97,
   "outputs": [
    {
     "data": {
      "text/plain": "  name2 name  B   c  D\ne    华子   华子  0   0  0\na    张三   张三 -2  -8 -1\nb    李四   李四 -5   0  0\nc    麻子   王五  0   0 -3\nd    王五   王五  0 -77  0",
      "text/html": "<div>\n<style scoped>\n    .dataframe tbody tr th:only-of-type {\n        vertical-align: middle;\n    }\n\n    .dataframe tbody tr th {\n        vertical-align: top;\n    }\n\n    .dataframe thead th {\n        text-align: right;\n    }\n</style>\n<table border=\"1\" class=\"dataframe\">\n  <thead>\n    <tr style=\"text-align: right;\">\n      <th></th>\n      <th>name2</th>\n      <th>name</th>\n      <th>B</th>\n      <th>c</th>\n      <th>D</th>\n    </tr>\n  </thead>\n  <tbody>\n    <tr>\n      <th>e</th>\n      <td>华子</td>\n      <td>华子</td>\n      <td>0</td>\n      <td>0</td>\n      <td>0</td>\n    </tr>\n    <tr>\n      <th>a</th>\n      <td>张三</td>\n      <td>张三</td>\n      <td>-2</td>\n      <td>-8</td>\n      <td>-1</td>\n    </tr>\n    <tr>\n      <th>b</th>\n      <td>李四</td>\n      <td>李四</td>\n      <td>-5</td>\n      <td>0</td>\n      <td>0</td>\n    </tr>\n    <tr>\n      <th>c</th>\n      <td>麻子</td>\n      <td>王五</td>\n      <td>0</td>\n      <td>0</td>\n      <td>-3</td>\n    </tr>\n    <tr>\n      <th>d</th>\n      <td>王五</td>\n      <td>王五</td>\n      <td>0</td>\n      <td>-77</td>\n      <td>0</td>\n    </tr>\n  </tbody>\n</table>\n</div>"
     },
     "execution_count": 97,
     "metadata": {},
     "output_type": "execute_result"
    }
   ],
   "source": [
    "#by获取指定列na_position NaN放在开头或是结尾,first表示将缺失值（NaN）放置在排序后的DataFrame的开头。\n",
    "df.sort_values(by=['name'],na_position='first',ascending=True)"
   ],
   "metadata": {
    "collapsed": false,
    "ExecuteTime": {
     "end_time": "2023-06-18T02:49:43.686918Z",
     "start_time": "2023-06-18T02:49:43.679708400Z"
    }
   }
  },
  {
   "cell_type": "code",
   "execution_count": 100,
   "outputs": [
    {
     "data": {
      "text/plain": "    c  B\na  -7 -1\nb   1 -4\nc   1  1\nd -76  1\ne   1  1",
      "text/html": "<div>\n<style scoped>\n    .dataframe tbody tr th:only-of-type {\n        vertical-align: middle;\n    }\n\n    .dataframe tbody tr th {\n        vertical-align: top;\n    }\n\n    .dataframe thead th {\n        text-align: right;\n    }\n</style>\n<table border=\"1\" class=\"dataframe\">\n  <thead>\n    <tr style=\"text-align: right;\">\n      <th></th>\n      <th>c</th>\n      <th>B</th>\n    </tr>\n  </thead>\n  <tbody>\n    <tr>\n      <th>a</th>\n      <td>-7</td>\n      <td>-1</td>\n    </tr>\n    <tr>\n      <th>b</th>\n      <td>1</td>\n      <td>-4</td>\n    </tr>\n    <tr>\n      <th>c</th>\n      <td>1</td>\n      <td>1</td>\n    </tr>\n    <tr>\n      <th>d</th>\n      <td>-76</td>\n      <td>1</td>\n    </tr>\n    <tr>\n      <th>e</th>\n      <td>1</td>\n      <td>1</td>\n    </tr>\n  </tbody>\n</table>\n</div>"
     },
     "execution_count": 100,
     "metadata": {},
     "output_type": "execute_result"
    }
   ],
   "source": [
    "df[['c','B']].apply(lambda x:x+1)#指定列（c，B）都加1"
   ],
   "metadata": {
    "collapsed": false,
    "ExecuteTime": {
     "end_time": "2023-06-18T02:51:31.138284400Z",
     "start_time": "2023-06-18T02:51:31.130681300Z"
    }
   }
  },
  {
   "cell_type": "code",
   "execution_count": 117,
   "outputs": [
    {
     "data": {
      "text/plain": "  name  B   c  D\na   zs -2  -8 -1\nc   王五  0   0 -3\nd   王五  0 -77  0\nd   王五  0 -77  0\ne   华子  0   0  0",
      "text/html": "<div>\n<style scoped>\n    .dataframe tbody tr th:only-of-type {\n        vertical-align: middle;\n    }\n\n    .dataframe tbody tr th {\n        vertical-align: top;\n    }\n\n    .dataframe thead th {\n        text-align: right;\n    }\n</style>\n<table border=\"1\" class=\"dataframe\">\n  <thead>\n    <tr style=\"text-align: right;\">\n      <th></th>\n      <th>name</th>\n      <th>B</th>\n      <th>c</th>\n      <th>D</th>\n    </tr>\n  </thead>\n  <tbody>\n    <tr>\n      <th>a</th>\n      <td>zs</td>\n      <td>-2</td>\n      <td>-8</td>\n      <td>-1</td>\n    </tr>\n    <tr>\n      <th>c</th>\n      <td>王五</td>\n      <td>0</td>\n      <td>0</td>\n      <td>-3</td>\n    </tr>\n    <tr>\n      <th>d</th>\n      <td>王五</td>\n      <td>0</td>\n      <td>-77</td>\n      <td>0</td>\n    </tr>\n    <tr>\n      <th>d</th>\n      <td>王五</td>\n      <td>0</td>\n      <td>-77</td>\n      <td>0</td>\n    </tr>\n    <tr>\n      <th>e</th>\n      <td>华子</td>\n      <td>0</td>\n      <td>0</td>\n      <td>0</td>\n    </tr>\n  </tbody>\n</table>\n</div>"
     },
     "execution_count": 117,
     "metadata": {},
     "output_type": "execute_result"
    }
   ],
   "source": [
    "#pandas数据合并\n",
    "df1=df[0:1]\n",
    "df2=df[2:4]\n",
    "df3=df[3:5]\n",
    "#构建一个列表\n",
    "frames=[df1,df2,df3]#不去重的合并\n",
    "df4=pd.concat(frames)\n",
    "df4"
   ],
   "metadata": {
    "collapsed": false,
    "ExecuteTime": {
     "end_time": "2023-06-18T03:01:17.414213300Z",
     "start_time": "2023-06-18T03:01:17.406687400Z"
    }
   }
  },
  {
   "cell_type": "code",
   "execution_count": 112,
   "outputs": [
    {
     "data": {
      "text/plain": "  name  B   c  D\na   张三 -2  -8 -1\nb   李四 -5   0  0\nc   王五  0   0 -3\nd   王五  0 -77  0\ne   华子  0   0  0",
      "text/html": "<div>\n<style scoped>\n    .dataframe tbody tr th:only-of-type {\n        vertical-align: middle;\n    }\n\n    .dataframe tbody tr th {\n        vertical-align: top;\n    }\n\n    .dataframe thead th {\n        text-align: right;\n    }\n</style>\n<table border=\"1\" class=\"dataframe\">\n  <thead>\n    <tr style=\"text-align: right;\">\n      <th></th>\n      <th>name</th>\n      <th>B</th>\n      <th>c</th>\n      <th>D</th>\n    </tr>\n  </thead>\n  <tbody>\n    <tr>\n      <th>a</th>\n      <td>张三</td>\n      <td>-2</td>\n      <td>-8</td>\n      <td>-1</td>\n    </tr>\n    <tr>\n      <th>b</th>\n      <td>李四</td>\n      <td>-5</td>\n      <td>0</td>\n      <td>0</td>\n    </tr>\n    <tr>\n      <th>c</th>\n      <td>王五</td>\n      <td>0</td>\n      <td>0</td>\n      <td>-3</td>\n    </tr>\n    <tr>\n      <th>d</th>\n      <td>王五</td>\n      <td>0</td>\n      <td>-77</td>\n      <td>0</td>\n    </tr>\n    <tr>\n      <th>e</th>\n      <td>华子</td>\n      <td>0</td>\n      <td>0</td>\n      <td>0</td>\n    </tr>\n  </tbody>\n</table>\n</div>"
     },
     "execution_count": 112,
     "metadata": {},
     "output_type": "execute_result"
    }
   ],
   "source": [
    "# df.drop('name2', axis=1, inplace=True)#删除列，axis=1表示你要删除的是列\n",
    "df"
   ],
   "metadata": {
    "collapsed": false,
    "ExecuteTime": {
     "end_time": "2023-06-18T02:59:56.959809800Z",
     "start_time": "2023-06-18T02:59:56.948442500Z"
    }
   }
  },
  {
   "cell_type": "code",
   "execution_count": 121,
   "outputs": [
    {
     "name": "stdout",
     "output_type": "stream",
     "text": [
      "df\n",
      "  name  B   c  D\n",
      "a  zhh -2  -8 -1\n",
      "b   zs -5   0  0\n",
      "c   王五  0   0 -3\n",
      "d   王五  0 -77  0\n",
      "e   华子  0   0  0\n",
      "df1  name  B  c  D\n",
      "a  zhh -2 -8 -1\n"
     ]
    },
    {
     "name": "stderr",
     "output_type": "stream",
     "text": [
      "C:\\Users\\pc\\AppData\\Local\\Temp\\ipykernel_2528\\2107232273.py:1: SettingWithCopyWarning: \n",
      "A value is trying to be set on a copy of a slice from a DataFrame\n",
      "\n",
      "See the caveats in the documentation: https://pandas.pydata.org/pandas-docs/stable/user_guide/indexing.html#returning-a-view-versus-a-copy\n",
      "  df['name'][1]='zs'\n"
     ]
    }
   ],
   "source": [
    "df['name'][1]='zs'\n",
    "print(f\"df\\n{df}\\ndf1{df1}\")"
   ],
   "metadata": {
    "collapsed": false,
    "ExecuteTime": {
     "end_time": "2023-06-18T03:15:22.541116200Z",
     "start_time": "2023-06-18T03:15:22.534477700Z"
    }
   }
  },
  {
   "cell_type": "code",
   "execution_count": 134,
   "outputs": [
    {
     "name": "stdout",
     "output_type": "stream",
     "text": [
      "  name  B   c  D\n",
      "a   张三 -2  -8 -1\n",
      "b   李四 -5   0  0\n",
      "c   王五  0   0 -3\n",
      "d   王五  0 -77  0\n",
      "e   华子  0   0  0\n",
      "  name  B   c  D\n",
      "a  yes -2  -8 -1\n",
      "b   李四 -5   0  0\n",
      "c   王五  0   0 -3\n",
      "d   王五  0 -77  0\n",
      "e   华子  0   0  0\n",
      "  name  B   c  D\n",
      "a   张三 -2  -8 -1\n",
      "b   李四 -5   0  0\n",
      "c   王五  0   0 -3\n",
      "d   王五  0 -77  0\n",
      "e   华子  0   0  0\n"
     ]
    },
    {
     "name": "stderr",
     "output_type": "stream",
     "text": [
      "C:\\Users\\pc\\AppData\\Local\\Temp\\ipykernel_2528\\2936666709.py:4: SettingWithCopyWarning: \n",
      "A value is trying to be set on a copy of a slice from a DataFrame\n",
      "\n",
      "See the caveats in the documentation: https://pandas.pydata.org/pandas-docs/stable/user_guide/indexing.html#returning-a-view-versus-a-copy\n",
      "  df2['name'][0] = 'yes'\n"
     ]
    }
   ],
   "source": [
    "print(df)\n",
    "df2 = df.copy(deep=True)  #浅拷贝\n",
    "df2\n",
    "df2['name'][0] = 'yes'\n",
    "print(f\"{df2}\\n{df}\")  #浅拷贝，改变df2,df也被改变"
   ],
   "metadata": {
    "collapsed": false,
    "ExecuteTime": {
     "end_time": "2023-06-18T03:22:02.383430400Z",
     "start_time": "2023-06-18T03:22:02.375787400Z"
    }
   }
  },
  {
   "cell_type": "code",
   "execution_count": 135,
   "outputs": [
    {
     "name": "stdout",
     "output_type": "stream",
     "text": [
      "  name  B   c  D\n",
      "a  yes -2  -8 -1\n",
      "b   李四 -5   0  0\n",
      "c   王五  0   0 -3\n",
      "d   王五  0 -77  0\n",
      "e   华子  0   0  0\n",
      "  name  B   c  D\n",
      "a   张三 -2  -8 -1\n",
      "b   李四 -5   0  0\n",
      "c   王五  0   0 -3\n",
      "d   王五  0 -77  0\n",
      "e   华子  0   0  0\n"
     ]
    },
    {
     "name": "stderr",
     "output_type": "stream",
     "text": [
      "C:\\Users\\pc\\AppData\\Local\\Temp\\ipykernel_2528\\977518792.py:3: SettingWithCopyWarning: \n",
      "A value is trying to be set on a copy of a slice from a DataFrame\n",
      "\n",
      "See the caveats in the documentation: https://pandas.pydata.org/pandas-docs/stable/user_guide/indexing.html#returning-a-view-versus-a-copy\n",
      "  df2['name'][0]='yes'\n"
     ]
    }
   ],
   "source": [
    "df2=df.copy(deep=True)#深拷贝\n",
    "df2\n",
    "df2['name'][0]='yes'\n",
    "print(f\"{df2}\\n{df}\")#深拷贝，改变df2,df不会被改变"
   ],
   "metadata": {
    "collapsed": false,
    "ExecuteTime": {
     "end_time": "2023-06-18T03:22:34.279133Z",
     "start_time": "2023-06-18T03:22:34.266511Z"
    }
   }
  },
  {
   "cell_type": "code",
   "execution_count": 138,
   "outputs": [
    {
     "data": {
      "text/plain": "    c  D\na  -8 -1\nb   0  0\nc   0 -3\nd -77  0\ne   0  0",
      "text/html": "<div>\n<style scoped>\n    .dataframe tbody tr th:only-of-type {\n        vertical-align: middle;\n    }\n\n    .dataframe tbody tr th {\n        vertical-align: top;\n    }\n\n    .dataframe thead th {\n        text-align: right;\n    }\n</style>\n<table border=\"1\" class=\"dataframe\">\n  <thead>\n    <tr style=\"text-align: right;\">\n      <th></th>\n      <th>c</th>\n      <th>D</th>\n    </tr>\n  </thead>\n  <tbody>\n    <tr>\n      <th>a</th>\n      <td>-8</td>\n      <td>-1</td>\n    </tr>\n    <tr>\n      <th>b</th>\n      <td>0</td>\n      <td>0</td>\n    </tr>\n    <tr>\n      <th>c</th>\n      <td>0</td>\n      <td>-3</td>\n    </tr>\n    <tr>\n      <th>d</th>\n      <td>-77</td>\n      <td>0</td>\n    </tr>\n    <tr>\n      <th>e</th>\n      <td>0</td>\n      <td>0</td>\n    </tr>\n  </tbody>\n</table>\n</div>"
     },
     "execution_count": 138,
     "metadata": {},
     "output_type": "execute_result"
    }
   ],
   "source": [
    "df3=df.iloc[:,-2:]#所有行，倒数第二列到所有列,带了i的loc根据列索引取值，比如1列2列。。\n",
    "df3"
   ],
   "metadata": {
    "collapsed": false,
    "ExecuteTime": {
     "end_time": "2023-06-18T03:24:07.830615400Z",
     "start_time": "2023-06-18T03:24:07.816873800Z"
    }
   }
  },
  {
   "cell_type": "code",
   "execution_count": 140,
   "outputs": [
    {
     "data": {
      "text/plain": "  name  B\na   张三 -2\nb   李四 -5\nc   王五  0\nd   王五  0\ne   华子  0",
      "text/html": "<div>\n<style scoped>\n    .dataframe tbody tr th:only-of-type {\n        vertical-align: middle;\n    }\n\n    .dataframe tbody tr th {\n        vertical-align: top;\n    }\n\n    .dataframe thead th {\n        text-align: right;\n    }\n</style>\n<table border=\"1\" class=\"dataframe\">\n  <thead>\n    <tr style=\"text-align: right;\">\n      <th></th>\n      <th>name</th>\n      <th>B</th>\n    </tr>\n  </thead>\n  <tbody>\n    <tr>\n      <th>a</th>\n      <td>张三</td>\n      <td>-2</td>\n    </tr>\n    <tr>\n      <th>b</th>\n      <td>李四</td>\n      <td>-5</td>\n    </tr>\n    <tr>\n      <th>c</th>\n      <td>王五</td>\n      <td>0</td>\n    </tr>\n    <tr>\n      <th>d</th>\n      <td>王五</td>\n      <td>0</td>\n    </tr>\n    <tr>\n      <th>e</th>\n      <td>华子</td>\n      <td>0</td>\n    </tr>\n  </tbody>\n</table>\n</div>"
     },
     "execution_count": 140,
     "metadata": {},
     "output_type": "execute_result"
    }
   ],
   "source": [
    "df4=df.loc[:,['name','B']]#不带i的loc根据列名取值比name\n",
    "df4"
   ],
   "metadata": {
    "collapsed": false,
    "ExecuteTime": {
     "end_time": "2023-06-18T03:25:52.182509900Z",
     "start_time": "2023-06-18T03:25:52.169777Z"
    }
   }
  },
  {
   "cell_type": "code",
   "execution_count": 142,
   "outputs": [
    {
     "data": {
      "text/plain": "   name  B   c  D\na1   张三 -2  -8 -1\na2   李四 -5   0  0\na3   王五  0   0 -3\na4   王五  0 -77  0\na5   华子  0   0  0",
      "text/html": "<div>\n<style scoped>\n    .dataframe tbody tr th:only-of-type {\n        vertical-align: middle;\n    }\n\n    .dataframe tbody tr th {\n        vertical-align: top;\n    }\n\n    .dataframe thead th {\n        text-align: right;\n    }\n</style>\n<table border=\"1\" class=\"dataframe\">\n  <thead>\n    <tr style=\"text-align: right;\">\n      <th></th>\n      <th>name</th>\n      <th>B</th>\n      <th>c</th>\n      <th>D</th>\n    </tr>\n  </thead>\n  <tbody>\n    <tr>\n      <th>a1</th>\n      <td>张三</td>\n      <td>-2</td>\n      <td>-8</td>\n      <td>-1</td>\n    </tr>\n    <tr>\n      <th>a2</th>\n      <td>李四</td>\n      <td>-5</td>\n      <td>0</td>\n      <td>0</td>\n    </tr>\n    <tr>\n      <th>a3</th>\n      <td>王五</td>\n      <td>0</td>\n      <td>0</td>\n      <td>-3</td>\n    </tr>\n    <tr>\n      <th>a4</th>\n      <td>王五</td>\n      <td>0</td>\n      <td>-77</td>\n      <td>0</td>\n    </tr>\n    <tr>\n      <th>a5</th>\n      <td>华子</td>\n      <td>0</td>\n      <td>0</td>\n      <td>0</td>\n    </tr>\n  </tbody>\n</table>\n</div>"
     },
     "execution_count": 142,
     "metadata": {},
     "output_type": "execute_result"
    }
   ],
   "source": [
    "#重新设置索引\n",
    "df.index=['a1','a2','a3','a4','a5']\n",
    "df\n"
   ],
   "metadata": {
    "collapsed": false,
    "ExecuteTime": {
     "end_time": "2023-06-18T03:26:34.991767100Z",
     "start_time": "2023-06-18T03:26:34.978906200Z"
    }
   }
  },
  {
   "cell_type": "code",
   "execution_count": 145,
   "outputs": [
    {
     "data": {
      "text/plain": "   name  B  c  D\na1   张三 -2 -8 -1\na2   李四 -5  0  0",
      "text/html": "<div>\n<style scoped>\n    .dataframe tbody tr th:only-of-type {\n        vertical-align: middle;\n    }\n\n    .dataframe tbody tr th {\n        vertical-align: top;\n    }\n\n    .dataframe thead th {\n        text-align: right;\n    }\n</style>\n<table border=\"1\" class=\"dataframe\">\n  <thead>\n    <tr style=\"text-align: right;\">\n      <th></th>\n      <th>name</th>\n      <th>B</th>\n      <th>c</th>\n      <th>D</th>\n    </tr>\n  </thead>\n  <tbody>\n    <tr>\n      <th>a1</th>\n      <td>张三</td>\n      <td>-2</td>\n      <td>-8</td>\n      <td>-1</td>\n    </tr>\n    <tr>\n      <th>a2</th>\n      <td>李四</td>\n      <td>-5</td>\n      <td>0</td>\n      <td>0</td>\n    </tr>\n  </tbody>\n</table>\n</div>"
     },
     "execution_count": 145,
     "metadata": {},
     "output_type": "execute_result"
    }
   ],
   "source": [
    "df5=df.loc[['a1','a2'],:]#取出a1,a2两行的所有列\n",
    "df5"
   ],
   "metadata": {
    "collapsed": false,
    "ExecuteTime": {
     "end_time": "2023-06-18T03:28:16.996629600Z",
     "start_time": "2023-06-18T03:28:16.979859700Z"
    }
   }
  },
  {
   "cell_type": "code",
   "execution_count": 152,
   "outputs": [
    {
     "data": {
      "text/plain": "   name  B   c  D\na1   张三 -2  -2 -1\na2   李四 -2  -2  0\na3   王五  0   0 -3\na4   王五  0 -77  0\na5   华子  0   0  0",
      "text/html": "<div>\n<style scoped>\n    .dataframe tbody tr th:only-of-type {\n        vertical-align: middle;\n    }\n\n    .dataframe tbody tr th {\n        vertical-align: top;\n    }\n\n    .dataframe thead th {\n        text-align: right;\n    }\n</style>\n<table border=\"1\" class=\"dataframe\">\n  <thead>\n    <tr style=\"text-align: right;\">\n      <th></th>\n      <th>name</th>\n      <th>B</th>\n      <th>c</th>\n      <th>D</th>\n    </tr>\n  </thead>\n  <tbody>\n    <tr>\n      <th>a1</th>\n      <td>张三</td>\n      <td>-2</td>\n      <td>-2</td>\n      <td>-1</td>\n    </tr>\n    <tr>\n      <th>a2</th>\n      <td>李四</td>\n      <td>-2</td>\n      <td>-2</td>\n      <td>0</td>\n    </tr>\n    <tr>\n      <th>a3</th>\n      <td>王五</td>\n      <td>0</td>\n      <td>0</td>\n      <td>-3</td>\n    </tr>\n    <tr>\n      <th>a4</th>\n      <td>王五</td>\n      <td>0</td>\n      <td>-77</td>\n      <td>0</td>\n    </tr>\n    <tr>\n      <th>a5</th>\n      <td>华子</td>\n      <td>0</td>\n      <td>0</td>\n      <td>0</td>\n    </tr>\n  </tbody>\n</table>\n</div>"
     },
     "execution_count": 152,
     "metadata": {},
     "output_type": "execute_result"
    }
   ],
   "source": [
    "flag=df['B'].astype(int).map(lambda x:x<0)#astype转为int类型，map返回小于0的值为true\n",
    "df.loc[flag,'B'],df.loc[flag,'c']=df.loc[flag,'c'],df.loc[flag,'B']#满足 flag 条件的行，并选择列 'B',并进行交换\n",
    "df"
   ],
   "metadata": {
    "collapsed": false,
    "ExecuteTime": {
     "end_time": "2023-06-18T03:39:15.862620500Z",
     "start_time": "2023-06-18T03:39:15.841162600Z"
    }
   }
  }
 ],
 "metadata": {
  "kernelspec": {
   "display_name": "Python 3 (ipykernel)",
   "language": "python",
   "name": "python3"
  }
 },
 "nbformat": 4,
 "nbformat_minor": 5
}
